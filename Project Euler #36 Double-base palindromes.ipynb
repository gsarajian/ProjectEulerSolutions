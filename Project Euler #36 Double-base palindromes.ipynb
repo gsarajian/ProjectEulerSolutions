{
 "cells": [
  {
   "cell_type": "markdown",
   "id": "17f372f0",
   "metadata": {},
   "source": [
    "## The decimal number, $585 = 1001001001_2$ (binary), is palindromic in both bases.\n",
    "\n",
    "## Find the sum of all numbers, less than one million, which are palindromic in base 10 and base 2.\n",
    "\n",
    "## (Please note that the palindromic number, in either base, may not include leading zeros.)"
   ]
  },
  {
   "cell_type": "markdown",
   "id": "00f29661",
   "metadata": {},
   "source": [
    "**Solution(s):**\n",
    "\n",
    "We define a function that checks if a string is a palindrome then apply it on each $i$ less than 1 million."
   ]
  },
  {
   "cell_type": "code",
   "execution_count": null,
   "id": "75f3e3cb",
   "metadata": {},
   "outputs": [],
   "source": [
    "from math import ceil"
   ]
  },
  {
   "cell_type": "code",
   "execution_count": 1,
   "id": "b75502b1",
   "metadata": {},
   "outputs": [],
   "source": [
    "def isPal(s):\n",
    "    # A function that takes in a string s and returns True if the string is a palindrome and False otherwise\n",
    "    n = len(s)\n",
    "    for i in range(n//2):\n",
    "        if s[i] != s[n-i-1]:\n",
    "            return False\n",
    "    return True"
   ]
  },
  {
   "cell_type": "code",
   "execution_count": 7,
   "id": "3101574d",
   "metadata": {},
   "outputs": [
    {
     "data": {
      "text/plain": [
       "872187"
      ]
     },
     "execution_count": 7,
     "metadata": {},
     "output_type": "execute_result"
    }
   ],
   "source": [
    "sm = 0\n",
    "for i in range(10**6):\n",
    "    # print(i, isPal(str(i)), bin(i)[2:], isPal(bin(i)[2:]))\n",
    "    if isPal(str(i)) and isPal(bin(i)[2:]):\n",
    "        sm += i\n",
    "sm"
   ]
  },
  {
   "cell_type": "code",
   "execution_count": null,
   "id": "784a23e5",
   "metadata": {},
   "outputs": [],
   "source": [
    "hash = set(cands)"
   ]
  },
  {
   "cell_type": "code",
   "execution_count": null,
   "id": "616e011b",
   "metadata": {},
   "outputs": [],
   "source": [
    "circulars = [] # to keep track of the circular primes"
   ]
  },
  {
   "cell_type": "code",
   "execution_count": null,
   "id": "1cee9c9c",
   "metadata": {},
   "outputs": [],
   "source": [
    "for prime in cands:\n",
    "    digs = list(str(prime))         # turn the prime into a list of its digits\n",
    "    l = len(digs)\n",
    "    rotPrime = True                 # used to capture if all rotations are primes\n",
    "    for i in range(1,l):\n",
    "        numb = digs[i]\n",
    "        for j in range(1,l):        # this loop puts together the rotation\n",
    "            numb += digs[(i + j) % l]   \n",
    "        numb = int(numb)\n",
    "        if numb not in hash:        # check if the rotation is a prime\n",
    "            rotPrime = False\n",
    "    if rotPrime:\n",
    "        circulars.append(prime)     "
   ]
  },
  {
   "cell_type": "code",
   "execution_count": null,
   "id": "11cd1278",
   "metadata": {},
   "outputs": [],
   "source": [
    "len(circulars)"
   ]
  }
 ],
 "metadata": {
  "kernelspec": {
   "display_name": "Python 3 (ipykernel)",
   "language": "python",
   "name": "python3"
  },
  "language_info": {
   "codemirror_mode": {
    "name": "ipython",
    "version": 3
   },
   "file_extension": ".py",
   "mimetype": "text/x-python",
   "name": "python",
   "nbconvert_exporter": "python",
   "pygments_lexer": "ipython3",
   "version": "3.10.6"
  }
 },
 "nbformat": 4,
 "nbformat_minor": 5
}
