{
 "cells": [
  {
   "cell_type": "markdown",
   "id": "8b1c21b9",
   "metadata": {},
   "source": [
    "<p>By replacing each of the letters in the word CARE with 1, 2, 9, and 6 respectively, we form a square number: 1296 = 36<sup>2</sup>. What is remarkable is that, by using the same digital substitutions, the anagram, RACE, also forms a square number: 9216 = 96<sup>2</sup>. We shall call CARE (and RACE) a square anagram word pair and specify further that leading zeroes are not permitted, neither may a different letter have the same digital value as another letter.</p>\n",
    "<p>Using <a href=\"https://projecteuler.net/project/resources/p098_words.txt\">words.txt</a> (right click and 'Save Link/Target As...'), a 16K text file containing nearly two-thousand common English words, find all the square anagram word pairs (a palindromic word is NOT considered to be an anagram of itself).</p>\n",
    "<p>What is the largest square number formed by any member of such a pair?</p>\n",
    "<p class=\"smaller\">NOTE: All anagrams formed must be contained in the given text file.</p>"
   ]
  },
  {
   "cell_type": "markdown",
   "id": "12e38f12",
   "metadata": {},
   "source": [
    "**Solution(s):**\n",
    "Once the text document is tokenized, we find all anagrams. We go through the anagrams by length order, starting from the longest ones. For each pair of words in an anagram, we assign the first one a square and check if the rearranged number is a square. If both are satisfied, we inspect the assignment and make sure no number is assigned to multiple letters. After we've found examples of anagramatic squares, we take the largest one."
   ]
  },
  {
   "cell_type": "code",
   "execution_count": null,
   "id": "19d8227b",
   "metadata": {},
   "outputs": [],
   "source": [
    "# read the file and create a list of the words. \n",
    "words = open(\"p098_words.txt\", \"r\")\n",
    "wrds = words.readline()\n",
    "palabras = []\n",
    "l = len(wrds)\n",
    "i = 0\n",
    "while wrds and i < l:\n",
    "    if \",\" in wrds:\n",
    "        ind = wrds.index(\",\")\n",
    "    else:\n",
    "        ind = len(wrds)\n",
    "    word = wrds[1:ind-1]\n",
    "    palabras.append(word)\n",
    "    i += len(word) + 3\n",
    "    wrds = wrds[len(word) + 3:]\n",
    "words.close()\n"
   ]
  },
  {
   "cell_type": "code",
   "execution_count": null,
   "id": "cdc07863",
   "metadata": {},
   "outputs": [],
   "source": [
    "palabras[:10]"
   ]
  },
  {
   "cell_type": "code",
   "execution_count": null,
   "id": "e5394406",
   "metadata": {},
   "outputs": [],
   "source": [
    "# Next we search for anagrams. We \n",
    "L = len(palabras)\n",
    "alphabetizedWords = [0]*L\n",
    "for i in range(L):\n",
    "    alphabetizedWords[i] = sorted(palabras[i])"
   ]
  },
  {
   "cell_type": "code",
   "execution_count": null,
   "id": "b2118e3d",
   "metadata": {},
   "outputs": [],
   "source": [
    "anagrams = []\n",
    "for i in range(L):\n",
    "    for j in range(i+1,L):\n",
    "        if alphabetizedWords[i] == alphabetizedWords[j]:\n",
    "            anagrams.append([palabras[i], palabras[j]])"
   ]
  },
  {
   "cell_type": "code",
   "execution_count": null,
   "id": "99630492",
   "metadata": {},
   "outputs": [],
   "source": [
    "max([len(a[0]) for a in anagrams])"
   ]
  },
  {
   "cell_type": "code",
   "execution_count": null,
   "id": "383f52d4",
   "metadata": {},
   "outputs": [],
   "source": [
    "# Attempting to find anagramatic squares of length 9\n",
    "longestAns = [a for a in anagrams if len(a[0]) == 9]"
   ]
  },
  {
   "cell_type": "code",
   "execution_count": null,
   "id": "4ae8195c",
   "metadata": {},
   "outputs": [],
   "source": [
    "squares = [a**2 for a in range(10**5)]\n",
    "nineSquares = [a for a in squares if len(str(a)) == 9]"
   ]
  },
  {
   "cell_type": "code",
   "execution_count": null,
   "id": "1a2602d6",
   "metadata": {},
   "outputs": [],
   "source": [
    "rearranged = [0]*9\n",
    "for square in nineSquares:\n",
    "    s = str(square)\n",
    "    for i in range(9):\n",
    "        spot = \"REDUCTION\".index(\"INTRODUCE\"[i])\n",
    "        rearranged[i] = s[spot]\n",
    "    out = \"\"\n",
    "    for i in range(9):\n",
    "        out += rearranged[i]\n",
    "    if int(out) in nineSquares:\n",
    "        print(square)"
   ]
  },
  {
   "cell_type": "code",
   "execution_count": null,
   "id": "74d6e463",
   "metadata": {},
   "outputs": [],
   "source": [
    "# Attempting to find those of length 8\n",
    "eightAns = [a for a in anagrams if len(a[0]) == 8]\n",
    "eightAns\n",
    "eightSquares = [a for a in squares if len(str(a)) == 8]\n",
    "rearranged = [0]*8\n",
    "for anagram in eightAns:\n",
    "    firstWord = anagram[0]\n",
    "    secondWord = anagram[1]\n",
    "    for square in eightSquares:\n",
    "        s = str(square)\n",
    "        for i in range(8):\n",
    "            spot = firstWord.index(secondWord[i])\n",
    "            rearranged[i] = s[spot]\n",
    "        out = \"\"\n",
    "        for i in range(8):\n",
    "            out += rearranged[i]\n",
    "        if int(out) in eightSquares:\n",
    "            print(anagram, square)"
   ]
  },
  {
   "cell_type": "code",
   "execution_count": null,
   "id": "4a42fb32",
   "metadata": {},
   "outputs": [],
   "source": [
    "# Keep reducing n until we find one.\n",
    "n = 5\n",
    "nAns = [a for a in anagrams if len(a[0]) == n]\n",
    "\n",
    "nSquares = [a for a in squares if len(str(a)) == n]\n",
    "rearranged = [0]*n\n",
    "for anagram in nAns:\n",
    "    firstWord = anagram[0]\n",
    "    secondWord = anagram[1]\n",
    "    for square in nSquares:\n",
    "        s = str(square)\n",
    "        for i in range(n):\n",
    "            spot = firstWord.index(secondWord[i])\n",
    "            rearranged[i] = s[spot]\n",
    "        out = \"\"\n",
    "        for i in range(n):\n",
    "            out += rearranged[i]\n",
    "        if int(out) in nSquares:\n",
    "            print(anagram, square)"
   ]
  }
 ],
 "metadata": {
  "kernelspec": {
   "display_name": "Python 3 (ipykernel)",
   "language": "python",
   "name": "python3"
  },
  "language_info": {
   "codemirror_mode": {
    "name": "ipython",
    "version": 3
   },
   "file_extension": ".py",
   "mimetype": "text/x-python",
   "name": "python",
   "nbconvert_exporter": "python",
   "pygments_lexer": "ipython3",
   "version": "3.10.6"
  }
 },
 "nbformat": 4,
 "nbformat_minor": 5
}
