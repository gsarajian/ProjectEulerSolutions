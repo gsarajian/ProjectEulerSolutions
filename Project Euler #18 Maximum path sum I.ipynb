{
 "cells": [
  {
   "cell_type": "markdown",
   "metadata": {},
   "source": [
    "## By starting at the top of the triangle below and moving to adjacent numbers on the row below, the maximum total from top to bottom is 23.\n",
    "\n",
    "3\n",
    "\n",
    "7 4\n",
    "\n",
    "2 4 6\n",
    "\n",
    "8 5 9 3\n",
    "\n",
    "## That is, $3 + 7 + 4 + 9 = 23$.\n",
    "\n",
    "## Find the maximum total from top to bottom of the triangle below:\n",
    "\n",
    "75\n",
    "\n",
    "95 64\n",
    "\n",
    "17 47 82\n",
    "\n",
    "18 35 87 10\n",
    "\n",
    "20 04 82 47 65\n",
    "\n",
    "19 01 23 75 03 34\n",
    "\n",
    "88 02 77 73 07 63 67\n",
    "\n",
    "99 65 04 28 06 16 70 92\n",
    "\n",
    "41 41 26 56 83 40 80 70 33\n",
    "\n",
    "41 48 72 33 47 32 37 16 94 29\n",
    "\n",
    "53 71 44 65 25 43 91 52 97 51 14\n",
    "\n",
    "70 11 33 28 77 73 17 78 39 68 17 57\n",
    "\n",
    "91 71 52 38 17 14 91 43 58 50 27 29 48\n",
    "\n",
    "63 66 04 68 89 53 67 30 73 16 69 87 40 31\n",
    "\n",
    "04 62 98 27 23 09 70 98 73 93 38 53 60 04 23\n",
    "\n",
    "## NOTE: As there are only 16384 routes, it is possible to solve this problem by trying every route. However, Problem 67, is the same challenge with a triangle containing one-hundred rows; it cannot be solved by brute force, and requires a clever method! ;o)"
   ]
  },
  {
   "cell_type": "markdown",
   "metadata": {},
   "source": [
    "**Solution(s):** \n",
    "\n",
    "Like the note says, we could brute force this, but to be more efficient, we'll use dynamic programming. Specifically, we'll use the [Viterbi algorithm](https://en.wikipedia.org/wiki/Viterbi_algorithm). After setting the problem up in a way that we can work with, the idea is to go row by row from the top to the bottom and for each entry, compute the maximum subtotal of paths that start at the top and end at that entry. To compute that maximum, we only need to add that entry's value to the maximum of the two maxima subpath's values in the entries above it (if it's not on the edge, the edge entries only have one path going through them). Once we've reached the bottom, we can look at which one is the maximum."
   ]
  },
  {
   "cell_type": "code",
   "execution_count": null,
   "metadata": {},
   "outputs": [],
   "source": [
    "# Start by setting the problem up. Start with the string\n",
    "s = \"\"\"75\n",
    "95 64\n",
    "17 47 82\n",
    "18 35 87 10\n",
    "20 04 82 47 65\n",
    "19 01 23 75 03 34\n",
    "88 02 77 73 07 63 67\n",
    "99 65 04 28 06 16 70 92\n",
    "41 41 26 56 83 40 80 70 33\n",
    "41 48 72 33 47 32 37 16 94 29\n",
    "53 71 44 65 25 43 91 52 97 51 14\n",
    "70 11 33 28 77 73 17 78 39 68 17 57\n",
    "91 71 52 38 17 14 91 43 58 50 27 29 48\n",
    "63 66 04 68 89 53 67 30 73 16 69 87 40 31\n",
    "04 62 98 27 23 09 70 98 73 93 38 53 60 04 23\"\"\""
   ]
  },
  {
   "cell_type": "code",
   "execution_count": null,
   "metadata": {},
   "outputs": [],
   "source": [
    "# convert the string into a lower triangular matrix \n",
    "# Matrix's entries are arrays with the values and the subtotals that we'll compute\n",
    "triangle = [0]*15\n",
    "for i in range(15):\n",
    "    rw = []\n",
    "    for j in range(15):\n",
    "        if j <= i:\n",
    "            rw.append([int(s[3*(int(i*(i+1)/2) + j):3*int((i*(i+1)/2) + j)+2]),0])\n",
    "        else:\n",
    "            rw.append([0,0])\n",
    "    triangle[i] = rw"
   ]
  },
  {
   "cell_type": "code",
   "execution_count": null,
   "metadata": {},
   "outputs": [],
   "source": [
    "# start the process by making the first entry's subtotal the value itself.\n",
    "triangle[0][0][1] = 75\n",
    "\n",
    "# for later rows, go through each entry of the row and compute the max subtotal of paths ending that entry\n",
    "# we're relying on an induction hypothesis here, assuming that the previous row has the correct maxima. \n",
    "for i in range(1,15):\n",
    "    for j in range(i+1):\n",
    "        triangle[i][j][1] = triangle[i][j][0]+ max(triangle[i-1][j][1], triangle[i-1][j-1][1])\n",
    "    # print(triangle[i][:i+1])"
   ]
  },
  {
   "cell_type": "code",
   "execution_count": null,
   "metadata": {},
   "outputs": [],
   "source": [
    "# Finally, take the maximum of the second value of the entries in the last row\n",
    "max([ent[1] for ent in triangle[14]])"
   ]
  }
 ],
 "metadata": {
  "kernelspec": {
   "display_name": "Python 3",
   "language": "python",
   "name": "python3"
  },
  "language_info": {
   "codemirror_mode": {
    "name": "ipython",
    "version": 3
   },
   "file_extension": ".py",
   "mimetype": "text/x-python",
   "name": "python",
   "nbconvert_exporter": "python",
   "pygments_lexer": "ipython3",
   "version": "3.8.5"
  }
 },
 "nbformat": 4,
 "nbformat_minor": 4
}
