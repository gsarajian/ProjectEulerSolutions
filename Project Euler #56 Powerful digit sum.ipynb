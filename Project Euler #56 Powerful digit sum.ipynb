{
 "cells": [
  {
   "cell_type": "markdown",
   "id": "8b1c21b9",
   "metadata": {},
   "source": [
    "## A googol ($10^{100}$) is a massive number: one followed by one-hundred zeros; $100^{100}$ is almost unimaginably large: one followed by two-hundred zeros. Despite their size, the sum of the digits in each number is only 1.\n",
    "\n",
    "## Considering natural numbers of the form, $a^b$, where $a, b < 100$, what is the maximum digital sum?"
   ]
  },
  {
   "cell_type": "markdown",
   "id": "12e38f12",
   "metadata": {},
   "source": [
    "**Solution(s):**\n",
    "We simply brute force, checking all the possible values' digital sums. We find the sum by converting $a^b$ into a string, then iterating the string and converting the digits back to integers. We could also use modular arithmetic."
   ]
  },
  {
   "cell_type": "code",
   "execution_count": null,
   "id": "ee4f294d",
   "metadata": {},
   "outputs": [],
   "source": [
    "mx = 0                                                # keeps track of the largest digital sum we've found so far\n",
    "for a in range(1,100):\n",
    "    for b in range(1,100):\n",
    "        num = a**b                                    \n",
    "        tot = 0\n",
    "        s = str(num)\n",
    "        tot = sum([int(s[i]) for i in range(len(s))])\n",
    "        mx = max(mx, tot)                             # check if we found a new maximum\n",
    "        \n",
    "mx"
   ]
  }
 ],
 "metadata": {
  "kernelspec": {
   "display_name": "Python 3 (ipykernel)",
   "language": "python",
   "name": "python3"
  },
  "language_info": {
   "codemirror_mode": {
    "name": "ipython",
    "version": 3
   },
   "file_extension": ".py",
   "mimetype": "text/x-python",
   "name": "python",
   "nbconvert_exporter": "python",
   "pygments_lexer": "ipython3",
   "version": "3.9.13"
  }
 },
 "nbformat": 4,
 "nbformat_minor": 5
}
