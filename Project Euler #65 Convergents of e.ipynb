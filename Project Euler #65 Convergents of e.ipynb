{
 "cells": [
  {
   "cell_type": "markdown",
   "id": "3c8cd628",
   "metadata": {},
   "source": [
    "<p>The square root of 2 can be written as an infinite continued fraction.</p>\n",
    "<p>$\\sqrt{2} = 1 + \\dfrac{1}{2 + \\dfrac{1}{2 + \\dfrac{1}{2 + \\dfrac{1}{2 + ...}}}}$</p>\n",
    "<p>The infinite continued fraction can be written, $\\sqrt{2} = [1; (2)]$, $(2)$ indicates that 2 repeats <i>ad infinitum</i>. In a similar way, $\\sqrt{23} = [4; (1, 3, 1, 8)]$.</p>\n",
    "<p>It turns out that the sequence of partial values of continued fractions for square roots provide the best rational approximations. Let us consider the convergents for $\\sqrt{2}$.</p>\n",
    "<p>$\\begin{align}\n",
    "1 + \\dfrac{1}{2} = \\dfrac{3}{2} \\\\\n",
    "1 + \\dfrac{1}{2 + \\dfrac{1}{2}} = \\dfrac{7}{5}\\\\\n",
    "1 + \\dfrac{1}{2 + \\dfrac{1}{2 + \\dfrac{1}{2}}} = \\dfrac{17}{12}\\\\\n",
    "1 + \\dfrac{1}{2 + \\dfrac{1}{2 + \\dfrac{1}{2 + \\dfrac{1}{2}}}} = \\dfrac{41}{29}\n",
    "\\end{align}$</p>\n",
    "<p>Hence the sequence of the first ten convergents for $\\sqrt{2}$ are:</p>\n",
    "<p>$1, \\dfrac{3}{2}, \\dfrac{7}{5}, \\dfrac{17}{12}, \\dfrac{41}{29}, \\dfrac{99}{70}, \\dfrac{239}{169}, \\dfrac{577}{408}, \\dfrac{1393}{985}, \\dfrac{3363}{2378}, ...$</p>\n",
    "<p>What is most surprising is that the important mathematical constant,<br />$e = [2; 1, 2, 1, 1, 4, 1, 1, 6, 1, ... , 1, 2k, 1, ...]$.</p>\n",
    "<p>The first ten terms in the sequence of convergents for <i>e</i> are:</p>\n",
    "<p>$2, 3, \\dfrac{8}{3}, \\dfrac{11}{4}, \\dfrac{19}{7}, \\dfrac{87}{32}, \\dfrac{106}{39}, \\dfrac{193}{71}, \\dfrac{1264}{465}, \\dfrac{1457}{536}, ...$</p>\n",
    "<p>The sum of digits in the numerator of the 10<sup>th</sup> convergent is $1 + 4 + 5 + 7 = 17$.</p>\n",
    "<p>Find the sum of digits in the numerator of the 100<sup>th</sup> convergent of the continued fraction for $e$.</p>"
   ]
  },
  {
   "cell_type": "markdown",
   "id": "12e38f12",
   "metadata": {},
   "source": [
    "**Solution(s):**\n",
    "Notice that we can easily construct the next convergent given the previous two convergents and the next term m in the infinite fraction representation. The numerator of the next term is equal to the sum of the numerator from two terms ago and the product of the previous numerator and the current term in the infinite fractional representation.\n",
    "\n",
    "In other words, if the $n$th convergent is $a_n/b_n$ and the $n$th term in the representation $e = [2, 1, 2, ... ]$ is denoted $c_n$, then \n",
    "\n",
    "$$a_{n+1} = c_n \\cdot a_n + a_{n-1}$$\n",
    "$$b_{n+1} = c_n \\cdot a_n + b_{n-1}$$"
   ]
  },
  {
   "cell_type": "code",
   "execution_count": null,
   "id": "ee4f294d",
   "metadata": {},
   "outputs": [],
   "source": [
    "# create a List of the terms in the infinite frational representation\n",
    "coFrac = [1 for i in range(103)]\n",
    "for i in range(33):\n",
    "    coFrac[3*i] = 2*i+2"
   ]
  },
  {
   "cell_type": "code",
   "execution_count": null,
   "id": "6ec6358f",
   "metadata": {},
   "outputs": [],
   "source": [
    "cur = [3,1]\n",
    "prev = [2,1]\n",
    "for i in range(98):\n",
    "    new = [cur[0]*coFrac[i] + prev[0], cur[1]*coFrac[i] + prev[1]]\n",
    "    # print(i, new)\n",
    "    prev = cur\n",
    "    cur = new\n",
    "i, new"
   ]
  },
  {
   "cell_type": "code",
   "execution_count": null,
   "id": "0b691c45",
   "metadata": {},
   "outputs": [],
   "source": [
    "sum([int(str(new[0])[i]) for i in range(len(str(new[0])))])"
   ]
  }
 ],
 "metadata": {
  "kernelspec": {
   "display_name": "Python 3 (ipykernel)",
   "language": "python",
   "name": "python3"
  },
  "language_info": {
   "codemirror_mode": {
    "name": "ipython",
    "version": 3
   },
   "file_extension": ".py",
   "mimetype": "text/x-python",
   "name": "python",
   "nbconvert_exporter": "python",
   "pygments_lexer": "ipython3",
   "version": "3.9.13"
  }
 },
 "nbformat": 4,
 "nbformat_minor": 5
}
