{
 "cells": [
  {
   "cell_type": "markdown",
   "id": "17f372f0",
   "metadata": {},
   "source": [
    "## We shall say that an $n$-digit number is pandigital if it makes use of all the digits 1 to $n$ exactly once. For example, $2143$ is a $4$-digit pandigital and is also prime.\n",
    "\n",
    "## What is the largest $n$-digit pandigital prime that exists?"
   ]
  },
  {
   "cell_type": "markdown",
   "id": "00f29661",
   "metadata": {},
   "source": [
    "**Solution(s):**\n",
    "\n",
    "No 8 or 9-digit pandigital number will be prime since the sum of the digits will be a multiple of 3. Thus, we start by considering 7-pandigital numbers and reducing. We generate a table of prime values less than $10^7$ and go through them in reverse order, checking if they're pandigital."
   ]
  },
  {
   "cell_type": "code",
   "execution_count": null,
   "id": "75f3e3cb",
   "metadata": {},
   "outputs": [],
   "source": [
    "from math import ceil, sqrt, floor"
   ]
  },
  {
   "cell_type": "code",
   "execution_count": null,
   "id": "6ca954fa",
   "metadata": {},
   "outputs": [],
   "source": [
    "def primesLessThan(n):\n",
    "    # A function that returns an array of all the primes less than or equal to n\n",
    "    primes = [2]        #the second component is positive iff the first component is a prime.\n",
    "    cands = [[i,1] for i in range(n+1)]\n",
    "    bgstPrime = primes[-1] #biggest prime in our list\n",
    "    i = 2\n",
    "    while bgstPrime <= sqrt(n):\n",
    "        #cands = [[i,1] for i in range(bgstPrime+1, bgstPrime**2)] #generate a list of candidates\n",
    "        pr = cands[i][0]\n",
    "        for k in range(ceil((n+1)/pr)):\n",
    "            cands[k*pr][1] -= 1 #this is crossing off the multiples of our previous primes\n",
    "        i += 1\n",
    "        while cands[i][1] <= 0:\n",
    "            i += 1\n",
    "        primes.append(i)\n",
    "        bgstPrime = i\n",
    "    primes.extend([a[0] for a in cands[floor(sqrt(n)):] if a[1] >0])\n",
    "    return [m for m in primes if m <= n]"
   ]
  },
  {
   "cell_type": "code",
   "execution_count": null,
   "id": "3101574d",
   "metadata": {},
   "outputs": [],
   "source": [
    "cands = primesLessThan(10**7)"
   ]
  },
  {
   "cell_type": "code",
   "execution_count": null,
   "id": "616e011b",
   "metadata": {},
   "outputs": [],
   "source": [
    "#for i in range(1,len(cands)):\n",
    "for i in range(1,200000):\n",
    "    cand = str(cands[-i])\n",
    "    panDig = True\n",
    "    for j in range(1,8):\n",
    "        dig = str(j)\n",
    "        if dig not in list(cand):\n",
    "            panDig = False\n",
    "    if panDig:\n",
    "        print(cand)\n",
    "        break"
   ]
  }
 ],
 "metadata": {
  "kernelspec": {
   "display_name": "Python 3 (ipykernel)",
   "language": "python",
   "name": "python3"
  },
  "language_info": {
   "codemirror_mode": {
    "name": "ipython",
    "version": 3
   },
   "file_extension": ".py",
   "mimetype": "text/x-python",
   "name": "python",
   "nbconvert_exporter": "python",
   "pygments_lexer": "ipython3",
   "version": "3.10.6"
  }
 },
 "nbformat": 4,
 "nbformat_minor": 5
}
