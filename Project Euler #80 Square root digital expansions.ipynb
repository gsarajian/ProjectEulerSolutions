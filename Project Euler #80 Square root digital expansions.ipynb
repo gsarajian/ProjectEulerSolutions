{
 "cells": [
  {
   "cell_type": "markdown",
   "id": "8b1c21b9",
   "metadata": {},
   "source": [
    "<p>It is well known that if the square root of a natural number is not an integer, then it is irrational. The decimal expansion of such square roots is infinite without any repeating pattern at all.</p>\n",
    "<p>The square root of two is 1.41421356237309504880..., and the digital sum of the first one hundred decimal digits is 475.</p>\n",
    "<p>For the first one hundred natural numbers, find the total of the digital sums of the first one hundred decimal digits for all the irrational square roots.</p>"
   ]
  },
  {
   "cell_type": "markdown",
   "id": "12e38f12",
   "metadata": {},
   "source": [
    "**Solution(s):**\n",
    "We use the Decimal package to help us compute the irrational square roots up to the desired precision. For nonsquare $i$, we convert the square root to a string, then convert that to a list of integers, which we'll sum up. "
   ]
  },
  {
   "cell_type": "code",
   "execution_count": 1,
   "id": "e88327f6",
   "metadata": {},
   "outputs": [],
   "source": [
    "from math import ceil, sqrt, floor\n",
    "import numpy as np\n",
    "from decimal import *"
   ]
  },
  {
   "cell_type": "code",
   "execution_count": 88,
   "id": "6f8a37bf",
   "metadata": {},
   "outputs": [
    {
     "name": "stdout",
     "output_type": "stream",
     "text": [
      "1.4142135623730951454746218587388284504413604736328125\n",
      "2.00000000000000027343234630647692806884916507957232351955020204815893780647684252471663057804107666015625\n",
      "1.41421356237309504880168872420969807856967187537694807317667973799073247846210703885038753432764157273501384623091229702492483605585073721264412149709993583141322266592750559275579995050115278206057147010955997160597027453459686201472851741864088919860955232923048430871432145083976260362799525140799\n",
      "2.00000000000000000000000000000000000000000000000000000000000000000000000000000000000000000000000000000000000000000000000000000000000000000000000000000000000000000000000000000000000000000000000000000000000000000000000000000000000000000000000000000000000000000000000000000000000000000000000000000000000\n"
     ]
    }
   ],
   "source": [
    "# This shows the difference in increase precision, computing sqrt(2) two different ways.\n",
    "getcontext().prec = 300\n",
    "print(Decimal(sqrt(2)))\n",
    "print((Decimal(sqrt(2)))**2)\n",
    "print(Decimal(2)**Decimal(0.5))\n",
    "print((Decimal(2)**Decimal(0.5))**Decimal(2))"
   ]
  },
  {
   "cell_type": "code",
   "execution_count": 87,
   "id": "cd354830",
   "metadata": {},
   "outputs": [
    {
     "data": {
      "text/plain": [
       "475"
      ]
     },
     "execution_count": 87,
     "metadata": {},
     "output_type": "execute_result"
    }
   ],
   "source": [
    "# Confirm the sum matches that from the prompt\n",
    "sum([int(a) for a in list(str(Decimal(2)**Decimal(0.5))[:101]) if a != '.'])"
   ]
  },
  {
   "cell_type": "code",
   "execution_count": 90,
   "id": "781cc504",
   "metadata": {},
   "outputs": [],
   "source": [
    "squares = [a**2 for a in range(1,11)]"
   ]
  },
  {
   "cell_type": "code",
   "execution_count": 93,
   "id": "f64b8972",
   "metadata": {},
   "outputs": [],
   "source": [
    "tot = 0\n",
    "for i in range(1,101):\n",
    "    if i not in squares:\n",
    "        # Create a list of the first 100 digits\n",
    "        lst = [int(a) for a in list(str(Decimal(i)**Decimal(0.5))[:101]) if a != '.']\n",
    "        tot +=sum(lst)"
   ]
  },
  {
   "cell_type": "code",
   "execution_count": 94,
   "id": "6274905f",
   "metadata": {},
   "outputs": [
    {
     "data": {
      "text/plain": [
       "40886"
      ]
     },
     "execution_count": 94,
     "metadata": {},
     "output_type": "execute_result"
    }
   ],
   "source": [
    "tot"
   ]
  }
 ],
 "metadata": {
  "kernelspec": {
   "display_name": "Python 3 (ipykernel)",
   "language": "python",
   "name": "python3"
  },
  "language_info": {
   "codemirror_mode": {
    "name": "ipython",
    "version": 3
   },
   "file_extension": ".py",
   "mimetype": "text/x-python",
   "name": "python",
   "nbconvert_exporter": "python",
   "pygments_lexer": "ipython3",
   "version": "3.9.13"
  }
 },
 "nbformat": 4,
 "nbformat_minor": 5
}
