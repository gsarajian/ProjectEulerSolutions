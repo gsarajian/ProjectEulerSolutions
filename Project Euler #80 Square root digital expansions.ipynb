{
 "cells": [
  {
   "cell_type": "markdown",
   "id": "8b1c21b9",
   "metadata": {},
   "source": [
    "<p>It is well known that if the square root of a natural number is not an integer, then it is irrational. The decimal expansion of such square roots is infinite without any repeating pattern at all.</p>\n",
    "<p>The square root of two is 1.41421356237309504880..., and the digital sum of the first one hundred decimal digits is 475.</p>\n",
    "<p>For the first one hundred natural numbers, find the total of the digital sums of the first one hundred decimal digits for all the irrational square roots.</p>"
   ]
  },
  {
   "cell_type": "markdown",
   "id": "12e38f12",
   "metadata": {},
   "source": [
    "**Solution(s):**\n",
    "We use the Decimal package to help us compute the irrational square roots up to the desired precision. For nonsquare $i$, we convert the square root to a string, then convert that to a list of integers, which we'll sum up. "
   ]
  },
  {
   "cell_type": "code",
   "execution_count": null,
   "id": "e88327f6",
   "metadata": {},
   "outputs": [],
   "source": [
    "from math import ceil, sqrt, floor\n",
    "import numpy as np\n",
    "from decimal import *"
   ]
  },
  {
   "cell_type": "code",
   "execution_count": null,
   "id": "7d18024e",
   "metadata": {},
   "outputs": [],
   "source": [
    "# This shows the difference in increase precision, computing sqrt(2) two different ways.\n",
    "getcontext().prec = 300\n",
    "print(Decimal(sqrt(2)))\n",
    "print((Decimal(sqrt(2)))**2)\n",
    "print(Decimal(2)**Decimal(0.5))\n",
    "print((Decimal(2)**Decimal(0.5))**Decimal(2))"
   ]
  },
  {
   "cell_type": "code",
   "execution_count": null,
   "id": "0d05cc0a",
   "metadata": {},
   "outputs": [],
   "source": [
    "# Confirm the sum matches that from the prompt\n",
    "sum([int(a) for a in list(str(Decimal(2)**Decimal(0.5))[:101]) if a != '.'])"
   ]
  },
  {
   "cell_type": "code",
   "execution_count": null,
   "id": "52dc817f",
   "metadata": {},
   "outputs": [],
   "source": [
    "squares = [a**2 for a in range(1,11)]"
   ]
  },
  {
   "cell_type": "code",
   "execution_count": null,
   "id": "42c12b83",
   "metadata": {},
   "outputs": [],
   "source": [
    "tot = 0\n",
    "for i in range(1,101):\n",
    "    if i not in squares:\n",
    "        # Create a list of the first 100 digits\n",
    "        lst = [int(a) for a in list(str(Decimal(i)**Decimal(0.5))[:101]) if a != '.']\n",
    "        tot +=sum(lst)"
   ]
  },
  {
   "cell_type": "code",
   "execution_count": null,
   "id": "6a9642b8",
   "metadata": {},
   "outputs": [],
   "source": [
    "tot"
   ]
  }
 ],
 "metadata": {
  "kernelspec": {
   "display_name": "Python 3 (ipykernel)",
   "language": "python",
   "name": "python3"
  },
  "language_info": {
   "codemirror_mode": {
    "name": "ipython",
    "version": 3
   },
   "file_extension": ".py",
   "mimetype": "text/x-python",
   "name": "python",
   "nbconvert_exporter": "python",
   "pygments_lexer": "ipython3",
   "version": "3.9.13"
  }
 },
 "nbformat": 4,
 "nbformat_minor": 5
}
