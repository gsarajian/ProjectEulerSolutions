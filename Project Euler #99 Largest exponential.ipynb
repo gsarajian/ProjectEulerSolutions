{
 "cells": [
  {
   "cell_type": "markdown",
   "id": "8b1c21b9",
   "metadata": {},
   "source": [
    "<p>Comparing two numbers written in index form like 2<sup>11</sup> and 3<sup>7</sup> is not difficult, as any calculator would confirm that 2<sup>11</sup> = 2048 &lt; 3<sup>7</sup> = 2187.</p>\n",
    "<p>However, confirming that 632382<sup>518061</sup> &gt; 519432<sup>525806</sup> would be much more difficult, as both numbers contain over three million digits.</p>\n",
    "<p>Using <a href=\"https://projecteuler.net/project/resources/p099_base_exp.txt\">base_exp.txt</a> (right click and 'Save Link/Target As...'), a 22K text file containing one thousand lines with a base/exponent pair on each line, determine which line number has the greatest numerical value.</p>\n",
    "<p class=\"smaller\">NOTE: The first two lines in the file represent the numbers in the example given above.</p>"
   ]
  },
  {
   "cell_type": "markdown",
   "id": "12e38f12",
   "metadata": {},
   "source": [
    "**Solution(s):**\n",
    "Once the text document is tokenized, we compare values by taking the log of each base/exponent pair. So instead of comparing $a^b$ and $c^d$, we compare $b \\log a$ and $d \\log c$."
   ]
  },
  {
   "cell_type": "code",
   "execution_count": null,
   "id": "eddd7a3c",
   "metadata": {},
   "outputs": [],
   "source": [
    "from math import log"
   ]
  },
  {
   "cell_type": "code",
   "execution_count": 31,
   "id": "19d8227b",
   "metadata": {},
   "outputs": [],
   "source": [
    "# read the file and create a list of the pairs. \n",
    "file = open(\"p099_base_exp.txt\", \"r\")\n",
    "line = file.readline()\n",
    "numbers = []\n",
    "\n",
    "while line:\n",
    "    ind = line.index(\",\")\n",
    "    numbers.append([int(line[:ind]), int(line[ind+1:-1])])\n",
    "    line = file.readline()\n",
    "file.close()"
   ]
  },
  {
   "cell_type": "code",
   "execution_count": 32,
   "id": "ccf8ece1",
   "metadata": {},
   "outputs": [
    {
     "data": {
      "text/plain": [
       "709"
      ]
     },
     "execution_count": 32,
     "metadata": {},
     "output_type": "execute_result"
    }
   ],
   "source": [
    "mx = 0\n",
    "lineNum = 0\n",
    "for i in range(len(numbers)):\n",
    "    line = numbers[i]\n",
    "    if line[1]*log(line[0]) > mx:\n",
    "        lineNum = i\n",
    "        mx = line[1]*log(line[0])\n",
    "lineNum+1"
   ]
  }
 ],
 "metadata": {
  "kernelspec": {
   "display_name": "Python 3 (ipykernel)",
   "language": "python",
   "name": "python3"
  },
  "language_info": {
   "codemirror_mode": {
    "name": "ipython",
    "version": 3
   },
   "file_extension": ".py",
   "mimetype": "text/x-python",
   "name": "python",
   "nbconvert_exporter": "python",
   "pygments_lexer": "ipython3",
   "version": "3.10.6"
  }
 },
 "nbformat": 4,
 "nbformat_minor": 5
}
