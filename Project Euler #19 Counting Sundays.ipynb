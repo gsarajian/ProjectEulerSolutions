{
 "cells": [
  {
   "cell_type": "markdown",
   "metadata": {},
   "source": [
    "## You are given the following information, but you may prefer to do some research for yourself.\n",
    "\n",
    "1 Jan 1900 was a Monday.\n",
    "Thirty days has September,\n",
    "April, June and November.\n",
    "All the rest have thirty-one,\n",
    "Saving February alone,\n",
    "Which has twenty-eight, rain or shine.\n",
    "And on leap years, twenty-nine.\n",
    "A leap year occurs on any year evenly divisible by 4, but not on a century unless it is divisible by 400.\n",
    "## How many Sundays fell on the first of the month during the twentieth century (1 Jan 1901 to 31 Dec 2000)?"
   ]
  },
  {
   "cell_type": "markdown",
   "metadata": {},
   "source": [
    "**Solution(s):** \n",
    "\n",
    "We go month by month and keep track of how many days offset from Sunday we are. We only need to keep track $\\mod 7$, and the amount of days. Since we start on a Monday, we'll have 0 represent Monday and 6 represent Sunday. "
   ]
  },
  {
   "cell_type": "code",
   "execution_count": null,
   "metadata": {},
   "outputs": [],
   "source": [
    "mos = [0,3,3,6,1,4,6,2,5,0,3,5] # cumulative offset for a regular year.  \n",
    "for i in range(12):\n",
    "    mos[i] = (mos[i] + ([2]*12)[i]) % 7 # Manually counted 1900, it's a difficult year to work with since it's not a leap year\n",
    "leaps = [0,0]\n",
    "leaps.extend([1]*10) # which months we'll have to shift over during leap years\n",
    "count = 0\n",
    "for j in range(100):\n",
    "    count += mos.count(0)\n",
    "    if j % 4 == 3: # leap year case\n",
    "        count = count - mos[2:].count(0) + mos[2:].count(6)\n",
    "        for i in range(12):\n",
    "            mos[i] = (mos[i] + ([2]*12)[i]) % 7\n",
    "    else:\n",
    "        for i in range(12):\n",
    "            mos[i] = (mos[i] + ([1]*12)[i]) % 7\n",
    "count"
   ]
  }
 ],
 "metadata": {
  "kernelspec": {
   "display_name": "Python 3",
   "language": "python",
   "name": "python3"
  },
  "language_info": {
   "codemirror_mode": {
    "name": "ipython",
    "version": 3
   },
   "file_extension": ".py",
   "mimetype": "text/x-python",
   "name": "python",
   "nbconvert_exporter": "python",
   "pygments_lexer": "ipython3",
   "version": "3.8.5"
  }
 },
 "nbformat": 4,
 "nbformat_minor": 4
}
