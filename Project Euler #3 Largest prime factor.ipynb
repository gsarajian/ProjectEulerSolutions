{
 "cells": [
  {
   "cell_type": "markdown",
   "metadata": {},
   "source": [
    "## The prime factors of 13195 are 5, 7, 13 and 29.\n",
    "\n",
    "## What is the largest prime factor of the number 600851475143?"
   ]
  },
  {
   "cell_type": "markdown",
   "metadata": {},
   "source": [
    "**Solutions:** \n",
    "\n",
    "We need to factor 600851475143, so perhaps use two dummy variables: \n",
    "- n, which we're currently trying to factor, initialized to 600851475143, and\n",
    "- i, which represents the current number that we're testing if it divides n. i will be initialized to 2 and will loop from $i \\in [1, \\sqrt{n}]$. \n",
    "\n",
    "If $i$ divides $n$, replace $n$ with $n/i$, and continue until we can't find such an $i$. "
   ]
  },
  {
   "cell_type": "code",
   "execution_count": null,
   "metadata": {},
   "outputs": [],
   "source": [
    "from math import sqrt\n",
    "\n",
    "# initialize our variables\n",
    "n = 600851475143\n",
    "i = 2\n",
    "\n",
    "# run the loop\n",
    "while i <= sqrt(n):\n",
    "    if n % i == 0:    # in this case, i divides n\n",
    "        n /= i        # replace n with n/i\n",
    "    else:\n",
    "        i += 1\n",
    "\n",
    "# what we're left with is the biggest prime divisor of 600851475143\n",
    "n"
   ]
  }
 ],
 "metadata": {
  "kernelspec": {
   "display_name": "Python 3",
   "language": "python",
   "name": "python3"
  },
  "language_info": {
   "codemirror_mode": {
    "name": "ipython",
    "version": 3
   },
   "file_extension": ".py",
   "mimetype": "text/x-python",
   "name": "python",
   "nbconvert_exporter": "python",
   "pygments_lexer": "ipython3",
   "version": "3.8.5"
  }
 },
 "nbformat": 4,
 "nbformat_minor": 4
}
