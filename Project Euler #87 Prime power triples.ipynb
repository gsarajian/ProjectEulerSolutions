{
 "cells": [
  {
   "cell_type": "markdown",
   "id": "8b1c21b9",
   "metadata": {},
   "source": [
    "<p>The smallest number expressible as the sum of a prime square, prime cube, and prime fourth power is 28. In fact, there are exactly four numbers below fifty that can be expressed in such a way:</p>\n",
    "<p class=\"margin_left\">28 = 2<sup>2</sup> + 2<sup>3</sup> + 2<sup>4</sup><br />\n",
    "33 = 3<sup>2</sup> + 2<sup>3</sup> + 2<sup>4</sup><br />\n",
    "49 = 5<sup>2</sup> + 2<sup>3</sup> + 2<sup>4</sup><br />\n",
    "47 = 2<sup>2</sup> + 3<sup>3</sup> + 2<sup>4</sup></p>\n",
    "<p>How many numbers below fifty million can be expressed as the sum of a prime square, prime cube, and prime fourth power?</p>\n"
   ]
  },
  {
   "cell_type": "markdown",
   "id": "12e38f12",
   "metadata": {},
   "source": [
    "**Solution(s):**\n",
    "We generate a list of all the primes less than $\\sqrt{5*10^7}$, then use this to create three lists: squares, cubes, and biquadratics of primes less than $5*10^7$. Once we have these lists, we look at all possible sums that have one summand from each, then throw out duplicates and those greater than our threshold. Once we've cleaned our list, we count it."
   ]
  },
  {
   "cell_type": "code",
   "execution_count": null,
   "id": "e88327f6",
   "metadata": {},
   "outputs": [],
   "source": [
    "from math import ceil, sqrt, floor\n",
    "import numpy as np"
   ]
  },
  {
   "cell_type": "code",
   "execution_count": null,
   "id": "90a39f5a",
   "metadata": {},
   "outputs": [],
   "source": [
    "def primesLessThan(n):\n",
    "    # A function that returns an array of all the primes less than or equal to n\n",
    "    primes = [2]        # the second component is positive iff the first component is a prime.\n",
    "    cands = [1 for i in range(n+1)]\n",
    "    bgstPrime = primes[-1] # biggest prime in our list\n",
    "    i = 2\n",
    "    while bgstPrime <= sqrt(n):\n",
    "        pr = i\n",
    "        for k in range(ceil((n+1)/pr)):\n",
    "            cands[k*pr] -= 1 # this is crossing off the multiples of our previous primes\n",
    "        i += 1\n",
    "        while cands[i] <= 0:\n",
    "            i += 1\n",
    "        primes.append(i)\n",
    "        bgstPrime = i\n",
    "    primes.extend([a for a in range(i+1,n+1) if cands[a]>0])\n",
    "    return [m for m in primes if m <= n]"
   ]
  },
  {
   "cell_type": "code",
   "execution_count": null,
   "id": "98f2da8e",
   "metadata": {},
   "outputs": [],
   "source": [
    "# Create three lists of primes, each cut off in a way so that we're not generating large powers of primes\n",
    "firstPrimes = primesLessThan(floor(sqrt(5*(10**7))))\n",
    "secondPrimes = primesLessThan(floor((5*(10**7))**(1/3)))\n",
    "thirdPrimes = primesLessThan(floor((5*(10**7))**(1/4)))"
   ]
  },
  {
   "cell_type": "code",
   "execution_count": null,
   "id": "aa862770",
   "metadata": {},
   "outputs": [],
   "source": [
    "# Use the lists of primes to generate squares, cubes, and biquadratics of primes.\n",
    "squarePrimes = [a**2 for a in firstPrimes]\n",
    "cubePrimes = [a**3 for a in secondPrimes]\n",
    "fourthPrimes = [a**4 for a in thirdPrimes]"
   ]
  },
  {
   "cell_type": "code",
   "execution_count": null,
   "id": "b0215b8d",
   "metadata": {},
   "outputs": [],
   "source": [
    "# Create a list of sums of the powers of primes.\n",
    "outs = []\n",
    "for a in squarePrimes:\n",
    "    for b in cubePrimes:\n",
    "        for c in fourthPrimes:\n",
    "            outs.append(a+b+c)"
   ]
  },
  {
   "cell_type": "code",
   "execution_count": null,
   "id": "bac77b34",
   "metadata": {},
   "outputs": [],
   "source": [
    "# Delete duplicates and those larger than our threshold\n",
    "noRepeats = [*set(outs)]\n",
    "reduced = [a for a in noRepeats if a < 5*10**7]\n",
    "reduced.sort()"
   ]
  },
  {
   "cell_type": "code",
   "execution_count": null,
   "id": "49a2a045",
   "metadata": {},
   "outputs": [],
   "source": [
    "print(reduced[:10], len(reduced))"
   ]
  }
 ],
 "metadata": {
  "kernelspec": {
   "display_name": "Python 3 (ipykernel)",
   "language": "python",
   "name": "python3"
  },
  "language_info": {
   "codemirror_mode": {
    "name": "ipython",
    "version": 3
   },
   "file_extension": ".py",
   "mimetype": "text/x-python",
   "name": "python",
   "nbconvert_exporter": "python",
   "pygments_lexer": "ipython3",
   "version": "3.9.13"
  }
 },
 "nbformat": 4,
 "nbformat_minor": 5
}
