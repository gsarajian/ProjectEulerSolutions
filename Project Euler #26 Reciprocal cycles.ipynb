{
 "cells": [
  {
   "cell_type": "markdown",
   "id": "17f372f0",
   "metadata": {},
   "source": [
    "## A unit fraction contains 1 in the numerator. The decimal representation of the unit fractions with denominators 2 to 10 are given:\n",
    "\n",
    "$$1/2\t= \t0.5$$\n",
    "$$1/3\t= \t0.(3)$$\n",
    "$$1/4\t= \t0.25$$\n",
    "$$1/5\t= \t0.2$$\n",
    "$$1/6\t= \t0.1(6)$$\n",
    "$$1/7\t= \t0.(142857)$$\n",
    "$$1/8\t= \t0.125$$\n",
    "$$1/9\t= \t0.(1)$$\n",
    "$$1/10\t= \t0.1$$\n",
    "## Where $0.1(6)$ means $0.166666\\ldots$, and has a 1-digit recurring cycle. It can be seen that $1/7$ has a 6-digit recurring cycle.\n",
    "\n",
    "Find the value of $d < 1000$ for which $1/d$ contains the longest recurring cycle in its decimal fraction part."
   ]
  },
  {
   "cell_type": "markdown",
   "id": "00f29661",
   "metadata": {},
   "source": [
    "**Solution(s):**\n",
    "\n",
    "We compute the decimal expansion and keep track of the remainders that we've seen and when we've repeated one of them, we check the amount of terms in between the repeated ones. "
   ]
  },
  {
   "cell_type": "code",
   "execution_count": null,
   "id": "b7c3326d",
   "metadata": {},
   "outputs": [],
   "source": [
    "mx = 1\n",
    "for i in range(2, 1000):   # i is the denominator\n",
    "    remainders = []        # list of the remainders we've seen\n",
    "    curRem = 10            # current remainder\n",
    "    repeated = False\n",
    "    while not repeated and curRem != 0:\n",
    "        remainders.append(curRem)\n",
    "        if i <= curRem:\n",
    "            curRem -= i*(curRem//i)\n",
    "        else:\n",
    "            curRem *= 10\n",
    "        repeated = curRem in remainders\n",
    "    if len(remainders) > mx:\n",
    "        ind = i\n",
    "        mx = max(len(remainders), mx)\n",
    "\n",
    "# note that this might not exactly get the length of the cycle since we may be appending things to the remainder list \n",
    "# that don't necessarily lead to a digit in the expansion\n",
    "print(ind, mx)\n"
   ]
  }
 ],
 "metadata": {
  "kernelspec": {
   "display_name": "Python 3 (ipykernel)",
   "language": "python",
   "name": "python3"
  },
  "language_info": {
   "codemirror_mode": {
    "name": "ipython",
    "version": 3
   },
   "file_extension": ".py",
   "mimetype": "text/x-python",
   "name": "python",
   "nbconvert_exporter": "python",
   "pygments_lexer": "ipython3",
   "version": "3.10.6"
  }
 },
 "nbformat": 4,
 "nbformat_minor": 5
}
