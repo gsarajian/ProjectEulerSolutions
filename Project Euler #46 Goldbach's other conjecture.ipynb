{
 "cells": [
  {
   "cell_type": "markdown",
   "id": "17f372f0",
   "metadata": {},
   "source": [
    "## It was proposed by Christian Goldbach that every odd composite number can be written as the sum of a prime and twice a square.\n",
    "\n",
    "$$9 = 7 + 2×1^2$$\n",
    "$$15 = 7 + 2×2^2$$\n",
    "$$21 = 3 + 2×3^2$$\n",
    "$$25 = 7 + 2×3^2$$\n",
    "$$27 = 19 + 2×2^2$$\n",
    "$$33 = 31 + 2×1^2$$\n",
    "\n",
    "## It turns out that the conjecture was false.\n",
    "\n",
    "## What is the smallest odd composite that cannot be written as the sum of a prime and twice a square?"
   ]
  },
  {
   "cell_type": "markdown",
   "id": "00f29661",
   "metadata": {},
   "source": [
    "**Solution(s):**\n",
    "\n",
    "We generate a list of primes and squares and a list of candidates. We sieve through the candidates by looking at a prime plus twice a square and eliminate from consideration the candidates with that total. Then, we look at the smallest odd composite candidate that wasn't eliminated."
   ]
  },
  {
   "cell_type": "code",
   "execution_count": null,
   "id": "75f3e3cb",
   "metadata": {},
   "outputs": [],
   "source": [
    "from math import ceil, sqrt, floor"
   ]
  },
  {
   "cell_type": "code",
   "execution_count": null,
   "id": "6ca954fa",
   "metadata": {},
   "outputs": [],
   "source": [
    "def primesLessThan(n):\n",
    "    # A function that returns an array of all the primes less than or equal to n\n",
    "    primes = [2]        #the second component is positive iff the first component is a prime.\n",
    "    cands = [[i,1] for i in range(n+1)]\n",
    "    bgstPrime = primes[-1] #biggest prime in our list\n",
    "    i = 2\n",
    "    while bgstPrime <= sqrt(n):\n",
    "        #cands = [[i,1] for i in range(bgstPrime+1, bgstPrime**2)] #generate a list of candidates\n",
    "        pr = cands[i][0]\n",
    "        for k in range(ceil((n+1)/pr)):\n",
    "            cands[k*pr][1] -= 1 #this is crossing off the multiples of our previous primes\n",
    "        i += 1\n",
    "        while cands[i][1] <= 0:\n",
    "            i += 1\n",
    "        primes.append(i)\n",
    "        bgstPrime = i\n",
    "    primes.extend([a[0] for a in cands[floor(sqrt(n)):] if a[1] >0])\n",
    "    return [m for m in primes if m <= n]"
   ]
  },
  {
   "cell_type": "code",
   "execution_count": null,
   "id": "3101574d",
   "metadata": {},
   "outputs": [],
   "source": [
    "primes = primesLessThan(10**5)\n",
    "squares = [i**2 for i in range(1,1001)]"
   ]
  },
  {
   "cell_type": "code",
   "execution_count": null,
   "id": "52984023",
   "metadata": {},
   "outputs": [],
   "source": [
    "hshPrimes = set(primes)\n",
    "hshSquares = set(squares)"
   ]
  },
  {
   "cell_type": "code",
   "execution_count": null,
   "id": "0051b32b",
   "metadata": {},
   "outputs": [],
   "source": [
    "# Generate a list of candidates, we'll filter out primes and evens later.\n",
    "cands = [[i,1] for i in range(10**6)]"
   ]
  },
  {
   "cell_type": "code",
   "execution_count": null,
   "id": "fffb0b99",
   "metadata": {},
   "outputs": [],
   "source": [
    "for prime in primes:\n",
    "    for square in squares:\n",
    "        temp = prime + 2*square\n",
    "        if temp < 10**6 -2:\n",
    "            cands[temp][1] -= 1\n",
    "            "
   ]
  },
  {
   "cell_type": "code",
   "execution_count": null,
   "id": "a5a336df",
   "metadata": {},
   "outputs": [],
   "source": [
    "output = [cand for cand in cands if cand[1]>=1 and cand[0]%2 and not cand[0] in hshPrimes]"
   ]
  },
  {
   "cell_type": "code",
   "execution_count": null,
   "id": "cb836d3a",
   "metadata": {},
   "outputs": [],
   "source": [
    "#Get a list of the first 9 counterexamples, ignoring [1,1]\n",
    "output[:10]"
   ]
  }
 ],
 "metadata": {
  "kernelspec": {
   "display_name": "Python 3 (ipykernel)",
   "language": "python",
   "name": "python3"
  },
  "language_info": {
   "codemirror_mode": {
    "name": "ipython",
    "version": 3
   },
   "file_extension": ".py",
   "mimetype": "text/x-python",
   "name": "python",
   "nbconvert_exporter": "python",
   "pygments_lexer": "ipython3",
   "version": "3.10.6"
  }
 },
 "nbformat": 4,
 "nbformat_minor": 5
}
