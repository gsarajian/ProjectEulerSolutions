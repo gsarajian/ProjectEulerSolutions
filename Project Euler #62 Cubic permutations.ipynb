{
 "cells": [
  {
   "cell_type": "markdown",
   "id": "8b1c21b9",
   "metadata": {},
   "source": [
    "## The cube, $41063625 \\;(345^3)$, can be permuted to produce two other cubes: $56623104 \\; (384^3)$ and $66430125 \\; (405^3)$. In fact, $41063625$ is the smallest cube which has exactly three permutations of its digits which are also cube.\n",
    "\n",
    "## Find the smallest cube for which exactly five permutations of its digits are cube."
   ]
  },
  {
   "cell_type": "markdown",
   "id": "12e38f12",
   "metadata": {},
   "source": [
    "**Solution(s):**\n",
    "We convert a list of cubes into strings of digits. We then count the number of each digit and store those counts into a string. We use that string as a key for a dictionary which keeps track of which cubes have the same digits."
   ]
  },
  {
   "cell_type": "code",
   "execution_count": 37,
   "id": "96da4222",
   "metadata": {},
   "outputs": [
    {
     "name": "stdout",
     "output_type": "stream",
     "text": [
      "We have a winner! 8384 [5, 5027, 7061, 7202, 8288, 8384]\n",
      "127035954683\n"
     ]
    }
   ],
   "source": [
    "# initialize the dictionary\n",
    "digs = {}\n",
    "\n",
    "for i in range(10000):\n",
    "    \n",
    "    digits = [[l,str(i**3).count(l)] for l in list(str(i**3))]     # create a list of the digits of the cube\n",
    "    counts = [0]*10\n",
    "    for j in range(len(digits)):\n",
    "        counts[int(digits[j][0])] += digits[j][1]                  # count the number of each digit in the cube\n",
    "\n",
    "    strCounts = [str(a) for a in counts]                           # convert the counts into a list of strings\n",
    "    key = \"\".join(strCounts)                                       # convert the list of strings into one string, a key for our dictionary\n",
    "    \n",
    "    \n",
    "    # use dictionary to check how many cubes we've see with the same digits \n",
    "    if key in digs.keys():                                         # this means we've seen this key before, there's another cube with the same digits\n",
    "        digs[key][0] += 1\n",
    "        digs[key].append(i)\n",
    "        if digs[key][0] == 5:\n",
    "            print(\"We have a winner!\", i, digs[key])\n",
    "            break\n",
    "    else:\n",
    "        digs[key] = [1, i]\n",
    "print(digs[key][1]**3)"
   ]
  },
  {
   "cell_type": "code",
   "execution_count": 38,
   "id": "0b99c35e",
   "metadata": {},
   "outputs": [
    {
     "data": {
      "text/plain": [
       "[127035954683, 352045367981, 373559126408, 569310543872, 589323567104]"
      ]
     },
     "execution_count": 38,
     "metadata": {},
     "output_type": "execute_result"
    }
   ],
   "source": [
    "# double check by inspecting the digits of the cubes\n",
    "[i**3 for i in [5027, 7061, 7202, 8288, 8384]]"
   ]
  }
 ],
 "metadata": {
  "kernelspec": {
   "display_name": "Python 3 (ipykernel)",
   "language": "python",
   "name": "python3"
  },
  "language_info": {
   "codemirror_mode": {
    "name": "ipython",
    "version": 3
   },
   "file_extension": ".py",
   "mimetype": "text/x-python",
   "name": "python",
   "nbconvert_exporter": "python",
   "pygments_lexer": "ipython3",
   "version": "3.9.13"
  }
 },
 "nbformat": 4,
 "nbformat_minor": 5
}
