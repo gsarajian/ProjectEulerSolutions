{
 "cells": [
  {
   "cell_type": "markdown",
   "id": "3c8cd628",
   "metadata": {},
   "source": [
    "<p>Consider quadratic Diophantine equations of the form:</p>\n",
    "<p class=\"margin_left\"><i>x</i><sup>2</sup> – D<i>y</i><sup>2</sup> = 1</p>\n",
    "<p>For example, when D=13, the minimal solution in <i>x</i> is 649<sup>2</sup> – 13×180<sup>2</sup> = 1.</p>\n",
    "<p>It can be assumed that there are no solutions in positive integers when D is square.</p>\n",
    "<p>By finding minimal solutions in <i>x</i> for D = {2, 3, 5, 6, 7}, we obtain the following:</p>\n",
    "<p class=\"margin_left\">3<sup>2</sup> – 2×2<sup>2</sup> = 1<br />\n",
    "2<sup>2</sup> – 3×1<sup>2</sup> = 1<br /><span class=\"red strong\">9</span><sup>2</sup> – 5×4<sup>2</sup> = 1<br />\n",
    "5<sup>2</sup> – 6×2<sup>2</sup> = 1<br />\n",
    "8<sup>2</sup> – 7×3<sup>2</sup> = 1</p>\n",
    "<p>Hence, by considering minimal solutions in <i>x</i> for D ≤ 7, the largest <i>x</i> is obtained when D=5.</p>\n",
    "<p>Find the value of D ≤ 1000 in minimal solutions of <i>x</i> for which the largest value of <i>x</i> is obtained.</p>"
   ]
  },
  {
   "cell_type": "markdown",
   "id": "12e38f12",
   "metadata": {},
   "source": [
    "**Solution(s):**\n",
    "For each $D \\leq 1000$, we loop through possible solutions $x$ and $y$ until we find a minimal one. Instead of searching for solutions $(x,y)$ by looking in intervals, we check convergents, which, as described in the [Wikipedia page for Pell's equation](https://en.wikipedia.org/wiki/Pell%27s_equation), explains will give us the minimal solution (called the fundamental solution). We then compare which is largest amongst the minima."
   ]
  },
  {
   "cell_type": "code",
   "execution_count": null,
   "id": "92cc8a5b",
   "metadata": {},
   "outputs": [],
   "source": [
    "import math"
   ]
  },
  {
   "cell_type": "code",
   "execution_count": null,
   "id": "34a2af5a",
   "metadata": {},
   "outputs": [],
   "source": [
    "squares = [a**2 for a in range(40) if a**2 <= 1000]\n",
    "nonSquares = [a for a in range(1001) if a not in squares]"
   ]
  },
  {
   "cell_type": "code",
   "execution_count": null,
   "id": "95187930",
   "metadata": {},
   "outputs": [],
   "source": [
    "mxPair = [1,1]                                                                      # To keep track of largest x\n",
    "for D in nonSquares:\n",
    "    #First, create the representation as described in the solution to Problem 64\n",
    "    pair = [1,int(math.floor(D**(1/2)))]                                            # first pair of numbers\n",
    "    newPair = pair                                                                  # The current pair of numbers\n",
    "    entered = False\n",
    "    repn = [pair[1]]                                                                # Keeps track of the representation\n",
    "    while pair != newPair or not entered:\n",
    "        entered = True\n",
    "        repn.append(round((newPair[0])*(math.sqrt(D) + newPair[1])//(D - newPair[1]**2)))\n",
    "        temp = newPair\n",
    "\n",
    "        # Step 1\n",
    "        # Find the auxiliary denominator and numerator.\n",
    "        denom = (D - temp[1]**2)//temp[0]\n",
    "        g = math.gcd(temp[0], denom)\n",
    "        temp[0] /= g\n",
    "        num = (D**(1/2) + temp[1])\n",
    "\n",
    "        # Step 2\n",
    "        # Next we'll subtract off the term in the square root to give us a number that's less than 1\n",
    "        while num / denom >= 1:\n",
    "            num -= denom\n",
    "\n",
    "        # Step 3\n",
    "        # Set our current pair by flipping the fraction\n",
    "        newPair = [round(denom), round(D**(1/2) - num)]\n",
    "    \n",
    "    \n",
    "    # Now, compute and check the convergents by using the representation\n",
    "    i = 2                                                 # index to keep track of where in the representation we are\n",
    "    oldX = repn[0]\n",
    "    oldY = 1\n",
    "    x = 1 + oldX*repn[1]\n",
    "    y = repn[1]\n",
    "    \n",
    "    # We stay in this while loop until we have a solution\n",
    "    while round(x)**2 - D*(round(y)**2) != 1:\n",
    "        # Most of the time we won't be at the end of the represntation\n",
    "        if i < len(repn):\n",
    "            temp = [oldX, oldY]\n",
    "            oldX = x\n",
    "            oldY = y\n",
    "            x = temp[0] + oldX*repn[i]\n",
    "            y = temp[1] + oldY*repn[i]\n",
    "            i += 1\n",
    "        \n",
    "        # Sometimes we'll have to loop back to the beginning of the representation\n",
    "        else:\n",
    "            i = 1\n",
    "            temp = [oldX, oldY]\n",
    "            oldX = x\n",
    "            oldY = y\n",
    "            x = temp[0] + oldX*repn[i]\n",
    "            y = temp[1] + oldY*repn[i]\n",
    "            i+= 1\n",
    "\n",
    "    # Now that we have a solution, we check if the x value is bigger than the x values of other minimal solutions\n",
    "    if x > mxPair[1]:\n",
    "        mxPair = [D, x]\n",
    "        print(\"New big one\", mxPair)\n",
    "\n",
    "print(mxPair)"
   ]
  }
 ],
 "metadata": {
  "kernelspec": {
   "display_name": "Python 3 (ipykernel)",
   "language": "python",
   "name": "python3"
  },
  "language_info": {
   "codemirror_mode": {
    "name": "ipython",
    "version": 3
   },
   "file_extension": ".py",
   "mimetype": "text/x-python",
   "name": "python",
   "nbconvert_exporter": "python",
   "pygments_lexer": "ipython3",
   "version": "3.9.13"
  }
 },
 "nbformat": 4,
 "nbformat_minor": 5
}
