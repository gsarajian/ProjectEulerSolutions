{
 "cells": [
  {
   "cell_type": "markdown",
   "id": "8b1c21b9",
   "metadata": {},
   "source": [
    "<p>The points P (<i>x</i><sub>1</sub>, <i>y</i><sub>1</sub>) and Q (<i>x</i><sub>2</sub>, <i>y</i><sub>2</sub>) are plotted at integer co-ordinates and are joined to the origin, O(0,0), to form ΔOPQ.</p>\n",
    "\n",
    "<div class=\"center\">\n",
    "<img src=\"https://projecteuler.net/project/images/p091_1.png\" class=\"dark_img\" alt=\"\" /><br /></div>\n",
    "\n",
    "<p>There are exactly fourteen triangles containing a right angle that can be formed when each co-ordinate lies between 0 and 2 inclusive; that is,<br />0 ≤ <i>x</i><sub>1</sub>, <i>y</i><sub>1</sub>, <i>x</i><sub>2</sub>, <i>y</i><sub>2</sub> ≤ 2.</p>\n",
    "\n",
    "<div class=\"center\">\n",
    "<img src=\"https://projecteuler.net/project/images/p091_2.png\" alt=\"\" /><br /></div>\n",
    "\n",
    "<p>Given that 0 ≤ <i>x</i><sub>1</sub>, <i>y</i><sub>1</sub>, <i>x</i><sub>2</sub>, <i>y</i><sub>2</sub> ≤ 50, how many right triangles can be formed?</p>\n"
   ]
  },
  {
   "cell_type": "markdown",
   "id": "12e38f12",
   "metadata": {},
   "source": [
    "**Solution(s):**\n",
    "For each pair of coordinates $(x_0,y_0)$ within our region of interest, we count the number of right triangles that have that pair of coordinates as the right angled-corner of the triangle. To do this, we note that the slope of the leg connecting the origin and $(x_0,y_0)$ is $y_0/x_0$, so to form a right angle, the adjacent leg must form a slope of $-x_0/y_0$ with the coordinate $(x_0,y_0)$. Moving in either way with such a slope, we know that we'll only hit integer coordinates if the amount that we've moved in the $x$ direction gives us an integer when multiplied by $y_0/(gcd(x_0, y_0))$. Hence, we iterate through steps the positive $x$ direction and $y$ direction from our coordinate $(x_0, y_0)$, and if our new coordinate is within the region of interest, then we add it to our count of right triangles.\n",
    "\n",
    "For the edge cases, $x_0 = 0$ or $y_0 = 0$, it's clear that there are $50$ triangles that can be formed for all such coordinates except for the origin, where $2500$ triangles can be formed. "
   ]
  },
  {
   "cell_type": "code",
   "execution_count": null,
   "id": "2bd80f4b",
   "metadata": {},
   "outputs": [],
   "source": [
    "from math import gcd"
   ]
  },
  {
   "cell_type": "code",
   "execution_count": null,
   "id": "88d86405",
   "metadata": {},
   "outputs": [],
   "source": [
    "count = 0\n",
    "for x in range(1,51):\n",
    "    for y in range(1,51):\n",
    "        g = gcd(x,y)\n",
    "        xstep = y/g\n",
    "        ystep = x/g\n",
    "        \n",
    "        # Count the triangles going up and down separately.\n",
    "        upTriangles = 0\n",
    "        cur = [x-xstep,y+ystep]\n",
    "        while cur[0] >= 0 and cur[1] <= 50:\n",
    "            cur[0]-=xstep\n",
    "            cur[1]+=ystep\n",
    "            upTriangles += 1\n",
    "            \n",
    "        downTriangles = 0\n",
    "        cur = [x+xstep,y-ystep]\n",
    "        while cur[0] <= 50 and cur[1] >= 0:\n",
    "            cur[0]+=xstep\n",
    "            cur[1]-=ystep\n",
    "            downTriangles += 1\n",
    "            \n",
    "        count += upTriangles + downTriangles\n",
    "print(count+7500)"
   ]
  }
 ],
 "metadata": {
  "kernelspec": {
   "display_name": "Python 3 (ipykernel)",
   "language": "python",
   "name": "python3"
  },
  "language_info": {
   "codemirror_mode": {
    "name": "ipython",
    "version": 3
   },
   "file_extension": ".py",
   "mimetype": "text/x-python",
   "name": "python",
   "nbconvert_exporter": "python",
   "pygments_lexer": "ipython3",
   "version": "3.9.13"
  }
 },
 "nbformat": 4,
 "nbformat_minor": 5
}
