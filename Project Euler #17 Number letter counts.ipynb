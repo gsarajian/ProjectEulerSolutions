{
 "cells": [
  {
   "cell_type": "markdown",
   "metadata": {},
   "source": [
    "## If the numbers 1 to 5 are written out in words: one, two, three, four, five, then there are $3 + 3 + 5 + 4 + 4 = 19$ letters used in total.\n",
    "## If all the numbers from 1 to 1000 (one thousand) inclusive were written out in words, how many letters would be used? \n",
    "## NOTE: Do not count spaces or hyphens. For example, 342 (three hundred and forty-two) contains 23 letters and 115 (one hundred and fifteen) contains 20 letters. The use of \"and\" when writing out numbers is in compliance with British usage."
   ]
  },
  {
   "cell_type": "markdown",
   "metadata": {},
   "source": [
    "**Solution(s):** \n",
    "\n",
    "There's probably a much more elegant solution using some simple python tool that writes the numbers out with letters, but we'll do it the ugly way.\n",
    "\n",
    "Count how many times each of the words appears and how many letters each one has. \n",
    "\"One\", \"Two\", \"Three\", ... \"Nine\": (3 + 3 + 5 + 4 + 4 + 3 + 5 + 5 + 4) letters, each appears 9 times (note, 11-19 don't have them) as the ones digit in each 100, so 90 times as the ones digit, plus 100 times for the respective 100 (e.g. *one* hundred, etc.) Finally, \"one\" appears in \"one thousand\", so +3 at the end for that\n",
    "So 190\\*(3 + 3 + 5 + 4 + 4 + 3 + 5 + 5 + 4) + 3 for those words.\n",
    "\"Twenty\", \"Thirty\", ... \"Ninety\": (6 + 6 + 5 + 5 + 5 + 7 + 6 + 6) letters, and each one appears 10 times in the tens digit in each 100, so 100 times each. \n",
    "So 100\\*(6 + 6 + 5 + 5 + 5 + 7 + 6 + 6) for those words\n",
    "\"Ten\", \"eleven\", ... \"nineteen\": (3 + 6 + 6 + 8 + 8 + 7 + 7 + 9 + 8 + 8) letters, each appears once each 100, so 10 times total\n",
    "So\n",
    "10\\*(3 + 6 + 6 + 8 + 8 + 7 + 7 + 9 + 8 + 8)\n",
    "\"hundred\" has 7 letters and appears in every number in 100-999, inclusive, so 7\\*900\n",
    "\"and\" has 3 letters and appears 99 times in each hundred with in the 100s, 200s, ... 900s. So 9\\*99 times. \n",
    "Finally, \"thousand\" has 8 letters and appears once.\n"
   ]
  },
  {
   "cell_type": "code",
   "execution_count": null,
   "metadata": {},
   "outputs": [],
   "source": [
    "digits = 190*(3 + 3 + 5 + 4 + 4 + 3 + 5 + 5 + 4) + 3 \n",
    "tens = 100*(6 + 6 + 5 + 5 + 5 + 7 + 6 + 6) \n",
    "teens = 10*(3 + 6 + 6 + 8 + 8 + 7 + 7 + 9 + 8 + 8)\n",
    "hundreds = 7*900\n",
    "ands = 9*99*3\n",
    "thousands = 8\n",
    "digits + tens + teens + hundreds + ands + thousands"
   ]
  }
 ],
 "metadata": {
  "kernelspec": {
   "display_name": "Python 3",
   "language": "python",
   "name": "python3"
  },
  "language_info": {
   "codemirror_mode": {
    "name": "ipython",
    "version": 3
   },
   "file_extension": ".py",
   "mimetype": "text/x-python",
   "name": "python",
   "nbconvert_exporter": "python",
   "pygments_lexer": "ipython3",
   "version": "3.8.5"
  }
 },
 "nbformat": 4,
 "nbformat_minor": 4
}
