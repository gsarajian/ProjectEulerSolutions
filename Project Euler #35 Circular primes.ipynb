{
 "cells": [
  {
   "cell_type": "markdown",
   "id": "17f372f0",
   "metadata": {},
   "source": [
    "## The number, 197, is called a circular prime because all rotations of the digits: 197, 971, and 719, are themselves prime.\n",
    "\n",
    "## There are thirteen such primes below 100: 2, 3, 5, 7, 11, 13, 17, 31, 37, 71, 73, 79, and 97.\n",
    "\n",
    "## How many circular primes are there below one million?"
   ]
  },
  {
   "cell_type": "markdown",
   "id": "00f29661",
   "metadata": {},
   "source": [
    "**Solution(s):**\n",
    "\n",
    "We generate a table of prime values less than a million and loop through them checking if their rotations are prime."
   ]
  },
  {
   "cell_type": "code",
   "execution_count": null,
   "id": "75f3e3cb",
   "metadata": {},
   "outputs": [],
   "source": [
    "from math import ceil"
   ]
  },
  {
   "cell_type": "code",
   "execution_count": null,
   "id": "b75502b1",
   "metadata": {},
   "outputs": [],
   "source": [
    "def primesLessThan(n):\n",
    "    # A function that returns an array of all the primes less than or equal to n\n",
    "    primes = [[2,1]]        #the second component is positive iff the first component is a prime.\n",
    "    bgstPrime = primes[-1][0] #biggest prime in our list\n",
    "    while bgstPrime < n:\n",
    "        cands = [[i,1] for i in range(bgstPrime**2)] #generate a list of candidates\n",
    "        for pr in primes:\n",
    "            p = pr[0]\n",
    "            for k in range(ceil(bgstPrime**2/p)):\n",
    "                cands[k*p][1] -= 1 #this is crossing off the multiples of our previous primes\n",
    "        cands[1][1] -= 1    #eliminate 1 from consideration as a prime\n",
    "        newPrimes = [m for m in cands if m[1] > 0]\n",
    "        primes.extend(newPrimes)\n",
    "        bgstPrime = primes[-1][0]\n",
    "    return [m[0] for m in primes if m[0] <= n]"
   ]
  },
  {
   "cell_type": "code",
   "execution_count": null,
   "id": "3101574d",
   "metadata": {},
   "outputs": [],
   "source": [
    "cands = primesLessThan(10**6)"
   ]
  },
  {
   "cell_type": "code",
   "execution_count": null,
   "id": "784a23e5",
   "metadata": {},
   "outputs": [],
   "source": [
    "hash = set(cands)"
   ]
  },
  {
   "cell_type": "code",
   "execution_count": null,
   "id": "616e011b",
   "metadata": {},
   "outputs": [],
   "source": [
    "circulars = [] # to keep track of the circular primes"
   ]
  },
  {
   "cell_type": "code",
   "execution_count": null,
   "id": "1cee9c9c",
   "metadata": {},
   "outputs": [],
   "source": [
    "for prime in cands:\n",
    "    digs = list(str(prime))         # turn the prime into a list of its digits\n",
    "    l = len(digs)\n",
    "    rotPrime = True                 # used to capture if all rotations are primes\n",
    "    for i in range(1,l):\n",
    "        numb = digs[i]\n",
    "        for j in range(1,l):        # this loop puts together the rotation\n",
    "            numb += digs[(i + j) % l]   \n",
    "        numb = int(numb)\n",
    "        if numb not in hash:        # check if the rotation is a prime\n",
    "            rotPrime = False\n",
    "    if rotPrime:\n",
    "        circulars.append(prime)     "
   ]
  },
  {
   "cell_type": "code",
   "execution_count": null,
   "id": "11cd1278",
   "metadata": {},
   "outputs": [],
   "source": [
    "len(circulars)"
   ]
  }
 ],
 "metadata": {
  "kernelspec": {
   "display_name": "Python 3 (ipykernel)",
   "language": "python",
   "name": "python3"
  },
  "language_info": {
   "codemirror_mode": {
    "name": "ipython",
    "version": 3
   },
   "file_extension": ".py",
   "mimetype": "text/x-python",
   "name": "python",
   "nbconvert_exporter": "python",
   "pygments_lexer": "ipython3",
   "version": "3.10.6"
  }
 },
 "nbformat": 4,
 "nbformat_minor": 5
}
