{
 "cells": [
  {
   "cell_type": "markdown",
   "metadata": {},
   "source": [
    "## The sum of the squares of the first ten natural numbers is\n",
    "## $$1^2+2^2+...+10^2=385$$\n",
    "## The square of the sum of the first ten natural numbers is\n",
    "## $$(1+2+...+10)^2=55^2=3025$$\n",
    "## Hence the difference between the sum of the squares of the first ten natural numbers and the square of the sum is $3025−385=2640$.\n",
    "## Find the difference between the sum of the squares of the first one hundred natural numbers and the square of the sum."
   ]
  },
  {
   "cell_type": "markdown",
   "metadata": {},
   "source": [
    "**Solution(s):** \n",
    "\n",
    "Math: Use Faulhaber's formula to compute the two values and find their difference.\n",
    "\n",
    "Coding: Simply run a for loop and find their differences."
   ]
  },
  {
   "cell_type": "code",
   "execution_count": null,
   "metadata": {},
   "outputs": [],
   "source": [
    "tota = 0\n",
    "totb = 0\n",
    "for i in range(101):\n",
    "    tota += i**2\n",
    "    totb += i\n",
    "totb **= 2\n",
    "totb - tota"
   ]
  }
 ],
 "metadata": {
  "kernelspec": {
   "display_name": "Python 3",
   "language": "python",
   "name": "python3"
  },
  "language_info": {
   "codemirror_mode": {
    "name": "ipython",
    "version": 3
   },
   "file_extension": ".py",
   "mimetype": "text/x-python",
   "name": "python",
   "nbconvert_exporter": "python",
   "pygments_lexer": "ipython3",
   "version": "3.8.5"
  }
 },
 "nbformat": 4,
 "nbformat_minor": 4
}
