{
 "cells": [
  {
   "cell_type": "markdown",
   "id": "17f372f0",
   "metadata": {},
   "source": [
    "## The fraction $49/98$ is a curious fraction, as an inexperienced mathematician in attempting to simplify it may incorrectly believe that $49/98 = 4/8$, which is correct, is obtained by cancelling the $9$s.\n",
    "\n",
    "## We shall consider fractions like, $30/50 = 3/5$, to be trivial examples.\n",
    "\n",
    "## There are exactly four non-trivial examples of this type of fraction, less than one in value, and containing two digits in the numerator and denominator.\n",
    "\n",
    "## If the product of these four fractions is given in its lowest common terms, find the value of the denominator."
   ]
  },
  {
   "cell_type": "markdown",
   "id": "00f29661",
   "metadata": {},
   "source": [
    "**Solution(s):**\n",
    "\n",
    "Denote the numerator as $a$ and denominator as $b$. We need either the first digit of $a$ to be equal to the second digit of $b$, or vice versa. So we loop through pairs of two digit numbers that satisfy this and check if the cancelled fractions equal the original."
   ]
  },
  {
   "cell_type": "code",
   "execution_count": null,
   "id": "b75502b1",
   "metadata": {},
   "outputs": [],
   "source": [
    "# keep a list across the different cases\n",
    "master_list = []"
   ]
  },
  {
   "cell_type": "markdown",
   "id": "cf005522",
   "metadata": {},
   "source": [
    "Check the cases where the first digit of $a$ equals the second digit of $b$. "
   ]
  },
  {
   "cell_type": "code",
   "execution_count": null,
   "id": "3ce5ff5e",
   "metadata": {},
   "outputs": [],
   "source": [
    "for i in range(1,10):\n",
    "    for j in range(10):\n",
    "        for k in range(1,10):\n",
    "            a = 10*i + j\n",
    "            b = 10*k + i\n",
    "            if a/b == j/k:\n",
    "                master_list.append([a,b])\n",
    "master_list"
   ]
  },
  {
   "cell_type": "markdown",
   "id": "e0a86e0b",
   "metadata": {},
   "source": [
    "By inspection, we can see that the four fractions are $16/64, 26/65, 19/95,$ and $49/98$"
   ]
  },
  {
   "cell_type": "code",
   "execution_count": null,
   "id": "3da362c9",
   "metadata": {},
   "outputs": [],
   "source": [
    "(4*5*5*1)"
   ]
  }
 ],
 "metadata": {
  "kernelspec": {
   "display_name": "Python 3 (ipykernel)",
   "language": "python",
   "name": "python3"
  },
  "language_info": {
   "codemirror_mode": {
    "name": "ipython",
    "version": 3
   },
   "file_extension": ".py",
   "mimetype": "text/x-python",
   "name": "python",
   "nbconvert_exporter": "python",
   "pygments_lexer": "ipython3",
   "version": "3.10.6"
  }
 },
 "nbformat": 4,
 "nbformat_minor": 5
}
