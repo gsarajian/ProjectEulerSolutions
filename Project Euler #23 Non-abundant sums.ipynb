{
 "cells": [
  {
   "cell_type": "markdown",
   "id": "17f372f0",
   "metadata": {},
   "source": [
    "## A perfect number is a number for which the sum of its proper divisors is exactly equal to the number. For example, the sum of the proper divisors of 28 would be 1 + 2 + 4 + 7 + 14 = 28, which means that 28 is a perfect number.\n",
    "\n",
    "## A number n is called deficient if the sum of its proper divisors is less than n and it is called abundant if this sum exceeds n.\n",
    "\n",
    "## As 12 is the smallest abundant number, 1 + 2 + 3 + 4 + 6 = 16, the smallest number that can be written as the sum of two abundant numbers is 24. By mathematical analysis, it can be shown that all integers greater than 28123 can be written as the sum of two abundant numbers. However, this upper limit cannot be reduced any further by analysis even though it is known that the greatest number that cannot be expressed as the sum of two abundant numbers is less than this limit.\n",
    "\n",
    "## Find the sum of all the positive integers which cannot be written as the sum of two abundant numbers."
   ]
  },
  {
   "cell_type": "markdown",
   "id": "00f29661",
   "metadata": {},
   "source": [
    "**Solution(s):**\n",
    "\n",
    "We start by using the divisorGenerator function we defined in Problem 12 to create a list of all of the abundant numbers up to 28123. Next, we'll run a loop with i from 1 to 28123 and check if i is a sum of two abundant numbers. A lookup table will speed up this check."
   ]
  },
  {
   "cell_type": "code",
   "execution_count": null,
   "id": "b7c3326d",
   "metadata": {},
   "outputs": [],
   "source": [
    "from math import sqrt\n",
    "def divisorGenerator(n):\n",
    "    # keeping two arrays so that once we have a divisor d, we know that n/d is also a divisor. \n",
    "    small_divisors = []\n",
    "    large_divisors = []\n",
    "    for i in range(1, int(sqrt(n) + 1)):\n",
    "        if n % i == 0:\n",
    "            small_divisors.append(i)\n",
    "            if i**2 != n:\n",
    "                large_divisors.append(int(n / i))\n",
    "    small_divisors.extend(reversed(large_divisors))\n",
    "    return small_divisors"
   ]
  },
  {
   "cell_type": "code",
   "execution_count": null,
   "id": "057768c4",
   "metadata": {},
   "outputs": [],
   "source": [
    "abundants = []\n",
    "for i in range(1,28124):\n",
    "    sm = sum(divisorGenerator(i))\n",
    "    if sm > 2*i:\n",
    "        abundants.append(i)"
   ]
  },
  {
   "cell_type": "code",
   "execution_count": null,
   "id": "12b89013",
   "metadata": {},
   "outputs": [],
   "source": [
    "lookup = set(abundants)\n",
    "nonSums = []\n",
    "for i in range(1,28124):\n",
    "    j = 0\n",
    "    canWrite = False\n",
    "    while not canWrite and j < len(abundants):\n",
    "        fst = abundants[j]\n",
    "        if i - fst in lookup:            # this is the case where i is a sum of two abundants\n",
    "            canWrite = True\n",
    "        j += 1\n",
    "    if not canWrite:               # if we got here, then i isn't a sum of two abundants\n",
    "        nonSums.append(i)"
   ]
  },
  {
   "cell_type": "code",
   "execution_count": null,
   "id": "f3c68e61",
   "metadata": {},
   "outputs": [],
   "source": [
    "sum(nonSums)"
   ]
  }
 ],
 "metadata": {
  "kernelspec": {
   "display_name": "Python 3 (ipykernel)",
   "language": "python",
   "name": "python3"
  },
  "language_info": {
   "codemirror_mode": {
    "name": "ipython",
    "version": 3
   },
   "file_extension": ".py",
   "mimetype": "text/x-python",
   "name": "python",
   "nbconvert_exporter": "python",
   "pygments_lexer": "ipython3",
   "version": "3.10.6"
  }
 },
 "nbformat": 4,
 "nbformat_minor": 5
}
