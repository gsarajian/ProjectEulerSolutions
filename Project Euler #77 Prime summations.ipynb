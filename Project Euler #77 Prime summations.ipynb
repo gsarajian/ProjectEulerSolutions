{
 "cells": [
  {
   "cell_type": "markdown",
   "id": "8b1c21b9",
   "metadata": {},
   "source": [
    "It is possible to write ten as the sum of primes in exactly five different ways:</p>\n",
    "<p class=\"margin_left\">7 + 3<br />\n",
    "5 + 5<br />\n",
    "5 + 3 + 2<br />\n",
    "3 + 3 + 2 + 2<br />\n",
    "2 + 2 + 2 + 2 + 2</p>\n",
    "<p>What is the first value which can be written as the sum of primes in over five thousand different ways?"
   ]
  },
  {
   "cell_type": "markdown",
   "id": "12e38f12",
   "metadata": {},
   "source": [
    "**Solution(s):**\n",
    "We start by considering a function $f(n)$ that counts how many ways to write $n$ as a sum of primes, where the trivial sum $n$ by itself counts if $n$ is prime. So $f(1) = 0$, $f(2) = 1$, $f(5) = 2$, and so on. We're looking for the smallest value $n$ for which $f(n) > 5000$, accounting for possible off-by-one errors if $n$ is prime. To compute $f(n)$, we create a matrix whose $(i+1,j+1)$th entry is the number of ways we can write $i$ as a sum of prime numbers, the smallest of which is $j$. This allows us to recursively compute the $(i+1, j+1)$st entry by taking the sum the elements after the $j$th entry of the $(i-j)$th row."
   ]
  },
  {
   "cell_type": "code",
   "execution_count": null,
   "id": "e88327f6",
   "metadata": {},
   "outputs": [],
   "source": [
    "from math import ceil, sqrt, floor\n",
    "import numpy as np"
   ]
  },
  {
   "cell_type": "code",
   "execution_count": null,
   "id": "90a39f5a",
   "metadata": {},
   "outputs": [],
   "source": [
    "def primesLessThan(n):\n",
    "    # A function that returns an array of all the primes less than or equal to n\n",
    "    primes = [2]        # the second component is positive iff the first component is a prime.\n",
    "    cands = [1 for i in range(n+1)]\n",
    "    bgstPrime = primes[-1] # biggest prime in our list\n",
    "    i = 2\n",
    "    while bgstPrime <= sqrt(n):\n",
    "        pr = i\n",
    "        for k in range(ceil((n+1)/pr)):\n",
    "            cands[k*pr] -= 1 # this is crossing off the multiples of our previous primes\n",
    "        i += 1\n",
    "        while cands[i] <= 0:\n",
    "            i += 1\n",
    "        primes.append(i)\n",
    "        bgstPrime = i\n",
    "    primes.extend([a for a in range(i+1,n+1) if cands[a]>0])\n",
    "    return [m for m in primes if m <= n]"
   ]
  },
  {
   "cell_type": "code",
   "execution_count": null,
   "id": "98f2da8e",
   "metadata": {},
   "outputs": [],
   "source": [
    "primes = primesLessThan(30000)"
   ]
  },
  {
   "cell_type": "code",
   "execution_count": null,
   "id": "39964be5",
   "metadata": {},
   "outputs": [],
   "source": [
    "counts = [[0]*1000 for i in range(1000)]\n",
    "counts[1][0] = 1 # to help compute the trivial cases of writing $2 =2$.\n",
    "for i in range(2,1000):\n",
    "    j = 0\n",
    "    p = primes[j]\n",
    "    while p < i+1:\n",
    "        counts[i][j] += sum(counts[i-p][j:])\n",
    "        j+=1\n",
    "        p = primes[j]\n",
    "    \n",
    "    # Check if the current number is prime itself\n",
    "    if i+1 in primes:\n",
    "        counts[i][j] = 1"
   ]
  },
  {
   "cell_type": "code",
   "execution_count": null,
   "id": "0ef99648",
   "metadata": {},
   "outputs": [],
   "source": [
    "# Compute the sums across the rows to get f(n)\n",
    "sms = [sum(counts[i]) for i in range(len(counts))]"
   ]
  },
  {
   "cell_type": "code",
   "execution_count": null,
   "id": "1958f7e5",
   "metadata": {},
   "outputs": [],
   "source": [
    "i = 0\n",
    "while sms[i] <= 5000:\n",
    "    i+= 1\n",
    "for j in range(-1,3):\n",
    "    print(i+j, sms[i+j])"
   ]
  }
 ],
 "metadata": {
  "kernelspec": {
   "display_name": "Python 3 (ipykernel)",
   "language": "python",
   "name": "python3"
  },
  "language_info": {
   "codemirror_mode": {
    "name": "ipython",
    "version": 3
   },
   "file_extension": ".py",
   "mimetype": "text/x-python",
   "name": "python",
   "nbconvert_exporter": "python",
   "pygments_lexer": "ipython3",
   "version": "3.9.13"
  }
 },
 "nbformat": 4,
 "nbformat_minor": 5
}
