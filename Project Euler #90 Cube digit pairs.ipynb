{
 "cells": [
  {
   "cell_type": "markdown",
   "id": "8b1c21b9",
   "metadata": {},
   "source": [
    "<p>Each of the six faces on a cube has a different digit (0 to 9) written on it; the same is done to a second cube. By placing the two cubes side-by-side in different positions we can form a variety of 2-digit numbers.</p>\n",
    "\n",
    "<p>For example, the square number 64 could be formed:</p>\n",
    "\n",
    "<div class=\"center\">\n",
    "<img src=\"p090.png\" class=\"dark_img\" alt=\"\" /><br /></div>\n",
    "\n",
    "<p>In fact, by carefully choosing the digits on both cubes it is possible to display all of the square numbers below one-hundred: 01, 04, 09, 16, 25, 36, 49, 64, and 81.</p>\n",
    "\n",
    "<p>For example, one way this can be achieved is by placing {0, 5, 6, 7, 8, 9} on one cube and {1, 2, 3, 4, 8, 9} on the other cube.</p>\n",
    "\n",
    "<p>However, for this problem we shall allow the 6 or 9 to be turned upside-down so that an arrangement like {0, 5, 6, 7, 8, 9} and {1, 2, 3, 4, 6, 7} allows for all nine square numbers to be displayed; otherwise it would be impossible to obtain 09.</p>\n",
    "\n",
    "<p>In determining a distinct arrangement we are interested in the digits on each cube, not the order.</p>\n",
    "\n",
    "<p class=\"margin_left\">{1, 2, 3, 4, 5, 6} is equivalent to {3, 6, 4, 1, 2, 5}<br />\n",
    "{1, 2, 3, 4, 5, 6} is distinct from {1, 2, 3, 4, 5, 9}</p>\n",
    "\n",
    "<p>But because we are allowing 6 and 9 to be reversed, the two distinct sets in the last example both represent the extended set {1, 2, 3, 4, 5, 6, 9} for the purpose of forming 2-digit numbers.</p>\n",
    "\n",
    "<p>How many distinct arrangements of the two cubes allow for all of the square numbers to be displayed?</p>"
   ]
  },
  {
   "cell_type": "markdown",
   "id": "12e38f12",
   "metadata": {},
   "source": [
    "**Solution(s):**\n",
    "We begin by generating all valid $\\binom{10}{6} = 210$ valid dice and a list of strings of the squares that we'd like to represent. We then loop through all pairs of dice and, after adding 6 or 9 to the set if the die calls for it, check if all the squares can be written with the two dice. If all of the squares can be successfully written, we add to our tally.\n",
    "\n",
    "To generate all of the valid dice, we leverage binary numbers. We take all integers $i$ from $1$ to $2^{10} = 1024$ and convert them to strings of binary numbers. If the string has exactly four '1's in its binary representation, we use that string as an indexing set to tell us which valid die it corresponds to. "
   ]
  },
  {
   "cell_type": "code",
   "execution_count": null,
   "id": "88d86405",
   "metadata": {},
   "outputs": [],
   "source": [
    "# First, generate all the dice using binary numbers\n",
    "sampleSpace = []                    # Array to keep track of valid dice.\n",
    "digits = [a for a in range(10)]     \n",
    "\n",
    "for i in range(1024):\n",
    "    # convert i into binary, flip it so 2=10 and 4=100 don't both give us the same index\n",
    "    binary = bin(i)[2:]\n",
    "    binary = binary[::-1]\n",
    "\n",
    "    if binary.count('1') == 6:          # check if there are exactly 6 1s. \n",
    "        temp = []\n",
    "        for j in range(len(binary)):\n",
    "            if binary[j] == '1':\n",
    "                temp.append(digits[j])\n",
    "        sampleSpace.append(temp)\n",
    "# len(sampleSpace)   # confirms that we captured all 210 valid dice"
   ]
  },
  {
   "cell_type": "code",
   "execution_count": null,
   "id": "efba45c7",
   "metadata": {},
   "outputs": [],
   "source": [
    "squares = [str(i**2) for i in range(1,10)]\n",
    "squares[0] = \"01\"\n",
    "squares[1] = \"04\"\n",
    "squares[2] = \"09\""
   ]
  },
  {
   "cell_type": "code",
   "execution_count": null,
   "id": "a7e85d3b",
   "metadata": {},
   "outputs": [],
   "source": [
    "tot = 0\n",
    "for i in range(210):\n",
    "    for j in range(i+1,210):\n",
    "        sample1 = sampleSpace[i]\n",
    "        sample2 = sampleSpace[j]\n",
    "        stillValid = True                # A flag to keep track of if we can write all the squares with the current dice\n",
    "\n",
    "        copy1 = [a for a in sample1]     # Make copies so that adding 6s and 9s doesn't mess up future examples.\n",
    "        copy2 = [a for a in sample2]\n",
    "        if 6 in sample1:\n",
    "            copy1.append(9)\n",
    "        if 6 in sample2:\n",
    "            copy2.append(9)\n",
    "        if 9 in sample1:\n",
    "            copy1.append(6)\n",
    "        if 9 in sample2:\n",
    "            copy2.append(6)\n",
    "\n",
    "        \n",
    "        \n",
    "        \n",
    "        # loop through the squares and check if we can represent them\n",
    "        for square in squares: \n",
    "            \n",
    "            dig1 = int(square[0])\n",
    "            dig2 = int(square[1])\n",
    "\n",
    "            if (not (dig1 in copy1 and dig2 in copy2)) and (not (dig1 in copy2 and dig2 in copy1)):\n",
    "                stillValid = False\n",
    "                break\n",
    "\n",
    "        if stillValid:\n",
    "            tot += 1\n",
    "            \n",
    "tot"
   ]
  }
 ],
 "metadata": {
  "kernelspec": {
   "display_name": "Python 3 (ipykernel)",
   "language": "python",
   "name": "python3"
  },
  "language_info": {
   "codemirror_mode": {
    "name": "ipython",
    "version": 3
   },
   "file_extension": ".py",
   "mimetype": "text/x-python",
   "name": "python",
   "nbconvert_exporter": "python",
   "pygments_lexer": "ipython3",
   "version": "3.9.13"
  }
 },
 "nbformat": 4,
 "nbformat_minor": 5
}
