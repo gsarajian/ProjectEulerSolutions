{
 "cells": [
  {
   "cell_type": "markdown",
   "metadata": {},
   "source": [
    "## A palindromic number reads the same both ways. The largest palindrome made from the product of two 2-digit numbers is $9009 = 91 × 99$.\n",
    "\n",
    "## Find the largest palindrome made from the product of two 3-digit numbers."
   ]
  },
  {
   "cell_type": "markdown",
   "metadata": {},
   "source": [
    "**Solutions:** \n",
    "\n",
    "Define a function *isPalindrome* that will check if an integer is a palindrome. Then, start from $n = 10^6$ and decrease while checking if $n$ is a palindrome and a product of two 3-digit numbers."
   ]
  },
  {
   "cell_type": "code",
   "execution_count": null,
   "metadata": {},
   "outputs": [],
   "source": [
    "def isPalindrome(m):\n",
    "    # checks if m is a palindrome\n",
    "    # not the most efficient way of checking, we could halve the time, but not too important.\n",
    "    fwd = str(m)\n",
    "    bck = fwd[::-1]\n",
    "    return fwd == bck"
   ]
  },
  {
   "cell_type": "code",
   "execution_count": null,
   "metadata": {},
   "outputs": [],
   "source": [
    "n = 10**6\n",
    "found = False\n",
    "\n",
    "while not found and n > 0:\n",
    "    n -= 1\n",
    "    if isPalindrome(n):\n",
    "        for j in range(100, 999):                           # check to see if n is a product of two 3-digit numbers\n",
    "            if n % j == 0 and len(str(n//j)) == 3:\n",
    "                print(j, n//j, n)\n",
    "                found = True\n",
    "    "
   ]
  }
 ],
 "metadata": {
  "kernelspec": {
   "display_name": "Python 3",
   "language": "python",
   "name": "python3"
  },
  "language_info": {
   "codemirror_mode": {
    "name": "ipython",
    "version": 3
   },
   "file_extension": ".py",
   "mimetype": "text/x-python",
   "name": "python",
   "nbconvert_exporter": "python",
   "pygments_lexer": "ipython3",
   "version": "3.8.5"
  }
 },
 "nbformat": 4,
 "nbformat_minor": 4
}
