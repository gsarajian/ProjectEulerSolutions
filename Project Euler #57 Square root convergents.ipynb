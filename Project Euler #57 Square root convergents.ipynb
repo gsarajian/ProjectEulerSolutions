{
 "cells": [
  {
   "cell_type": "markdown",
   "id": "8b1c21b9",
   "metadata": {},
   "source": [
    "It is possible to show that the square root of two can be expressed as an infinite continued fraction.\n",
    "\n",
    "$$\\sqrt{2} = 1 + \\frac{1}{2 + \\frac{1}{2 + \\frac{1}{2 + \\cdots}}}$$\n",
    "\n",
    "By expanding this for the first four iterations, we get:\n",
    "\n",
    "$$1 + \\frac{1}{2} = \\frac{3}{2} = 1.5$$\n",
    "$$1 + \\frac{1}{2 + \\frac{1}{2}} = \\frac{7}{5} = 1.4$$\n",
    "$$1 + \\frac{1}{2 + \\frac{1}{2 + \\frac{1}{2}}} = \\frac{17}{12} = 1.41666...$$\n",
    "$$1 + \\frac{1}{2 + \\frac{1}{2 + \\frac{1}{2 + \\frac{1}{2}}}} = \\frac{41}{29} = 1.41666...$$\n",
    "\n",
    "The next three expansions are $\\frac{99}{70}$, $\\frac{239}{169}$, and $\\frac{577}{408}$, but the eighth expansion, $\\frac{1393}{985}$, is the first example where the number of digits in the numerator exceeds the number of digits in the denominator.\n",
    "\n",
    "In the first one-thousand expansions, how many fractions contain a numerator with more digits than the denominator?"
   ]
  },
  {
   "cell_type": "markdown",
   "id": "12e38f12",
   "metadata": {},
   "source": [
    "**Solution(s):**\n",
    "The convergents satisfy the recursive relation $a_n = 1 + \\frac{1}{1 + a_{n-1}}$. In order to avoid rounding errors, we expand this recursive equation out into two recursive equations, one for the numerator and one for the denominator. Denoting the numerator and denominator of the $n$th convergent as $r_n$ and $d_n$, respectively, these recursive equations are\n",
    "\n",
    "$$r_n = 2r_{n-1} + r_{n-2}$$\n",
    "$$d_n = 2d_{n-1} + d_{n-2}$$\n",
    "\n",
    "We loop through the first 1000 convergents, comparing the lengths of strings of the numerators and denominators."
   ]
  },
  {
   "cell_type": "code",
   "execution_count": null,
   "id": "ee4f294d",
   "metadata": {},
   "outputs": [],
   "source": [
    "t = 0\n",
    "r2, r1 = 1,3\n",
    "d2, d1 = 1,2\n",
    "for i in range(1001):\n",
    "    tempNum = 2*r1 + r2\n",
    "    tempDen = 2*d1 + d2\n",
    "    t += len(str(tempNum)) > len(str(tempDen))\n",
    "    r2, r1 = r1,tempNum\n",
    "    d2, d1 = d1,tempDen\n",
    "t"
   ]
  }
 ],
 "metadata": {
  "kernelspec": {
   "display_name": "Python 3 (ipykernel)",
   "language": "python",
   "name": "python3"
  },
  "language_info": {
   "codemirror_mode": {
    "name": "ipython",
    "version": 3
   },
   "file_extension": ".py",
   "mimetype": "text/x-python",
   "name": "python",
   "nbconvert_exporter": "python",
   "pygments_lexer": "ipython3",
   "version": "3.9.13"
  }
 },
 "nbformat": 4,
 "nbformat_minor": 5
}
