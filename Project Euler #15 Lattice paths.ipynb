{
 "cells": [
  {
   "cell_type": "markdown",
   "metadata": {},
   "source": [
    "## Starting in the top left corner of a 2×2 grid, and only being able to move to the right and down, there are exactly 6 routes to the bottom right corner.\n",
    "\n",
    "\n",
    "## How many such routes are there through a 20×20 grid?"
   ]
  },
  {
   "cell_type": "markdown",
   "metadata": {},
   "source": [
    "**Solution(s):** \n",
    "\n",
    "Math: Binomial coefficients count the number of paths through a given vertex. Since our grid isn't the entire Pascal's triangle, there might be concern that we need to throw out some paths, but our grid includes all of the paths that could end up in the bottom right corner.\n",
    "\n",
    "Coding: We could use dynamic programming to compute the number of paths through a given vertex."
   ]
  },
  {
   "cell_type": "code",
   "execution_count": null,
   "metadata": {},
   "outputs": [],
   "source": [
    "# math solution\n",
    "import scipy.special\n",
    "\n",
    "scipy.special.comb(40, 20)"
   ]
  },
  {
   "cell_type": "code",
   "execution_count": null,
   "metadata": {},
   "outputs": [],
   "source": [
    "# dp solution\n",
    "# create an array of the lattice points\n",
    "dp = [[0 for i in range(21)] for j in range(21)]\n",
    "dp[0] = [1 for i in range(21)]             # initialize the first row, only one path to each of these. "
   ]
  },
  {
   "cell_type": "code",
   "execution_count": null,
   "metadata": {},
   "outputs": [],
   "source": [
    "for i in range(1, 21):\n",
    "    dp[i][0] = 1\n",
    "    for j in range(1, 21):\n",
    "        dp[i][j] = dp[i-1][j] + dp[i][j-1]\n",
    "dp[-1][-1]"
   ]
  }
 ],
 "metadata": {
  "kernelspec": {
   "display_name": "Python 3",
   "language": "python",
   "name": "python3"
  },
  "language_info": {
   "codemirror_mode": {
    "name": "ipython",
    "version": 3
   },
   "file_extension": ".py",
   "mimetype": "text/x-python",
   "name": "python",
   "nbconvert_exporter": "python",
   "pygments_lexer": "ipython3",
   "version": "3.8.5"
  }
 },
 "nbformat": 4,
 "nbformat_minor": 4
}
