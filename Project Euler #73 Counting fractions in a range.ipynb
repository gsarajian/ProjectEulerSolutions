{
 "cells": [
  {
   "cell_type": "markdown",
   "id": "8b1c21b9",
   "metadata": {},
   "source": [
    "<p>Consider the fraction, <i>n/d</i>, where <i>n</i> and <i>d</i> are positive integers. If <i>n</i>&lt;<i>d</i> and HCF(<i>n,d</i>)=1, it is called a reduced proper fraction.</p>\n",
    "<p>If we list the set of reduced proper fractions for <i>d</i> ≤ 8 in ascending order of size, we get:</p>\n",
    "<p class=\"center smaller\">1/8, 1/7, 1/6, 1/5, 1/4, 2/7, 1/3, <b>3/8, 2/5, 3/7</b>, 1/2, 4/7, 3/5, 5/8, 2/3, 5/7, 3/4, 4/5, 5/6, 6/7, 7/8</p>\n",
    "<p>It can be seen that there are 3 fractions between 1/3 and 1/2.</p>\n",
    "<p>How many fractions lie between 1/3 and 1/2 in the sorted set of reduced proper fractions for <i>d</i> ≤ 12,000?</p>"
   ]
  },
  {
   "cell_type": "markdown",
   "id": "12e38f12",
   "metadata": {},
   "source": [
    "**Solution(s):**\n",
    "We take a brute force approach by looping through the denominators $d$ and the numerators $n \\in [1,d]$ and checking if $(n,d) = 1$ and if $1/3 < n/d < 1/2$."
   ]
  },
  {
   "cell_type": "code",
   "execution_count": null,
   "id": "feda79c5",
   "metadata": {},
   "outputs": [],
   "source": [
    "import math"
   ]
  },
  {
   "cell_type": "code",
   "execution_count": null,
   "id": "04739e4c",
   "metadata": {},
   "outputs": [],
   "source": [
    "cnt = 0\n",
    "for d in range(1,12001):\n",
    "    for n in range(1,d):\n",
    "        if math.gcd(n,d) == 1 and n/d < 0.5 and n/d > 1/3:\n",
    "            cnt += 1\n",
    "cnt"
   ]
  }
 ],
 "metadata": {
  "kernelspec": {
   "display_name": "Python 3 (ipykernel)",
   "language": "python",
   "name": "python3"
  },
  "language_info": {
   "codemirror_mode": {
    "name": "ipython",
    "version": 3
   },
   "file_extension": ".py",
   "mimetype": "text/x-python",
   "name": "python",
   "nbconvert_exporter": "python",
   "pygments_lexer": "ipython3",
   "version": "3.9.13"
  }
 },
 "nbformat": 4,
 "nbformat_minor": 5
}
