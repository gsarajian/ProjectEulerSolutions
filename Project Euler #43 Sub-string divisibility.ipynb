{
 "cells": [
  {
   "cell_type": "markdown",
   "id": "17f372f0",
   "metadata": {},
   "source": [
    "## The number, 1406357289, is a 0 to 9 pandigital number because it is made up of each of the digits 0 to 9 in some order, but it also has a rather interesting sub-string divisibility property.\n",
    "\n",
    "## Let $d_1$ be the 1st digit, $d_2$ be the 2nd digit, and so on. In this way, we note the following:\n",
    "\n",
    "$d_2 d_3 d_4 = 406$ is divisible by 2\n",
    "\n",
    "$d_3d_4d_5=063$ is divisible by 3\n",
    "\n",
    "$d_4d_5d_6=635$ is divisible by 5\n",
    "\n",
    "$d_5d_6d_7=357$ is divisible by 7\n",
    "\n",
    "$d_6d_7d_8=572$ is divisible by 11\n",
    "\n",
    "$d_7d_8d_9=728$ is divisible by 13\n",
    "\n",
    "$d_8d_9d_{10}=289$ is divisible by 17\n",
    "## Find the sum of all 0 to 9 pandigital numbers with this property."
   ]
  },
  {
   "cell_type": "markdown",
   "id": "00f29661",
   "metadata": {},
   "source": [
    "**Solution(s):**\n",
    "\n",
    "We want to generate a list of candidates and then check the divisibility properties, but before generating a large list with all ($10!$) permutations, we use some basic facts to help us narrow down our candidates. The fact that $d_4 d_5 d_6$ is divisibile by $5$ means that $d_6$ is $0$ or $5$. Then, since $d_6 d_7 d_8$ is divisible by 11, we must have $d_7 = d_6 + d_8 mod 11$, so $d_6$ must be 5 since no digit can be repeated. Furthermore, there are only 8 possible pairs of values for $\\{d_7, d_8\\}$, so we manually construct them. From here, our list of candidates is much smaller, so we can likely brute force it. We narrow our search by only checking when the last three digits are a multiple of 17"
   ]
  },
  {
   "cell_type": "code",
   "execution_count": null,
   "id": "6ca954fa",
   "metadata": {},
   "outputs": [],
   "source": [
    "middles = [561, 572, 583, 594, 506, 517, 528, 539] # possible values for d_6 d_7 d_8"
   ]
  },
  {
   "cell_type": "code",
   "execution_count": null,
   "id": "3be04aa8",
   "metadata": {},
   "outputs": [],
   "source": [
    "seventeens = []\n",
    "for i in range(int(1000/17) + 2):\n",
    "    if '5' not in str(17*i):\n",
    "        if len(str(17*i)) == 3:\n",
    "            seventeens.append(17*i)"
   ]
  },
  {
   "cell_type": "code",
   "execution_count": null,
   "id": "b611abae",
   "metadata": {},
   "outputs": [],
   "source": [
    "cands = []\n",
    "for middle in middles:\n",
    "    for seventeen in seventeens:\n",
    "        if str(middle)[-1] == str(seventeen)[0]: # checks that d\n",
    "            end = str(middle) + str(seventeen)[1:]\n",
    "            if int(end[1:4]) % 13 == 0 and len(list(dict.fromkeys(list(end)))) == 5: # checks the divisibility by 13 condition and unique digits\n",
    "                cands.append(end)   "
   ]
  },
  {
   "cell_type": "code",
   "execution_count": null,
   "id": "7fae6d70",
   "metadata": {},
   "outputs": [],
   "source": [
    "cands"
   ]
  },
  {
   "cell_type": "markdown",
   "id": "98fce1ce",
   "metadata": {},
   "source": [
    "From here, we see that there are three choices for the last five digits. \n",
    "\n",
    "In the first case, they have to be the same as the one in the example. Looking at the remaining digits, $\\{0, 1, 3, 4, 6\\}$, in order for $d_3 d_4 d_5$ to be divisible by $3$, those digits must be a permutation of $\\{0, 3, 6\\}$. The $\\{d_1, d_2\\} = \\{1, 4\\}$. Also, the divisibility by 7 criteria forces $d_5 = 3$. There are four remaining possibilities, namely\n",
    "$$1406357289$$\n",
    "$$4106357289$$\n",
    "$$1460357289$$\n",
    "$$4160357289$$\n",
    "\n",
    "In the second case, the divisibility by 7 criteria forces $d_5 = 9$, and then the divisibility by 3 and even conditions force $d_3 = 3$ and $d_4 = 0$. This leaves two possibilities, namely\n",
    "$$1430952867$$\n",
    "$$4130952867$$\n",
    "\n",
    "The third case doesn't work since none of the remaining digits can be put into $d_5$ to give us the divisibility by 7 condition."
   ]
  },
  {
   "cell_type": "code",
   "execution_count": null,
   "id": "199479c9",
   "metadata": {},
   "outputs": [],
   "source": [
    "sum([1406357289, 4106357289, 1460357289, 4160357289, 1430952867, 4130952867])"
   ]
  }
 ],
 "metadata": {
  "kernelspec": {
   "display_name": "Python 3 (ipykernel)",
   "language": "python",
   "name": "python3"
  },
  "language_info": {
   "codemirror_mode": {
    "name": "ipython",
    "version": 3
   },
   "file_extension": ".py",
   "mimetype": "text/x-python",
   "name": "python",
   "nbconvert_exporter": "python",
   "pygments_lexer": "ipython3",
   "version": "3.10.6"
  }
 },
 "nbformat": 4,
 "nbformat_minor": 5
}
