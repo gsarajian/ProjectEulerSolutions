{
 "cells": [
  {
   "cell_type": "markdown",
   "id": "dcd317c0",
   "metadata": {},
   "source": [
    "<p>By counting carefully it can be seen that a rectangular grid measuring 3 by 2 contains eighteen rectangles:</p>\n",
    "<div class=\"center\">\n",
    "<img src=\"p085.png\" class=\"dark_img\" alt=\"\" /></div>\n",
    "<p>Although there exists no rectangular grid that contains exactly two million rectangles, find the area of the grid with the nearest solution.</p>"
   ]
  },
  {
   "cell_type": "markdown",
   "id": "2d3dcb47",
   "metadata": {},
   "source": [
    "After some computation, we see that the number of rectangles that an $m \\times n$ grid has is the product of the $m$th and $n$th triangular numbers, i.e. $m(m+1)n(n+1)/4$. We compute these products for $1 \\leq m \\leq n \\leq 2000$ and compare their distances to $2$ million."
   ]
  },
  {
   "cell_type": "code",
   "execution_count": null,
   "id": "ad2b2010",
   "metadata": {},
   "outputs": [],
   "source": [
    "closest = [0,0,10**7]"
   ]
  },
  {
   "cell_type": "code",
   "execution_count": null,
   "id": "7c507ad2",
   "metadata": {},
   "outputs": [],
   "source": [
    "for n in range(1,2001):\n",
    "    for m in range(1,n):\n",
    "        dist = abs(2*(10**6) - ((m*(m+1))*n*(n+1))/4)\n",
    "        if dist < closest[2]:\n",
    "            closest = [m,n,dist]"
   ]
  },
  {
   "cell_type": "code",
   "execution_count": null,
   "id": "7e0b490d",
   "metadata": {},
   "outputs": [],
   "source": [
    "closest"
   ]
  },
  {
   "cell_type": "code",
   "execution_count": null,
   "id": "dbd337c7",
   "metadata": {},
   "outputs": [],
   "source": [
    "36*77"
   ]
  }
 ],
 "metadata": {
  "kernelspec": {
   "display_name": "Python 3 (ipykernel)",
   "language": "python",
   "name": "python3"
  },
  "language_info": {
   "codemirror_mode": {
    "name": "ipython",
    "version": 3
   },
   "file_extension": ".py",
   "mimetype": "text/x-python",
   "name": "python",
   "nbconvert_exporter": "python",
   "pygments_lexer": "ipython3",
   "version": "3.9.13"
  }
 },
 "nbformat": 4,
 "nbformat_minor": 5
}
