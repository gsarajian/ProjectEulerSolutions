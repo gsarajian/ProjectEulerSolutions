{
 "cells": [
  {
   "cell_type": "markdown",
   "id": "8b1c21b9",
   "metadata": {},
   "source": [
    "## By replacing the 1st digit of the 2-digit number *3, it turns out that six of the nine possible values: 13, 23, 43, 53, 73, and 83, are all prime.\n",
    "\n",
    "## By replacing the 3rd and 4th digits of 56**3 with the same digit, this 5-digit number is the first example having seven primes among the ten generated numbers, yielding the family: 56003, 56113, 56333, 56443, 56663, 56773, and 56993. Consequently 56003, being the first member of this family, is the smallest prime with this property.\n",
    "\n",
    "## Find the smallest prime which, by replacing part of the number (not necessarily adjacent digits) with the same digit, is part of an eight prime value family."
   ]
  },
  {
   "cell_type": "markdown",
   "id": "12e38f12",
   "metadata": {},
   "source": [
    "**Solution(s):**\n",
    "We start by generating an array of all primes less than a million. We'll increase the amount of digits that we'll look at until we found a large enough family. As we increase the number of digits, we create a list of primes of that length of digits. Then, using binary numbers as our guide to which digits to replace, we run through the list of primes and generate families of prime numbers that can be obtained by replacing the same part of the numbers with a different digit."
   ]
  },
  {
   "cell_type": "code",
   "execution_count": null,
   "id": "feda79c5",
   "metadata": {},
   "outputs": [],
   "source": [
    "from math import ceil, sqrt, floor"
   ]
  },
  {
   "cell_type": "code",
   "execution_count": null,
   "id": "82c72aa8",
   "metadata": {},
   "outputs": [],
   "source": [
    "def primesLessThan(n):\n",
    "    # A function that returns an array of all the primes less than or equal to n\n",
    "    primes = [2]        # the second component is positive iff the first component is a prime.\n",
    "    cands = [[i,1] for i in range(n+1)]\n",
    "    bgstPrime = primes[-1] # biggest prime in our list\n",
    "    i = 2\n",
    "    while bgstPrime <= sqrt(n):\n",
    "        pr = cands[i][0]\n",
    "        for k in range(ceil((n+1)/pr)):\n",
    "            cands[k*pr][1] -= 1 # this is crossing off the multiples of our previous primes\n",
    "        i += 1\n",
    "        while cands[i][1] <= 0:\n",
    "            i += 1\n",
    "        primes.append(i)\n",
    "        bgstPrime = i\n",
    "#    primes.extend([a[0] for a in cands[floor(sqrt(n)):] if a[1] >0])\n",
    "    primes.extend([a[0] for a in cands[i+1:] if a[1] >0])\n",
    "    return [m for m in primes if m <= n]"
   ]
  },
  {
   "cell_type": "code",
   "execution_count": null,
   "id": "dcd332ae",
   "metadata": {
    "scrolled": true
   },
   "outputs": [],
   "source": [
    "primes = primesLessThan(10**6)                   # generate a list of primes up to 10^6\n",
    "hsh = set(primes)                                # use a hash map for quicker primality checking"
   ]
  },
  {
   "cell_type": "code",
   "execution_count": null,
   "id": "0eae6444",
   "metadata": {},
   "outputs": [],
   "source": [
    "goal = 8                                         # size of family that we want"
   ]
  },
  {
   "cell_type": "code",
   "execution_count": null,
   "id": "ee4f294d",
   "metadata": {},
   "outputs": [],
   "source": [
    "carmax = 0          # current maximum family length\n",
    "digits = 1\n",
    "\n",
    "# Outermost loop will go through the number of digits\n",
    "while carmax < goal and digits < 7:\n",
    "    sameLenPrimes = [a for a in primes if len(str(a))==digits]    # generate a list of primes that are the same number of digits\n",
    "    i = 0\n",
    "    swapInds = [str(bin(a)[2:]) for a in range(1,2**digits-1)]    # create a list of list of indices that we'll want to swap\n",
    "    while i < len(sameLenPrimes) and carmax < goal:               # go through prime by prime generating and checking the families\n",
    "        curPrime = sameLenPrimes[i]                               # the current prime that we're finding the family of\n",
    "        for inds in swapInds:\n",
    "            primeString = list(str(curPrime))                     # convert it into a string for easier digit manipulation\n",
    "            family = []                                           # family of candidates\n",
    "            \n",
    "            # this loop goes through and changes the digits as determined by the binary number and appends them to the family\n",
    "            for j in range(10):\n",
    "                for k in range(len(inds)):\n",
    "                    ind = inds[-k-1]\n",
    "                    if ind == '1':\n",
    "                        primeString[-k-1] = str(j)\n",
    "                family.append(int(\"\".join(primeString))) \n",
    "            \n",
    "            \n",
    "            famsPrimes = [a for a in family if a in hsh and len(str(a))==digits] # refine the family to only have the primes\n",
    "            if len(famsPrimes) > carmax:\n",
    "                carmax = len(famsPrimes)\n",
    "                print(\"We have a new largest family! It's\", famsPrimes)\n",
    "        i+=1\n",
    "    digits += 1"
   ]
  }
 ],
 "metadata": {
  "kernelspec": {
   "display_name": "Python 3 (ipykernel)",
   "language": "python",
   "name": "python3"
  },
  "language_info": {
   "codemirror_mode": {
    "name": "ipython",
    "version": 3
   },
   "file_extension": ".py",
   "mimetype": "text/x-python",
   "name": "python",
   "nbconvert_exporter": "python",
   "pygments_lexer": "ipython3",
   "version": "3.9.13"
  }
 },
 "nbformat": 4,
 "nbformat_minor": 5
}
