{
 "cells": [
  {
   "cell_type": "markdown",
   "id": "dcd317c0",
   "metadata": {},
   "source": [
    "<p>Consider the following \"magic\" 3-gon ring, filled with the numbers 1 to 6, and each line adding to nine.</p>\n",
    "<div class=\"center\">\n",
    "<img src=\"project/images/p068_1.png\" class=\"dark_img\" alt=\"\" /><br /></div>\n",
    "<p>Working <b>clockwise</b>, and starting from the group of three with the numerically lowest external node (4,3,2 in this example), each solution can be described uniquely. For example, the above solution can be described by the set: 4,3,2; 6,2,1; 5,1,3.</p>\n",
    "<p>It is possible to complete the ring with four different totals: 9, 10, 11, and 12. There are eight solutions in total.</p>\n",
    "<div class=\"center\">\n",
    "<table width=\"400\" cellspacing=\"0\" cellpadding=\"0\"><tr><td width=\"100\"><b>Total</b></td><td width=\"300\"><b>Solution Set</b></td>\n",
    "</tr><tr><td>9</td><td>4,2,3; 5,3,1; 6,1,2</td>\n",
    "</tr><tr><td>9</td><td>4,3,2; 6,2,1; 5,1,3</td>\n",
    "</tr><tr><td>10</td><td>2,3,5; 4,5,1; 6,1,3</td>\n",
    "</tr><tr><td>10</td><td>2,5,3; 6,3,1; 4,1,5</td>\n",
    "</tr><tr><td>11</td><td>1,4,6; 3,6,2; 5,2,4</td>\n",
    "</tr><tr><td>11</td><td>1,6,4; 5,4,2; 3,2,6</td>\n",
    "</tr><tr><td>12</td><td>1,5,6; 2,6,4; 3,4,5</td>\n",
    "</tr><tr><td>12</td><td>1,6,5; 3,5,4; 2,4,6</td>\n",
    "</tr></table></div>\n",
    "<p>By concatenating each group it is possible to form 9-digit strings; the maximum string for a 3-gon ring is 432621513.</p>\n",
    "<p>Using the numbers 1 to 10, and depending on arrangements, it is possible to form 16- and 17-digit strings. What is the maximum <b>16-digit</b> string for a \"magic\" 5-gon ring?</p>"
   ]
  },
  {
   "cell_type": "markdown",
   "id": "2d3dcb47",
   "metadata": {},
   "source": [
    "**Solution:** Since we're looking for a 16-digit string, we know that 10 must be on the outer ring. We generate all $9!$ permutations of the digits $1$ through $9$ then convert each one to a $5$-gon ring, appending $10$ as the first outer node. We check which of these rings are perfect. This left few candidates left, which we compared by inspection."
   ]
  },
  {
   "cell_type": "code",
   "execution_count": null,
   "id": "ad2b2010",
   "metadata": {},
   "outputs": [],
   "source": [
    "# Generate the 9! permutations of the first 9 digits.\n",
    "\n",
    "cands = []\n",
    "for i in range(123456789,987654322):\n",
    "    s = str(i)\n",
    "    lst = list(s)\n",
    "    if len([*set(lst)]) == len(lst):\n",
    "        cands.append(i)"
   ]
  },
  {
   "cell_type": "code",
   "execution_count": null,
   "id": "4dab8f69",
   "metadata": {},
   "outputs": [],
   "source": [
    "# This shows that we mistakenly included those with 0s in them:\n",
    "len(cands)"
   ]
  },
  {
   "cell_type": "code",
   "execution_count": null,
   "id": "f72d1521",
   "metadata": {},
   "outputs": [],
   "source": [
    "# Remove those with 0s in them\n",
    "refined_1 = []\n",
    "for cand in cands:\n",
    "    if '0' not in list(str(cand)):\n",
    "        refined_1.append(cand)"
   ]
  },
  {
   "cell_type": "code",
   "execution_count": null,
   "id": "7df500bc",
   "metadata": {},
   "outputs": [],
   "source": [
    "# Checks that we got all 9!\n",
    "len(refined_1)"
   ]
  },
  {
   "cell_type": "code",
   "execution_count": null,
   "id": "18e6b5cb",
   "metadata": {},
   "outputs": [],
   "source": [
    "# Convert the integers into lists of digits\n",
    "refined_2 = []\n",
    "for cand in refined_1:\n",
    "    refined_2.append([int(a) for a in list(str(cand))])"
   ]
  },
  {
   "cell_type": "code",
   "execution_count": null,
   "id": "30c8ca69",
   "metadata": {},
   "outputs": [],
   "source": [
    "# Here we check which ones are perfect n-gons. We made 10 the first outer node, then went clockwise around the outer ring then the inner ring\n",
    "refined_3 = []\n",
    "for cand in refined_2:\n",
    "    cur_sum = 10 + cand[4] + cand[-1]\n",
    "    if cand[0] + cand[5] + cand[4] == cur_sum and cand[1] + cand[5] + cand[6] == cur_sum and cand[2] + cand[6] + cand[7] == cur_sum and cand[3] + cand[7] + cand[8] == cur_sum:\n",
    "        refined_3.append(cand)"
   ]
  },
  {
   "cell_type": "code",
   "execution_count": null,
   "id": "a5c4661a",
   "metadata": {},
   "outputs": [],
   "source": [
    "# Inspect our perfect 5-gon rings\n",
    "refined_3"
   ]
  }
 ],
 "metadata": {
  "kernelspec": {
   "display_name": "Python 3 (ipykernel)",
   "language": "python",
   "name": "python3"
  },
  "language_info": {
   "codemirror_mode": {
    "name": "ipython",
    "version": 3
   },
   "file_extension": ".py",
   "mimetype": "text/x-python",
   "name": "python",
   "nbconvert_exporter": "python",
   "pygments_lexer": "ipython3",
   "version": "3.9.13"
  }
 },
 "nbformat": 4,
 "nbformat_minor": 5
}
