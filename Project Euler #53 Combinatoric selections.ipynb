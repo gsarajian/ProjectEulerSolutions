{
 "cells": [
  {
   "cell_type": "markdown",
   "id": "8b1c21b9",
   "metadata": {},
   "source": [
    "## There are exactly ten ways of selecting three from five, 12345:\n",
    "\n",
    "$$123, 124, 125, 134, 135, 145, 234, 235, 245 \\textrm{, and } 345$$\n",
    "\n",
    "## In combinatorics, we use the notation, $\\binom{5}{3}$. \n",
    "\n",
    "## In general, $\\binom{n}{r} = \\frac{n!}{r!(n-r)!}$, where $r \\leq n$, $n! = n \\times (n-1) \\times \\cdots \\times 1$, and $0! = 1$.\n",
    "\n",
    "## It is not until $n = 23$, that a value exceeds one-million: $\\binom{23}{10} = 1144066$.\n",
    "\n",
    "## How many, not necessarily distinct, values of $\\binom{n}{r}$ for $1 \\leq n \\leq 100$, are greater than one-million?"
   ]
  },
  {
   "cell_type": "markdown",
   "id": "12e38f12",
   "metadata": {},
   "source": [
    "**Solution(s):**\n",
    "We simply brute force, checking all of the binomial coefficients in question"
   ]
  },
  {
   "cell_type": "code",
   "execution_count": null,
   "id": "feda79c5",
   "metadata": {},
   "outputs": [],
   "source": [
    "import math"
   ]
  },
  {
   "cell_type": "code",
   "execution_count": null,
   "id": "ee4f294d",
   "metadata": {},
   "outputs": [],
   "source": [
    "count = 0\n",
    "for i in range(1,101):\n",
    "    for j in range(1,i):\n",
    "        if math.comb(i,j) > 10**6:\n",
    "            count +=1\n",
    "count"
   ]
  }
 ],
 "metadata": {
  "kernelspec": {
   "display_name": "Python 3 (ipykernel)",
   "language": "python",
   "name": "python3"
  },
  "language_info": {
   "codemirror_mode": {
    "name": "ipython",
    "version": 3
   },
   "file_extension": ".py",
   "mimetype": "text/x-python",
   "name": "python",
   "nbconvert_exporter": "python",
   "pygments_lexer": "ipython3",
   "version": "3.9.13"
  }
 },
 "nbformat": 4,
 "nbformat_minor": 5
}
