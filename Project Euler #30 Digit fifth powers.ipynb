{
 "cells": [
  {
   "cell_type": "markdown",
   "id": "17f372f0",
   "metadata": {},
   "source": [
    "## Surprisingly there are only three numbers that can be written as the sum of fourth powers of their digits:\n",
    "\n",
    "$$1634 = 1^4 + 6^4 + 3^4 + 4^4$$\n",
    "$$8208 = 8^4 + 2^4 + 0^4 + 8^4$$\n",
    "$$9474 = 9^4 + 4^4 + 7^4 + 4^4$$\n",
    "## As $1 = 1^4$ is not a sum it is not included.\n",
    "\n",
    "## The sum of these numbers is $1634 + 8208 + 9474 = 19316$.\n",
    "\n",
    "## Find the sum of all the numbers that can be written as the sum of fifth powers of their digits."
   ]
  },
  {
   "cell_type": "markdown",
   "id": "00f29661",
   "metadata": {},
   "source": [
    "**Solution(s):**\n",
    "\n",
    "I think the best bet is to do a brute force solution and use the intuition that all such numbers will have to be less than $10^6$. There's likely a simple number theoretic explanation for this if it's true, but I'll save that for another time. "
   ]
  },
  {
   "cell_type": "code",
   "execution_count": 2,
   "id": "e5c82206",
   "metadata": {},
   "outputs": [
    {
     "name": "stdout",
     "output_type": "stream",
     "text": [
      "1\n",
      "32\n",
      "243\n",
      "1024\n",
      "3125\n",
      "7776\n",
      "16807\n",
      "32768\n",
      "59049\n"
     ]
    }
   ],
   "source": [
    "for i in range(1,10):\n",
    "    print(i**5)"
   ]
  },
  {
   "cell_type": "code",
   "execution_count": 15,
   "id": "e12369a1",
   "metadata": {},
   "outputs": [
    {
     "data": {
      "text/plain": [
       "4150"
      ]
     },
     "execution_count": 15,
     "metadata": {},
     "output_type": "execute_result"
    }
   ],
   "source": []
  }
 ],
 "metadata": {
  "kernelspec": {
   "display_name": "Python 3 (ipykernel)",
   "language": "python",
   "name": "python3"
  },
  "language_info": {
   "codemirror_mode": {
    "name": "ipython",
    "version": 3
   },
   "file_extension": ".py",
   "mimetype": "text/x-python",
   "name": "python",
   "nbconvert_exporter": "python",
   "pygments_lexer": "ipython3",
   "version": "3.10.6"
  }
 },
 "nbformat": 4,
 "nbformat_minor": 5
}
