{
 "cells": [
  {
   "cell_type": "markdown",
   "id": "dcd317c0",
   "metadata": {},
   "source": [
    "<p>By starting at the top of the triangle below and moving to adjacent numbers on the row below, the maximum total from top to bottom is 23.</p>\n",
    "<p class=\"monospace center\"><span class=\"red\"><b>3</b></span><br /><span class=\"red\"><b>7</b></span> 4<br />\n",
    "2 <span class=\"red\"><b>4</b></span> 6<br />\n",
    "8 5 <span class=\"red\"><b>9</b></span> 3</p>\n",
    "<p>That is, 3 + 7 + 4 + 9 = 23.</p>\n",
    "<p>Find the maximum total from top to bottom in <a href=\"project/resources/p067_triangle.txt\">triangle.txt</a> (right click and 'Save Link/Target As...'), a 15K text file containing a triangle with one-hundred rows.</p>\n",
    "<p class=\"smaller\"><b>NOTE:</b> This is a much more difficult version of <a href=\"problem=18\">Problem 18</a>. It is not possible to try every route to solve this problem, as there are 2<sup>99</sup> altogether! If you could check one trillion (10<sup>12</sup>) routes every second it would take over twenty billion years to check them all. There is an efficient algorithm to solve it. ;o)</p>\n"
   ]
  },
  {
   "cell_type": "markdown",
   "id": "2d3dcb47",
   "metadata": {},
   "source": [
    "We solve using the [Viterbi algorithm](https://en.wikipedia.org/wiki/Viterbi_algorithm). We convert the txt document into a matrix whose entries are the numbers in the file and the maximum of a path going from the top to that node. When finished, we take the maximum of the last row."
   ]
  },
  {
   "cell_type": "code",
   "execution_count": null,
   "id": "ad2b2010",
   "metadata": {},
   "outputs": [],
   "source": [
    "triangle = open(\"p067_triangle.txt\", \"r\")\n",
    "dp = [[[0,0] for i in range(100)] for j in range(100)]             # matrix that we'll populate\n",
    "\n",
    "# go through the file line by line and put the numbers into dp\n",
    "for i in range(100):\n",
    "    line = triangle.readline()\n",
    "    j = 0\n",
    "    while line:\n",
    "        dp[i][j][0] = int(line[:2])\n",
    "        line = line[3:]\n",
    "        j += 1"
   ]
  },
  {
   "cell_type": "code",
   "execution_count": null,
   "id": "27d3dda4",
   "metadata": {},
   "outputs": [],
   "source": [
    "dp[0][0][1] = dp[0][0][0]\n",
    "for i in range(1,100):\n",
    "    for j in range(100):\n",
    "        if j == 0:                                         # the case where we're on the leftmost entry of a row\n",
    "            dp[i][j][1] = dp[i-1][j][1] + dp[i][j][0]\n",
    "        else:\n",
    "            dp[i][j][1] = max(dp[i-1][j][1], dp[i-1][j-1][1]) + dp[i][j][0]"
   ]
  },
  {
   "cell_type": "code",
   "execution_count": null,
   "id": "6741b831",
   "metadata": {},
   "outputs": [],
   "source": [
    "max([a[1] for a in dp[-1]])"
   ]
  }
 ],
 "metadata": {
  "kernelspec": {
   "display_name": "Python 3 (ipykernel)",
   "language": "python",
   "name": "python3"
  },
  "language_info": {
   "codemirror_mode": {
    "name": "ipython",
    "version": 3
   },
   "file_extension": ".py",
   "mimetype": "text/x-python",
   "name": "python",
   "nbconvert_exporter": "python",
   "pygments_lexer": "ipython3",
   "version": "3.9.13"
  }
 },
 "nbformat": 4,
 "nbformat_minor": 5
}
