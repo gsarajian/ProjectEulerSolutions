{
 "cells": [
  {
   "cell_type": "markdown",
   "id": "dcd317c0",
   "metadata": {},
   "source": [
    "<p class=\"small_notice\">NOTE: This problem is a more challenging version of <a href=https://projecteuler.net/problem=81>Problem 81</a>.</p>\n",
    "<p>The minimal path sum in the 5 by 5 matrix below, by starting in any cell in the left column and finishing in any cell in the right column, and only moving up, down, and right, is indicated in red and bold; the sum is equal to 994.</p>\n",
    "<div class=\"center\">\n",
    "$$\n",
    "\\begin{pmatrix}\n",
    "131 & 673 & \\color{red}{234} & \\color{red}{103} & \\color{red}{18}\\\\\n",
    "\\color{red}{201} & \\color{red}{96} & \\color{red}{342} & 965 & 150\\\\\n",
    "630 & 803 & 746 & 422 & 111\\\\\n",
    "537 & 699 & 497 & 121 & 956\\\\\n",
    "805 & 732 & 524 & 37 & 331\n",
    "\\end{pmatrix}\n",
    "$$\n",
    "</div>\n",
    "<p>Find the minimal path sum from the left column to the right column in <a href=https://projecteuler.net/project/resources/p082_matrix.txt>matrix.txt</a> (right click and \"Save Link/Target As...\"), a 31K text file containing an 80 by 80 matrix.</p>"
   ]
  },
  {
   "cell_type": "markdown",
   "id": "2d3dcb47",
   "metadata": {},
   "source": [
    "We solve using the [Viterbi algorithm](https://en.wikipedia.org/wiki/Viterbi_algorithm). We convert the txt document into a matrix whose entries are the numbers in the file and keep track of the minimum sum of a path going through an entry. We compute this row by column, starting off by initializing the first column, then computing the proceeding column by starting at the top, computing all of the minima achieved by going down, and then comparing them to minima achieved by going up. Once we've done this for the whole matrix, we look at the smallest sums in the last column."
   ]
  },
  {
   "cell_type": "code",
   "execution_count": null,
   "id": "ad2b2010",
   "metadata": {},
   "outputs": [],
   "source": [
    "matrix = open(\"p082_matrix.txt\", \"r\")\n",
    "dp = [[[0,0] for i in range(80)] for j in range(80)]             # matrix that we'll populate\n",
    "\n",
    "# go through the file line by line and put the numbers into dp\n",
    "for i in range(80):\n",
    "    line = matrix.readline()\n",
    "    \n",
    "    # The for loop enters the first 79 entries of the row, then we'll handle the 80th\n",
    "    for j in range(79):\n",
    "        cut = line.index(',')\n",
    "        num = int(line[:cut])\n",
    "        dp[i][j][0] = num\n",
    "        line = line[cut+1:]\n",
    "        \n",
    "    # Deal with the 80th entry\n",
    "    dp[i][-1][0] = int(line)"
   ]
  },
  {
   "cell_type": "code",
   "execution_count": null,
   "id": "2486b4f5",
   "metadata": {},
   "outputs": [],
   "source": [
    "# Inisialize the first column\n",
    "for i in range(80):\n",
    "    dp[i][0][1] = dp[i][0][0]"
   ]
  },
  {
   "cell_type": "code",
   "execution_count": null,
   "id": "b9efa733",
   "metadata": {},
   "outputs": [],
   "source": [
    "for i in range(1,80):\n",
    "    # Set the first entry of the column\n",
    "    dp[0][i][1] = dp[0][i-1][1] + dp[0][i][0]\n",
    "    \n",
    "    # Go down and find the minima from paths going down\n",
    "    for j in range(1,80):\n",
    "        dp[j][i][1] = min(dp[j-1][i][1], dp[j][i-1][1]) + dp[j][i][0]\n",
    "        \n",
    "    # Go up and find the minima of paths going up\n",
    "    for j in range(1,80):\n",
    "        dp[79-j][i][1] = min(dp[79-j+1][i][1]+dp[79-j][i][0], dp[79-j][i][1])\n"
   ]
  },
  {
   "cell_type": "code",
   "execution_count": null,
   "id": "6a0582b6",
   "metadata": {},
   "outputs": [],
   "source": [
    "min([dp[i][-1][1] for i in range(80)])"
   ]
  }
 ],
 "metadata": {
  "kernelspec": {
   "display_name": "Python 3 (ipykernel)",
   "language": "python",
   "name": "python3"
  },
  "language_info": {
   "codemirror_mode": {
    "name": "ipython",
    "version": 3
   },
   "file_extension": ".py",
   "mimetype": "text/x-python",
   "name": "python",
   "nbconvert_exporter": "python",
   "pygments_lexer": "ipython3",
   "version": "3.9.13"
  }
 },
 "nbformat": 4,
 "nbformat_minor": 5
}
