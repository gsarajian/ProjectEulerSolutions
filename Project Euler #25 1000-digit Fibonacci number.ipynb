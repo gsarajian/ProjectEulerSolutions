{
 "cells": [
  {
   "cell_type": "markdown",
   "id": "17f372f0",
   "metadata": {},
   "source": [
    "## The Fibonacci sequence is defined by the recurrence relation:\n",
    "\n",
    "## $F_n = F_{n−1} + F_{n−2}$, where $F_1 = 1$ and $F_2 = 1$.\n",
    "## Hence the first 12 terms will be:\n",
    "\n",
    "$$F_1 = 1$$\n",
    "$$F_2 = 1$$\n",
    "$$F_3 = 2$$\n",
    "$$F_4 = 3$$\n",
    "$$F_5 = 5$$\n",
    "$$F_6 = 8$$\n",
    "$$F_7 = 13$$\n",
    "$$F_8 = 21$$\n",
    "$$F_9 = 34$$\n",
    "$$F_{10} = 55$$\n",
    "$$F_{11} = 89$$\n",
    "$$F_{12} = 144$$\n",
    "The 12th term, $F_{12}$, is the first term to contain three digits.\n",
    "\n",
    "What is the index of the first term in the Fibonacci sequence to contain 1000 digits?"
   ]
  },
  {
   "cell_type": "markdown",
   "id": "00f29661",
   "metadata": {},
   "source": [
    "**Solution(s):**\n",
    "\n",
    "We use dynamic programming to compute the Fibonacci terms. We save some memory by only keeping the last two entries and the index instead of the entire array. We'll stop once we've reached a term with 1000 digits."
   ]
  },
  {
   "cell_type": "code",
   "execution_count": null,
   "id": "b7c3326d",
   "metadata": {},
   "outputs": [],
   "source": [
    "# a, b, & c will represent F_{n-2}, F_{n-1}, and F_n, respectively.\n",
    "# n will be the index\n",
    "a = 1\n",
    "b = 1\n",
    "c = a + b\n",
    "n = 3\n",
    "while len(str(c)) < 1000:\n",
    "    a = b\n",
    "    b = c\n",
    "    c = a+b\n",
    "    n += 1\n",
    "n"
   ]
  }
 ],
 "metadata": {
  "kernelspec": {
   "display_name": "Python 3 (ipykernel)",
   "language": "python",
   "name": "python3"
  },
  "language_info": {
   "codemirror_mode": {
    "name": "ipython",
    "version": 3
   },
   "file_extension": ".py",
   "mimetype": "text/x-python",
   "name": "python",
   "nbconvert_exporter": "python",
   "pygments_lexer": "ipython3",
   "version": "3.10.6"
  }
 },
 "nbformat": 4,
 "nbformat_minor": 5
}
