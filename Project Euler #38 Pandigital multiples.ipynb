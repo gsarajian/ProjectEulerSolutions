{
 "cells": [
  {
   "cell_type": "markdown",
   "metadata": {},
   "source": [
    "## Take the number 192 and multiply it by each of 1, 2, and 3:\n",
    "\n",
    "192 × 1 = 192\n",
    "192 × 2 = 384\n",
    "192 × 3 = 576\n",
    "## By concatenating each product we get the 1 to 9 pandigital, 192384576. We will call 192384576 the concatenated product of 192 and (1,2,3)\n",
    "\n",
    "## The same can be achieved by starting with 9 and multiplying by 1, 2, 3, 4, and 5, giving the pandigital, 918273645, which is the concatenated product of 9 and (1,2,3,4,5).\n",
    "\n",
    "## What is the largest 1 to 9 pandigital 9-digit number that can be formed as the concatenated product of an integer with $(1,2, ... , n)$ where $n > 1$?"
   ]
  },
  {
   "cell_type": "markdown",
   "metadata": {},
   "source": [
    "**Solution(s):** \n",
    "\n",
    "The example will be multipled by the smallest possible $n$. For $n = 2$, we need to look at a 4-digit number $k$ that is bigger than $5000$ so that $2k$ has 5-digits. Looping through these candidates we find the largest example."
   ]
  },
  {
   "cell_type": "code",
   "execution_count": null,
   "metadata": {},
   "outputs": [],
   "source": [
    "mx = 0\n",
    "for k in range(5000, 10000):\n",
    "    numb = str(k) + str(2*k)    # is the concatenation of k and 2*k\n",
    "    digsPres = True\n",
    "    for i in range(1,10):\n",
    "        if str(i) not in numb:\n",
    "            digsPres = False    # if a digit isn't present, mark this as not 1 to 9 pandigital\n",
    "    if digsPres:\n",
    "        mx = k\n",
    "str(mx) + str(2*mx)"
   ]
  }
 ],
 "metadata": {
  "kernelspec": {
   "display_name": "Python 3",
   "language": "python",
   "name": "python3"
  },
  "language_info": {
   "codemirror_mode": {
    "name": "ipython",
    "version": 3
   },
   "file_extension": ".py",
   "mimetype": "text/x-python",
   "name": "python",
   "nbconvert_exporter": "python",
   "pygments_lexer": "ipython3",
   "version": "3.8.5"
  }
 },
 "nbformat": 4,
 "nbformat_minor": 4
}
