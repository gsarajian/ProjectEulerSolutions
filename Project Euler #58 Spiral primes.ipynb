{
 "cells": [
  {
   "cell_type": "markdown",
   "id": "8b1c21b9",
   "metadata": {},
   "source": [
    "## Starting with 1 and spiralling anticlockwise in the following way, a square spiral with side length 7 is formed.\n",
    "\n",
    "37 36 35 34 33 32 31\n",
    "\n",
    "38 17 16 15 14 13 30\n",
    "\n",
    "39 18  5  4  3 12 29\n",
    "\n",
    "40 19  6  1  2 11 28\n",
    "\n",
    "41 20  7  8  9 10 27\n",
    "\n",
    "42 21 22 23 24 25 26\n",
    "\n",
    "43 44 45 46 47 48 49\n",
    "\n",
    "## It is interesting to note that the odd squares lie along the bottom right diagonal, but what is more interesting is that 8 out of the 13 numbers lying along both diagonals are prime; that is, a ratio of 8/13 ≈ 62%.\n",
    "\n",
    "## If one complete new layer is wrapped around the spiral above, a square spiral with side length 9 will be formed. If this process is continued, what is the side length of the square spiral for which the ratio of primes along both diagonals first falls below 10%?"
   ]
  },
  {
   "cell_type": "markdown",
   "id": "12e38f12",
   "metadata": {},
   "source": [
    "**Solution(s):**\n",
    "We start by generating an array of all primes less than 100 million. We use the following polynomials to help us generate the values along the diagonals:\n",
    "\n",
    "$$f(n) = 4n^2 + 1$$\n",
    "$$g(n) = 4n^2 - 2n + 1$$\n",
    "$$h(n) = 4n^2 + 2n + 1$$\n",
    "\n",
    "The bottom right diagonal always contains squares, so it will never be prime. It's easy to count how many elements we have along the diagonal, so we keep track of that as well. "
   ]
  },
  {
   "cell_type": "code",
   "execution_count": null,
   "id": "feda79c5",
   "metadata": {},
   "outputs": [],
   "source": [
    "from math import ceil, sqrt, floor"
   ]
  },
  {
   "cell_type": "code",
   "execution_count": null,
   "id": "82c72aa8",
   "metadata": {},
   "outputs": [],
   "source": [
    "def primesLessThan(n):\n",
    "    # A function that returns an array of all the primes less than or equal to n\n",
    "    primes = [2]        # the second component is positive iff the first component is a prime.\n",
    "    cands = [1 for i in range(n+1)]\n",
    "    bgstPrime = primes[-1] # biggest prime in our list\n",
    "    i = 2\n",
    "    while bgstPrime <= sqrt(n):\n",
    "        pr = i\n",
    "        for k in range(ceil((n+1)/pr)):\n",
    "            cands[k*pr] -= 1 # this is crossing off the multiples of our previous primes\n",
    "        i += 1\n",
    "        while cands[i] <= 0:\n",
    "            i += 1\n",
    "        primes.append(i)\n",
    "        bgstPrime = i\n",
    "    primes.extend([a for a in range(i+1,n+1) if cands[a]>0])\n",
    "    return [m for m in primes if m <= n]"
   ]
  },
  {
   "cell_type": "code",
   "execution_count": null,
   "id": "dcd332ae",
   "metadata": {
    "scrolled": true
   },
   "outputs": [],
   "source": [
    "primes = primesLessThan(10**9)                   # generate a list of primes up to 10^9\n",
    "hsh = set(primes)                                # use a hash map for quicker primality checking"
   ]
  },
  {
   "cell_type": "code",
   "execution_count": null,
   "id": "0eae6444",
   "metadata": {},
   "outputs": [],
   "source": [
    "numPrimes = 0                                    # counts the number of primes we've seen\n",
    "sideLen = 1                                      # keeps track of the side length \n",
    "numElt = 1                                       # keeps track of the total number of elements on the diagonals\n",
    "i = 1                                            # how many steps we've taken\n",
    "perc = 1                                         # percentage of the diagonals that are prime\n",
    "while perc > 0.1:\n",
    "    sideLen += 2\n",
    "    numElt = 4*i+1                               # we add four elements each step\n",
    "    \n",
    "    # here are the three polynomials to compute the relevant diagonal entries.\n",
    "    a = (2*i)**2 + 1\n",
    "    b = 4*i**2-2*i + 1\n",
    "    c = 4*i**2+2*i + 1\n",
    "    i += 1\n",
    "    \n",
    "    # check if they're prime and add them to the count if they are\n",
    "    numPrimes += (a in hsh) + (b in hsh) + (c in hsh)\n",
    "    perc = numPrimes / numElt\n",
    "    print(sideLen, numElt, a,b,c,numPrimes, perc)"
   ]
  }
 ],
 "metadata": {
  "kernelspec": {
   "display_name": "Python 3 (ipykernel)",
   "language": "python",
   "name": "python3"
  },
  "language_info": {
   "codemirror_mode": {
    "name": "ipython",
    "version": 3
   },
   "file_extension": ".py",
   "mimetype": "text/x-python",
   "name": "python",
   "nbconvert_exporter": "python",
   "pygments_lexer": "ipython3",
   "version": "3.9.13"
  }
 },
 "nbformat": 4,
 "nbformat_minor": 5
}
