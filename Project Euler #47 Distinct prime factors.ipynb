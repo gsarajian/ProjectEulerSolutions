{
 "cells": [
  {
   "cell_type": "markdown",
   "id": "8b1c21b9",
   "metadata": {},
   "source": [
    "## The first two consecutive numbers to have two distinct prime factors are:\n",
    "\n",
    "$$14 = 2 \\times 7$$\n",
    "$$15 = 3 \\times 5$$\n",
    "\n",
    "## The first three consecutive numbers to have three distinct prime factors are:\n",
    "\n",
    "$$644 = 2^2 \\times 7 \\times 23$$\n",
    "$$645 = 3 \\times 5 \\times 43$$\n",
    "$$646 = 2 \\times 17 \\times 19$$\n",
    "\n",
    "## Find the first four consecutive integers to have four distinct prime factors each. What is the first of these numbers?"
   ]
  },
  {
   "cell_type": "code",
   "execution_count": 1,
   "id": "966cecba",
   "metadata": {},
   "outputs": [
    {
     "data": {
      "text/plain": [
       "'C:\\\\Users\\\\garo.sarajian\\\\Documents'"
      ]
     },
     "execution_count": 1,
     "metadata": {},
     "output_type": "execute_result"
    }
   ],
   "source": [
    "pwd"
   ]
  },
  {
   "cell_type": "markdown",
   "id": "12e38f12",
   "metadata": {},
   "source": [
    "**Solution(s):**\n",
    "We start with computing a table of composite numbers for integers up to a large number, and while doing so, we keep track of how many distinct prime divisors the composites in question have. We then find four consecutive integers with four distinct prime factors each, we return the first of those four."
   ]
  },
  {
   "cell_type": "code",
   "execution_count": null,
   "id": "feda79c5",
   "metadata": {},
   "outputs": [],
   "source": [
    "from math import ceil, sqrt, floor"
   ]
  },
  {
   "cell_type": "code",
   "execution_count": null,
   "id": "82c72aa8",
   "metadata": {},
   "outputs": [],
   "source": [
    "def compositesLessThan(n):\n",
    "    # A function that returns an array of all the primes less than or equal to n\n",
    "    factorizations = [[0,[]],[1,[]],[2,[[2,1]]]].extend([[a,[]] for a in range(3,n+1)])     #the second component is positive iff the first component is a prime.\n",
    "    cands = [[i,1] for i in range(n+1)]\n",
    "    primes = [2]        #the second component is positive iff the first component is a prime.\n",
    "    bgstPrime = primes[-1] #biggest prime in our listbgstPrime = primes[-1] #biggest prime in our list\n",
    "    i = 2\n",
    "    while bgstPrime <= sqrt(n):\n",
    "        pr = cands[i][0]\n",
    "        for k in range(ceil((n+1)/pr)):\n",
    "            cands[k*pr][1] -= 1 #this is crossing off the multiples of our previous primes\n",
    "        i += 1\n",
    "        while cands[i][1] <= 0:\n",
    "            i += 1\n",
    "        primes.append(i)\n",
    "        bgstPrime = i\n",
    "    primes.extend([a[0] for a in cands[floor(sqrt(n)):] if a[1] >0])\n",
    "    return [m for m in cands if m[1] < -2] # returns those that have been crossed out more than 3 times."
   ]
  },
  {
   "cell_type": "code",
   "execution_count": null,
   "id": "87a9569c",
   "metadata": {},
   "outputs": [],
   "source": [
    "comps = compositesLessThan(10**6) "
   ]
  },
  {
   "cell_type": "code",
   "execution_count": null,
   "id": "c233a614",
   "metadata": {},
   "outputs": [],
   "source": [
    "for i in range(len(comps)-3):\n",
    "    if comps[i][0] == comps[i+1][0]-1 and comps[i][0] == comps[i+2][0]-2 and comps[i][0] == comps[i+3][0]-3:\n",
    "        print(comps[i], comps[i+1], comps[i+2], comps[i+3])\n",
    "        break"
   ]
  }
 ],
 "metadata": {
  "kernelspec": {
   "display_name": "Python 3 (ipykernel)",
   "language": "python",
   "name": "python3"
  },
  "language_info": {
   "codemirror_mode": {
    "name": "ipython",
    "version": 3
   },
   "file_extension": ".py",
   "mimetype": "text/x-python",
   "name": "python",
   "nbconvert_exporter": "python",
   "pygments_lexer": "ipython3",
   "version": "3.9.13"
  }
 },
 "nbformat": 4,
 "nbformat_minor": 5
}
