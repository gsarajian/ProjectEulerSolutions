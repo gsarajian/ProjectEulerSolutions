{
 "cells": [
  {
   "cell_type": "markdown",
   "id": "8b1c21b9",
   "metadata": {},
   "source": [
    "<p>Let p(<i>n</i>) represent the number of different ways in which <i>n</i> coins can be separated into piles. For example, five coins can be separated into piles in exactly seven different ways, so p(5)=7.</p>\n",
    "<div class=\"margin_left\">\n",
    "OOOOO<br />\n",
    "OOOO   O<br />\n",
    "OOO   OO<br />\n",
    "OOO   O   O<br />\n",
    "OO   OO   O<br />\n",
    "OO   O   O   O<br />\n",
    "O   O   O   O   O\n",
    "</div>\n",
    "<p>Find the least value of <i>n</i> for which p(<i>n</i>) is divisible by one million.</p>"
   ]
  },
  {
   "cell_type": "markdown",
   "id": "12e38f12",
   "metadata": {},
   "source": [
    "**Solution(s):**\n",
    "We use on the function $p(n)$ that counts how many ways to write $n$ as a sum of positive integers, where the trivial sum $n$ by itself counts. So $p(1) = 1$, $p(2) = 2$, $p(5) = 7$, and so on. We're looking for the smallest value $n$ such that $p(n) \\equiv 0 \\mod 10^6$. To compute $p(n)$, we use the [recurrence relations](https://en.wikipedia.org/wiki/Partition_function_(number_theory)#Recurrence_relations) for $p(n)$, which uses the generalized pentagonal numbers. After generating the generalized pentagonal numbers, we use dynamic programming to compute $p(n)$ for $n$ up to $10^5$, then check which is the first one satisfying our desired condition."
   ]
  },
  {
   "cell_type": "code",
   "execution_count": null,
   "id": "44a92486",
   "metadata": {},
   "outputs": [],
   "source": [
    "from math import floor, sqrt"
   ]
  },
  {
   "cell_type": "code",
   "execution_count": null,
   "id": "56458fe2",
   "metadata": {},
   "outputs": [],
   "source": [
    "# Introduce variables to change the number of pentagonal numbers and p(n) we'll compute\n",
    "cap = 10**5                          # How many p(n)\n",
    "L = int(floor(sqrt(cap))+1)          # Upper bound for how many pentagonal numbers we'll need"
   ]
  },
  {
   "cell_type": "code",
   "execution_count": null,
   "id": "feda79c5",
   "metadata": {},
   "outputs": [],
   "source": [
    "# Generate the pentagonal numbers\n",
    "posPents = [int(n*(3*n-1)/2) for n in range(1,L)]\n",
    "negPents = [int(n*(3*n+1)/2) for n in range(1,L)]"
   ]
  },
  {
   "cell_type": "code",
   "execution_count": null,
   "id": "7d76705c",
   "metadata": {},
   "outputs": [],
   "source": [
    "# Create an array \"parts\" that will store the partition numbers, then iterate through it to compute its values\n",
    "parts = [0]*(cap)\n",
    "parts[0]=1\n",
    "for i in range(1,cap):\n",
    "    # We need to add and subtract earlier partition numbers, so use j as an index for the pentagonal numbers\n",
    "    j = 0\n",
    "    pos = 1        # jth (regular) pentagonal number\n",
    "    neg = 2        # jth pentagonal number coming from a negative generator\n",
    "    while pos <= i or neg <= i and j < L:\n",
    "        # p(n) is 0 for negative n, so we only add and subtract those we've already generated.\n",
    "        if pos <= i:\n",
    "            parts[i] += parts[i-pos]*(-1)**(j)\n",
    "            \n",
    "        if neg <= i:\n",
    "            parts[i] += parts[i-neg]*(-1)**(j)\n",
    "        j += 1\n",
    "        pos = posPents[j]\n",
    "        neg = negPents[j]"
   ]
  },
  {
   "cell_type": "code",
   "execution_count": null,
   "id": "6f284adc",
   "metadata": {},
   "outputs": [],
   "source": [
    "# Create a loop to help us check the congruence condition\n",
    "found = False\n",
    "i = 0\n",
    "while not found and i < cap-1:\n",
    "    found = (parts[i])%(10**6) == 0\n",
    "    i+=1\n",
    "print(i-1, parts[i-1])"
   ]
  }
 ],
 "metadata": {
  "kernelspec": {
   "display_name": "Python 3 (ipykernel)",
   "language": "python",
   "name": "python3"
  },
  "language_info": {
   "codemirror_mode": {
    "name": "ipython",
    "version": 3
   },
   "file_extension": ".py",
   "mimetype": "text/x-python",
   "name": "python",
   "nbconvert_exporter": "python",
   "pygments_lexer": "ipython3",
   "version": "3.9.13"
  }
 },
 "nbformat": 4,
 "nbformat_minor": 5
}
