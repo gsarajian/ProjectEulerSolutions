{
 "cells": [
  {
   "cell_type": "markdown",
   "id": "8b1c21b9",
   "metadata": {},
   "source": [
    "<p>It turns out that 12 cm is the smallest length of wire that can be bent to form an integer sided right angle triangle in exactly one way, but there are many more examples.</p>\n",
    "<p class=\"margin_left\"><b>12 cm</b>: (3,4,5)<br /><b>24 cm</b>: (6,8,10)<br /><b>30 cm</b>: (5,12,13)<br /><b>36 cm</b>: (9,12,15)<br /><b>40 cm</b>: (8,15,17)<br /><b>48 cm</b>: (12,16,20)</p>\n",
    "<p>In contrast, some lengths of wire, like 20 cm, cannot be bent to form an integer sided right angle triangle, and other lengths allow more than one solution to be found; for example, using 120 cm it is possible to form exactly three different integer sided right angle triangles.</p>\n",
    "<p class=\"margin_left\"><b>120 cm</b>: (30,40,50), (20,48,52), (24,45,51)</p>\n",
    "<p>Given that L is the length of the wire, for how many values of L ≤ 1,500,000 can exactly one integer sided right angle triangle be formed?</p>\n"
   ]
  },
  {
   "cell_type": "markdown",
   "id": "12e38f12",
   "metadata": {},
   "source": [
    "**Solution(s):**\n",
    "We start by generating all primitive Pythagorean triples using [Euclid's formula](https://en.wikipedia.org/wiki/Pythagorean_triple#Generating_a_triple), permitting some lengths above 1.5 million. Next, we create an array of 0s to count the amount of times a length $l$ can be written as a sum of the lengths of the sides of a triple. We then loop through the primitive triples and look at each multiple of a triple and add a tally to the counts of lenghts. Finally, we sum those whose lengths are 1."
   ]
  },
  {
   "cell_type": "code",
   "execution_count": 1,
   "id": "feda79c5",
   "metadata": {},
   "outputs": [],
   "source": [
    "import math"
   ]
  },
  {
   "cell_type": "code",
   "execution_count": 59,
   "id": "04739e4c",
   "metadata": {},
   "outputs": [],
   "source": [
    "# Create a list of primitive right triangles.\n",
    "prims = []\n",
    "for m in range(1,math.floor(math.sqrt(750000))+1):\n",
    "    for n in range(1,m):\n",
    "        if math.gcd(m,n) == 1 and ((m%2)+(n%2))==1:\n",
    "            prims.append(2*(m**2) + 2*m*n)"
   ]
  },
  {
   "cell_type": "code",
   "execution_count": 60,
   "id": "65417ed8",
   "metadata": {},
   "outputs": [],
   "source": [
    "counts = [0]*(15*(10**5)+1)"
   ]
  },
  {
   "cell_type": "code",
   "execution_count": 63,
   "id": "0d05eeac",
   "metadata": {},
   "outputs": [],
   "source": [
    "for prim in prims:\n",
    "    for i in range(1,math.floor(15*(10**5)/prim)+1):\n",
    "        counts[i*prim] += 1"
   ]
  },
  {
   "cell_type": "code",
   "execution_count": 67,
   "id": "d8ecfac5",
   "metadata": {},
   "outputs": [
    {
     "data": {
      "text/plain": [
       "161667"
      ]
     },
     "execution_count": 67,
     "metadata": {},
     "output_type": "execute_result"
    }
   ],
   "source": [
    "sum([a for a in counts if a == 1])"
   ]
  }
 ],
 "metadata": {
  "kernelspec": {
   "display_name": "Python 3 (ipykernel)",
   "language": "python",
   "name": "python3"
  },
  "language_info": {
   "codemirror_mode": {
    "name": "ipython",
    "version": 3
   },
   "file_extension": ".py",
   "mimetype": "text/x-python",
   "name": "python",
   "nbconvert_exporter": "python",
   "pygments_lexer": "ipython3",
   "version": "3.9.13"
  }
 },
 "nbformat": 4,
 "nbformat_minor": 5
}
