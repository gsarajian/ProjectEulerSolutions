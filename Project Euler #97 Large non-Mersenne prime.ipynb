{
 "cells": [
  {
   "cell_type": "markdown",
   "id": "8b1c21b9",
   "metadata": {},
   "source": [
    "<p>The first known prime found to exceed one million digits was discovered in 1999, and is a Mersenne prime of the form 2<sup>6972593</sup>−1; it contains exactly 2,098,960 digits. Subsequently other Mersenne primes, of the form 2<sup><i>p</i></sup>−1, have been found which contain more digits.</p>\n",
    "<p>However, in 2004 there was found a massive non-Mersenne prime which contains 2,357,207 digits: 28433×2<sup>7830457</sup>+1.</p>\n",
    "<p>Find the last ten digits of this prime number.</p>"
   ]
  },
  {
   "cell_type": "markdown",
   "id": "12e38f12",
   "metadata": {},
   "source": [
    "**Solution(s):**\n",
    "\n",
    "We use successive squaring and Euler's theorem to compute the value. We start by taking the exponent $a=7830457$ and writing it in binary $a = a_m a_{m-1} \\cdots a_1$. We keep a running product called \"out\" which will end up being $2^a$. We initialize \"out\" as 1 and then compute powers $2^{2^b}$ and multiplying these powers by \"out\" if the corresponding bit $a^b$ in the binary represntation of $a$ is $1$. This computes $2^a$ as $2^{a_m \\cdot 2^m + a_{m-1} \\cdot 2^{m-1} \\cdots + a_1 \\cdot 2}$. Finishing the computation is relatively straightforward."
   ]
  },
  {
   "cell_type": "code",
   "execution_count": null,
   "id": "4ba0c3d5",
   "metadata": {},
   "outputs": [],
   "source": [
    "# Find the binary representation\n",
    "binRep = [int(a) for a in bin(7830457)[2:]]\n",
    "binRep"
   ]
  },
  {
   "cell_type": "code",
   "execution_count": null,
   "id": "adea1149",
   "metadata": {},
   "outputs": [],
   "source": [
    "# Compute the power 2^a via successive squaring\n",
    "out = 1\n",
    "k = 2\n",
    "i = 0\n",
    "l = len(binRep)\n",
    "while i < l:\n",
    "    if binRep[-i-1] == 1:\n",
    "        out *= k\n",
    "        out = out % (10**10)\n",
    "    k = k**2 % 10**10\n",
    "    i += 1"
   ]
  },
  {
   "cell_type": "code",
   "execution_count": null,
   "id": "53353fea",
   "metadata": {},
   "outputs": [],
   "source": [
    "28433*out+1"
   ]
  }
 ],
 "metadata": {
  "kernelspec": {
   "display_name": "Python 3 (ipykernel)",
   "language": "python",
   "name": "python3"
  },
  "language_info": {
   "codemirror_mode": {
    "name": "ipython",
    "version": 3
   },
   "file_extension": ".py",
   "mimetype": "text/x-python",
   "name": "python",
   "nbconvert_exporter": "python",
   "pygments_lexer": "ipython3",
   "version": "3.9.13"
  }
 },
 "nbformat": 4,
 "nbformat_minor": 5
}
