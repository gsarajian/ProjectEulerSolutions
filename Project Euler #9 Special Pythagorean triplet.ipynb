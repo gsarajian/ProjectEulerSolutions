{
 "cells": [
  {
   "cell_type": "markdown",
   "metadata": {},
   "source": [
    "## A Pythagorean triplet is a set of three natural numbers, a < b < c, for which,\n",
    "\n",
    "$$ a^2 + b^2 = c^2$$\n",
    "## For example, $3^2 + 4^2 = 9 + 16 = 25 = 5^2$.\n",
    "\n",
    "## There exists exactly one Pythagorean triplet for which $a + b + c = 1000$.\n",
    "## Find the product $abc$."
   ]
  },
  {
   "cell_type": "markdown",
   "metadata": {},
   "source": [
    "**Solution(s):** \n",
    "\n",
    "Math: Instead of brute forcing through all combinations of $a, b, c$ with $c = 1000 - (a + b)$ while checking to see if they're a Pythagorean triple, we can generate Pythagorean triples and check if they satisfy the $a + b + c = 1000$ condition.\n",
    "\n",
    "We can use [Euclid's formula for generating Pythagorean triples](https://en.wikipedia.org/wiki/Formulas_for_generating_Pythagorean_triples) to assume WLOG \n",
    "$$a = m^2 - n^2$$\n",
    "$$b = 2mn$$\n",
    "$$a = m^2 + n^2$$\n",
    "for some $m, n > 0$. Adding these three equations and using the condition $a + b + c = 1000$, we see that $2m(n + m) = 1000$, so $m(n+m) = 500$.\n",
    "\n",
    "Now we start our search by setting $m$ equal to one of the divisors of $500$. "
   ]
  },
  {
   "cell_type": "code",
   "execution_count": null,
   "metadata": {},
   "outputs": [],
   "source": [
    "#start by setting m equal to a divisor of 500, then computing n. \n",
    "for m in [1, 2, 5, 10, 20, 25, 50, 100, 125, 200, 250, 500]:\n",
    "    n = 500/m - m\n",
    "    a = m**2 - n**2\n",
    "    b = 2*m*n\n",
    "    c = m**2 + n**2\n",
    "    if a > 0 and b > 0 and c > 0:\n",
    "        print(\"a is\", a, \"b is\", b, \"c is\", c, \"and abc is\", a*b*c)\n"
   ]
  }
 ],
 "metadata": {
  "kernelspec": {
   "display_name": "Python 3",
   "language": "python",
   "name": "python3"
  },
  "language_info": {
   "codemirror_mode": {
    "name": "ipython",
    "version": 3
   },
   "file_extension": ".py",
   "mimetype": "text/x-python",
   "name": "python",
   "nbconvert_exporter": "python",
   "pygments_lexer": "ipython3",
   "version": "3.8.5"
  }
 },
 "nbformat": 4,
 "nbformat_minor": 4
}
