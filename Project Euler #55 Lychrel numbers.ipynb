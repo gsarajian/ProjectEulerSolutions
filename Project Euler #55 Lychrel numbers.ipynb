{
 "cells": [
  {
   "cell_type": "markdown",
   "id": "8b1c21b9",
   "metadata": {},
   "source": [
    "## If we take 47, reverse and add, $47 + 74 = 121$, which is palindromic.\n",
    "\n",
    "## Not all numbers produce palindromes so quickly. For example,\n",
    "\n",
    "$$349 + 943 = 1292$$\n",
    "$$1292 + 2921 = 4213$$\n",
    "$$4213 + 3124 = 7337$$\n",
    "\n",
    "## That is, 349 took three iterations to arrive at a palindrome.\n",
    "\n",
    "## Although no one has proved it yet, it is thought that some numbers, like 196, never produce a palindrome. A number that never forms a palindrome through the reverse and add process is called a Lychrel number. Due to the theoretical nature of these numbers, and for the purpose of this problem, we shall assume that a number is Lychrel until proven otherwise. In addition you are given that for every number below ten-thousand, it will either (i) become a palindrome in less than fifty iterations, or, (ii) no one, with all the computing power that exists, has managed so far to map it to a palindrome. In fact, $10677$ is the first number to be shown to require over fifty iterations before producing a palindrome: $4668731596684224866951378664$ (53 iterations, 28-digits).\n",
    "\n",
    "## Surprisingly, there are palindromic numbers that are themselves Lychrel numbers; the first example is 4994.\n",
    "\n",
    "## How many Lychrel numbers are there below ten-thousand?\n",
    "\n",
    "## NOTE: Wording was modified slightly on 24 April 2007 to emphasise the theoretical nature of Lychrel numbers."
   ]
  },
  {
   "cell_type": "markdown",
   "id": "12e38f12",
   "metadata": {},
   "source": [
    "**Solution(s):**\n",
    "We use a helper function that checks if an input number is a palindrome, then loop through the first 10000 positive numbers, checking if the sum of the number and its reverse (or iteratives of this process) is a palindrome."
   ]
  },
  {
   "cell_type": "code",
   "execution_count": null,
   "id": "feda79c5",
   "metadata": {},
   "outputs": [],
   "source": [
    "def isPalendrome(num):\n",
    "    # A function that takes in a number and checks if it is a palindrome. \n",
    "    s = str(num)\n",
    "    l = len(s)\n",
    "    for i in range(l//2):\n",
    "        if s[i] != s[l-i-1]:\n",
    "            return False\n",
    "    return True"
   ]
  },
  {
   "cell_type": "code",
   "execution_count": null,
   "id": "ee4f294d",
   "metadata": {},
   "outputs": [],
   "source": [
    "cnt = 0                      # Keeps track of the number of hypothetical Lychrel numbers we've found\n",
    "for i in range(10001):\n",
    "    cur = i                    # The current value\n",
    "    back = int(str(cur)[::-1]) # reverse of the value\n",
    "    itn = 0                    # variable to keep track of how many iterations we've gone through for this number\n",
    "    lych = True                # Will be true unless we find that one of the iterations gives us a palindrome\n",
    "    while itn < 50 and lych:\n",
    "        # begin iterating and checking\n",
    "        cur = cur + back\n",
    "        back = int(str(cur)[::-1])     # the new backwards number\n",
    "        lych = not isPalendrome(cur)\n",
    "        itn += 1\n",
    "    if lych:\n",
    "        cnt += 1\n",
    "#        print(\"We found a Lychrel number! It's \", i)\n",
    "cnt   "
   ]
  }
 ],
 "metadata": {
  "kernelspec": {
   "display_name": "Python 3 (ipykernel)",
   "language": "python",
   "name": "python3"
  },
  "language_info": {
   "codemirror_mode": {
    "name": "ipython",
    "version": 3
   },
   "file_extension": ".py",
   "mimetype": "text/x-python",
   "name": "python",
   "nbconvert_exporter": "python",
   "pygments_lexer": "ipython3",
   "version": "3.9.13"
  }
 },
 "nbformat": 4,
 "nbformat_minor": 5
}
