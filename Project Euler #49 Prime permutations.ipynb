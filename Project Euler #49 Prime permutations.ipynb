{
 "cells": [
  {
   "cell_type": "markdown",
   "id": "8b1c21b9",
   "metadata": {},
   "source": [
    "## The arithmetic sequence, $1487, 4817, 8147$, in which each of the terms increases by $3330$, is unusual in two ways: (i) each of the three terms are prime, and, (ii) each of the 4-digit numbers are permutations of one another.\n",
    "\n",
    "## There are no arithmetic sequences made up of three 1-, 2-, or 3-digit primes, exhibiting this property, but there is one other 4-digit increasing sequence.\n",
    "\n",
    "## What 12-digit number do you form by concatenating the three terms in this sequence?"
   ]
  },
  {
   "cell_type": "markdown",
   "id": "12e38f12",
   "metadata": {},
   "source": [
    "**Solution(s):**\n",
    "We start with computing a table of four digit prime numbers. We then loop through this table, checking which ones are part of a three-term arithmetic sequence of primes. Given such a sequence, we check if the digits of the primes are permutations of each other."
   ]
  },
  {
   "cell_type": "code",
   "execution_count": null,
   "id": "feda79c5",
   "metadata": {},
   "outputs": [],
   "source": [
    "from math import ceil, sqrt, floor"
   ]
  },
  {
   "cell_type": "code",
   "execution_count": null,
   "id": "82c72aa8",
   "metadata": {},
   "outputs": [],
   "source": [
    "def primesLessThan(n):\n",
    "    # A function that returns an array of all the primes less than or equal to n\n",
    "    primes = [2]        #the second component is positive iff the first component is a prime.\n",
    "    cands = [[i,1] for i in range(n+1)]\n",
    "    bgstPrime = primes[-1] #biggest prime in our list\n",
    "    i = 2\n",
    "    while bgstPrime <= sqrt(n):\n",
    "        pr = cands[i][0]\n",
    "        for k in range(ceil((n+1)/pr)):\n",
    "            cands[k*pr][1] -= 1 #this is crossing off the multiples of our previous primes\n",
    "        i += 1\n",
    "        while cands[i][1] <= 0:\n",
    "            i += 1\n",
    "        primes.append(i)\n",
    "        bgstPrime = i\n",
    "    primes.extend([a[0] for a in cands[floor(sqrt(n)):] if a[1] >0])\n",
    "    return [m for m in primes if m <= n]"
   ]
  },
  {
   "cell_type": "code",
   "execution_count": null,
   "id": "b7b958ac",
   "metadata": {},
   "outputs": [],
   "source": [
    "primes = primesLessThan(10000)                   # generate a list of primes up to 10000\n",
    "fourDigPrimes = [a for a in primes if 1000 < a]  # take all of the four digit primes\n",
    "hsh = set(fourDigPrimes)                         # create a hash map for faster lookup"
   ]
  },
  {
   "cell_type": "code",
   "execution_count": null,
   "id": "20d9b9cb",
   "metadata": {},
   "outputs": [],
   "source": [
    "for i in range(len(fourDigPrimes)):\n",
    "    firstP = fourDigPrimes[i]                  # the first prime in the arithmetic progression\n",
    "    for j in range(i+1, len(fourDigPrimes)): \n",
    "        secP = fourDigPrimes[j]                # the second prime in the arithmetic progression\n",
    "        if 2*secP-firstP in hsh:               # check if the next term in the a.p. is prime\n",
    "            thirdP = 2*secP-firstP\n",
    "            # check if they have the same digits\n",
    "            if ''.join(sorted(str(firstP))) == ''.join(sorted(str(secP))) and ''.join(sorted(str(firstP))) == ''.join(sorted(str(thirdP))):\n",
    "                print(\"all have same digits\", firstP, secP, thirdP)"
   ]
  }
 ],
 "metadata": {
  "kernelspec": {
   "display_name": "Python 3 (ipykernel)",
   "language": "python",
   "name": "python3"
  },
  "language_info": {
   "codemirror_mode": {
    "name": "ipython",
    "version": 3
   },
   "file_extension": ".py",
   "mimetype": "text/x-python",
   "name": "python",
   "nbconvert_exporter": "python",
   "pygments_lexer": "ipython3",
   "version": "3.9.13"
  }
 },
 "nbformat": 4,
 "nbformat_minor": 5
}
