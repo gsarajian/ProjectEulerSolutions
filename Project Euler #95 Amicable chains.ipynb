{
 "cells": [
  {
   "cell_type": "markdown",
   "id": "8b1c21b9",
   "metadata": {},
   "source": [
    "<p>The proper divisors of a number are all the divisors excluding the number itself. For example, the proper divisors of 28 are 1, 2, 4, 7, and 14. As the sum of these divisors is equal to 28, we call it a perfect number.</p>\n",
    "<p>Interestingly the sum of the proper divisors of 220 is 284 and the sum of the proper divisors of 284 is 220, forming a chain of two numbers. For this reason, 220 and 284 are called an amicable pair.</p>\n",
    "<p>Perhaps less well known are longer chains. For example, starting with 12496, we form a chain of five numbers:</p>\n",
    "<p class=\"center\">12496 → 14288 → 15472 → 14536 → 14264 (→ 12496 → ...)</p>\n",
    "<p>Since this chain returns to its starting point, it is called an amicable chain.</p>\n",
    "<p>Find the smallest member of the longest amicable chain with no element exceeding one million.</p>\n"
   ]
  },
  {
   "cell_type": "markdown",
   "id": "12e38f12",
   "metadata": {},
   "source": [
    "**Solution(s):**\n",
    "We're searching for the longest cycle in a directed graph. We propose two solutions - one which does the work from square one, and the other which uses built in algorithms in networkx to find cycles. Both solutions use a helper function, divisorGenerator, that we've defined in previous solutions, which takes in an integer input $n$ and returns all of the divisors of $n$.\n",
    "\n",
    "From scratch solution: We iterate through all $i \\in [1, 10^6]$ and perform a depth first search on the next vertex. For some $i$, we create a list of succeeding vertices until the sum of the proper divisors is a value that we've seen before (for any $i$), or above $10^6$. If it's a value that we've seen before, we check if it's in the current list, in which case we've generated a new cycle that we haven't seen before. We find the length of that cycle and if it's the longest that we've seen so far, we save the cycle. If it's a value that we've seen in another list, then it will lead to a cycle that we've seen before. Finally, we take the minimum value of this longest cycle.\n",
    "\n",
    "The networkx solution has clean code, where we instantiate a directed graph and add its edges. We then look at cycles in the graph and take the minimum value of the longest cycle."
   ]
  },
  {
   "cell_type": "markdown",
   "id": "e013fedd",
   "metadata": {},
   "source": [
    "### Scratch solution"
   ]
  },
  {
   "cell_type": "code",
   "execution_count": 1,
   "id": "88d86405",
   "metadata": {},
   "outputs": [],
   "source": [
    "from math import sqrt\n",
    "def divisorGenerator(n):\n",
    "    # A function that generates a list of divisors of $n$. \n",
    "    small_divisors = []\n",
    "    large_divisors = []\n",
    "    for i in range(1, int(sqrt(n) + 1)):\n",
    "        if n % i == 0:\n",
    "            small_divisors.append(i)\n",
    "            if i*i != n:\n",
    "                large_divisors.append(int(n / i))\n",
    "    for divisor in reversed(large_divisors):\n",
    "        small_divisors.append(divisor)\n",
    "    return small_divisors\n"
   ]
  },
  {
   "cell_type": "code",
   "execution_count": 47,
   "id": "4ba0c3d5",
   "metadata": {},
   "outputs": [
    {
     "name": "stdout",
     "output_type": "stream",
     "text": [
      "New longest loop [284, 220]\n",
      "New longest loop [1210, 1184]\n",
      "New longest loop [2620, 2924]\n",
      "New longest loop [5564, 5020]\n",
      "New longest loop [19116, 31704, 47616, 83328, 177792, 295488, 629072, 589786, 294896, 358336, 418904, 366556, 274924, 275444, 243760, 376736, 381028, 285778, 152990, 122410, 97946, 48976, 45946, 22976, 22744, 19916, 17716, 14316]\n"
     ]
    }
   ],
   "source": [
    "# Initialize the nodes and color them all \"unseen\" except for the first few trivial cases\n",
    "nodes = [[i,0] for i in range(10**6+1)]\n",
    "nodes[0] = [0,1]\n",
    "nodes[1] = [0,1]\n",
    "nodes[2] = [0,1]\n",
    "mxLoop = []                        # stores the longest loop we've seen thus far\n",
    "\n",
    "for i in range(3,10**6+1):\n",
    "    loop = [i]\n",
    "    cur = i                 # current node\n",
    "    \n",
    "    # We now do depth first search, stopping when a sum of divisors is too large or is a value we've seen before\n",
    "    while cur <= 10**6 and nodes[cur][1] == 0:\n",
    "        divSum = sum(divisorGenerator(cur))-cur\n",
    "        nodes[cur][1] = divSum                         # colors the current node\n",
    "        loop.append(divSum)                            # extends the current list of nodes\n",
    "        if divSum in loop[:-1] and len(loop) > 2:      # checks if we've found a cycle\n",
    "            \n",
    "            # print(\"found a cycle\", i, cur, loop)\n",
    "            \n",
    "            # next, check if its the longest one thus far \n",
    "            for j in range(len(loop)):\n",
    "                if loop[j] in loop[j+1:]:\n",
    "                    l = len(loop)-j\n",
    "                    if l > len(mxLoop):\n",
    "                        mxLoop = loop[j+1:]\n",
    "                        print(\"New longest loop\", mxLoop)\n",
    "                    break\n",
    "\n",
    "        # Here, we continue the DFS\n",
    "        else:\n",
    "            cur = divSum"
   ]
  },
  {
   "cell_type": "code",
   "execution_count": 41,
   "id": "adea1149",
   "metadata": {},
   "outputs": [
    {
     "data": {
      "text/plain": [
       "14316"
      ]
     },
     "execution_count": 41,
     "metadata": {},
     "output_type": "execute_result"
    }
   ],
   "source": [
    "min(mxLoop)"
   ]
  },
  {
   "cell_type": "markdown",
   "id": "7cc76df3",
   "metadata": {},
   "source": [
    "### networkx solution"
   ]
  },
  {
   "cell_type": "code",
   "execution_count": 42,
   "id": "deca5110",
   "metadata": {},
   "outputs": [],
   "source": [
    "# create the list of $d(n), paired with n$\n",
    "sms = [(i, sum(divisorGenerator(i))-i) for i in range(1,10**6+1)]"
   ]
  },
  {
   "cell_type": "code",
   "execution_count": 43,
   "id": "f2bb6471",
   "metadata": {},
   "outputs": [],
   "source": [
    "import networkx as nx\n",
    "\n",
    "# Create Directed Graph\n",
    "G=nx.DiGraph()\n",
    "\n",
    "# Add a list of nodes:\n",
    "G.add_nodes_from([i for i in range(10**6+1)])\n",
    "\n",
    "# Add a list of edges:\n",
    "G.add_edges_from(sms)"
   ]
  },
  {
   "cell_type": "code",
   "execution_count": 49,
   "id": "cdb51cbc",
   "metadata": {},
   "outputs": [],
   "source": [
    "longCycles = list([a for a in nx.simple_cycles(G) if len(a) >= 3])"
   ]
  },
  {
   "cell_type": "code",
   "execution_count": 50,
   "id": "7162534f",
   "metadata": {},
   "outputs": [
    {
     "data": {
      "text/plain": [
       "14316"
      ]
     },
     "execution_count": 50,
     "metadata": {},
     "output_type": "execute_result"
    }
   ],
   "source": [
    "min(longCycles[1])"
   ]
  }
 ],
 "metadata": {
  "kernelspec": {
   "display_name": "Python 3 (ipykernel)",
   "language": "python",
   "name": "python3"
  },
  "language_info": {
   "codemirror_mode": {
    "name": "ipython",
    "version": 3
   },
   "file_extension": ".py",
   "mimetype": "text/x-python",
   "name": "python",
   "nbconvert_exporter": "python",
   "pygments_lexer": "ipython3",
   "version": "3.9.13"
  }
 },
 "nbformat": 4,
 "nbformat_minor": 5
}
