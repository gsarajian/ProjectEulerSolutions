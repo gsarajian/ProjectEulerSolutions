{
 "cells": [
  {
   "cell_type": "markdown",
   "id": "8b1c21b9",
   "metadata": {},
   "source": [
    "<p>It is easily proved that no equilateral triangle exists with integral length sides and integral area. However, the <i>almost equilateral triangle</i> 5-5-6 has an area of 12 square units.</p>\n",
    "<p>We shall define an <i>almost equilateral triangle</i> to be a triangle for which two sides are equal and the third differs by no more than one unit.</p>\n",
    "<p>Find the sum of the perimeters of all <i>almost equilateral triangles</i> with integral side lengths and area and whose perimeters do not exceed one billion (1,000,000,000).</p>"
   ]
  },
  {
   "cell_type": "markdown",
   "id": "12e38f12",
   "metadata": {},
   "source": [
    "**Solution(s):**\n",
    "We can use Heron's formula to easily compute the area when the two isosceles triangles have length $l$ each. The area is \n",
    "\n",
    "$$A = \\frac{2l \\pm 1}{4} \\sqrt{(3l \\pm 1)(l \\mp 1)}$$\n",
    "\n",
    "We check which values of $l$ make the inside of that square root a square. After computing some values of $l$, we see that examples increase at a certain rate, which we can leverage to expedite the search.\n",
    "\n",
    "After solving this problem, I looked on Sloane's OEIS and found a recursive solution for our sequence which solves the problem in realtime."
   ]
  },
  {
   "cell_type": "code",
   "execution_count": null,
   "id": "bbaf810c",
   "metadata": {},
   "outputs": [],
   "source": [
    "from math import floor"
   ]
  },
  {
   "cell_type": "code",
   "execution_count": null,
   "id": "e86de327",
   "metadata": {},
   "outputs": [],
   "source": [
    "# This will give a memory error, but you'll have the solution in hand. \n",
    "# Subtract four at the end to correct for the 1,1,2 triangle\n",
    "\n",
    "tot = 0                                         # totals up the perimeters\n",
    "squares = [a**2 for a in range(100)]            # collection of squares\n",
    "hsh = set(squares)\n",
    "l = 2\n",
    "while l < floor((10**9)/3) + 2:\n",
    "    if (3*l+1)*(l-1) in hsh:\n",
    "        tot += 3*l + 1\n",
    "        print(\"Winner!\", l, l+1, tot)\n",
    "        l = floor(3.5*l)-2\n",
    "        squares = [a**2 for a in range(l-100, 4*l)]\n",
    "        hsh = set(squares)\n",
    "    elif (3*l-1)*(l+1) in hsh:\n",
    "        tot += 3*l - 1\n",
    "        print(\"Winner!\", l, l-1, tot)\n",
    "        l = floor(3*l)-2\n",
    "        squares = [a**2 for a in range(l-500, 3*l+10**3)]\n",
    "        hsh = set(squares)\n",
    "\n",
    "    else:\n",
    "        l += 1"
   ]
  },
  {
   "cell_type": "code",
   "execution_count": null,
   "id": "f0438731",
   "metadata": {},
   "outputs": [],
   "source": [
    "# Efficient solution\n",
    "\n",
    "lengths = [5, 17, 65]\n",
    "while lengths[-1] < 10**9/3+1:\n",
    "    a = 3*lengths[-1] + 3*lengths[-2] - lengths[-3]\n",
    "    lengths.append(a)"
   ]
  },
  {
   "cell_type": "code",
   "execution_count": null,
   "id": "8832ff12",
   "metadata": {},
   "outputs": [],
   "source": [
    "tot = sum([3*lengths[i] + (-1)**i for i in range(len(lengths)-1)])\n",
    "tot"
   ]
  }
 ],
 "metadata": {
  "kernelspec": {
   "display_name": "Python 3 (ipykernel)",
   "language": "python",
   "name": "python3"
  },
  "language_info": {
   "codemirror_mode": {
    "name": "ipython",
    "version": 3
   },
   "file_extension": ".py",
   "mimetype": "text/x-python",
   "name": "python",
   "nbconvert_exporter": "python",
   "pygments_lexer": "ipython3",
   "version": "3.9.13"
  }
 },
 "nbformat": 4,
 "nbformat_minor": 5
}
