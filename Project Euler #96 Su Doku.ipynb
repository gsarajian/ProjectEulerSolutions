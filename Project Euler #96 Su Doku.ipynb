{
 "cells": [
  {
   "cell_type": "markdown",
   "id": "8b1c21b9",
   "metadata": {},
   "source": [
    "<p>Su Doku (Japanese meaning <i>number place</i>) is the name given to a popular puzzle concept. Its origin is unclear, but credit must be attributed to Leonhard Euler who invented a similar, and much more difficult, puzzle idea called Latin Squares. The objective of Su Doku puzzles, however, is to replace the blanks (or zeros) in a 9 by 9 grid in such that each row, column, and 3 by 3 box contains each of the digits 1 to 9. Below is an example of a typical starting puzzle grid and its solution grid.</p>\n",
    "<div class=\"center\">\n",
    "<img src=\"https://projecteuler.net/project/images/p096_1.png\" alt=\"\" /><br /></div>\n",
    "<img src=\"https://projecteuler.net/project/images/p096_2.png\" alt=\"\" /><br /></div>\n",
    "\n",
    "<p>A well constructed Su Doku puzzle has a unique solution and can be solved by logic, although it may be necessary to employ \"guess and test\" methods in order to eliminate options (there is much contested opinion over this). The complexity of the search determines the difficulty of the puzzle; the example above is considered <i>easy</i> because it can be solved by straight forward direct deduction.</p>\n",
    "<p>The 6K text file, <a href=\"https://projecteuler.net/project/resources/p096_sudoku.txt\">sudoku.txt</a> (right click and 'Save Link/Target As...'), contains fifty different Su Doku puzzles ranging in difficulty, but all with unique solutions (the first puzzle in the file is the example above).</p>\n",
    "<p>By solving all fifty puzzles find the sum of the 3-digit numbers found in the top left corner of each solution grid; for example, 483 is the 3-digit number found in the top left corner of the solution grid above.</p>"
   ]
  },
  {
   "cell_type": "markdown",
   "id": "12e38f12",
   "metadata": {},
   "source": [
    "**Solution(s):**\n",
    "We parse through the text document, converting the text into a list of 50 $9 \\times 9$ matrices that represent the Su Doku puzzles. To solve each individual puzzle, we set the problem up in a manner where we're solving for an [exact cover](https://en.wikipedia.org/wiki/Exact_cover#Sudoku). We use the PyPi algorithm to help us find the exact cover. Once we have the puzzle's solution, we add the 3-digit number from the first row to a running total."
   ]
  },
  {
   "cell_type": "code",
   "execution_count": null,
   "id": "e0e41b32",
   "metadata": {},
   "outputs": [],
   "source": [
    "import numpy as np\n",
    "import sys\n",
    "import exact_cover as ec\n",
    "np.set_printoptions(threshold=sys.maxsize)"
   ]
  },
  {
   "cell_type": "code",
   "execution_count": null,
   "id": "d5d4e226",
   "metadata": {},
   "outputs": [],
   "source": [
    "# Here we go through the list of puzzles and save them as a list of strings.\n",
    "\n",
    "puzzleFile = open(\"p096_sudoku.txt\", \"r\")               # read the file\n",
    "puzzles = []                                     # initialize a list to store the strings\n",
    "counter = 0\n",
    "puzzle = []\n",
    "while True:\n",
    "     # Get next line from file\n",
    "    row = puzzleFile.readline()\n",
    "  \n",
    "    # if line is empty\n",
    "    # end of file is reached\n",
    "    if not row:\n",
    "        break\n",
    "    if (counter % 10):\n",
    "        puzzle.append(row[:-1])\n",
    "    else:\n",
    "        puzzles.append(puzzle)\n",
    "        puzzle = []\n",
    "    counter += 1\n",
    "puzzles.append(puzzle)\n",
    "\n",
    "puzzleFile.close()\n",
    "puzzles = puzzles[1:]"
   ]
  },
  {
   "cell_type": "code",
   "execution_count": null,
   "id": "dced0823",
   "metadata": {},
   "outputs": [],
   "source": [
    "# Convert the list of strings into a list of matrices\n",
    "matrices = []\n",
    "for puzzle in puzzles:\n",
    "    matrix = []\n",
    "    for line in puzzle:\n",
    "        row = [int(a) for a in list(line)]\n",
    "        matrix.append(row)\n",
    "    matrices.append(matrix)"
   ]
  },
  {
   "cell_type": "code",
   "execution_count": null,
   "id": "c7d63fb7",
   "metadata": {},
   "outputs": [],
   "source": [
    "# Fix the last matrix, since the last element got cut off\n",
    "matrices[-1][-1].append(6)"
   ]
  },
  {
   "cell_type": "code",
   "execution_count": null,
   "id": "304db774",
   "metadata": {},
   "outputs": [],
   "source": [
    "# Now we set the problem up as an exact cover, solve it, and add the 3 digit number to our tot\n",
    "tot = 0\n",
    "for n in range(50):\n",
    "    print(n, tot)\n",
    "    matrix = matrices[n]\n",
    "    S = np.zeros([729,4*81])            # The matrix described in the Wikipedia page, capturing our constraints\n",
    "    for i in range(81):\n",
    "        S[9*i:9*i + 9, i] = np.ones([9])        # The first constraint\n",
    "        row = i//9\n",
    "        col = i%9\n",
    "        box = 3*(row//3) + (col//3)\n",
    "        elt = matrix[row][col]\n",
    "        if elt:                                 # If the square is filled in, we fill in the corresponding constraints\n",
    "            S[81*row+9*col+elt-1][81+9*row+elt-1] = 1\n",
    "            S[81*row+9*col+elt-1][2*81+9*col+elt-1] = 1\n",
    "            S[81*row+9*col+elt-1][3*81+9*box+elt-1] = 1\n",
    "        else:\n",
    "            # Here we don't know the square's value, so we fill in the possible values\n",
    "            for j in range(9):\n",
    "\n",
    "                S[(81*row+9*col+j),81+9*row + j] = 1\n",
    "                S[(81*row+9*col+j),2*81+9*col + j] = 1\n",
    "                S[(81*row+9*col+j),3*81+9*box + j] = 1\n",
    "\n",
    "    solution = ec.get_exact_cover(S)\n",
    "\n",
    "    # Now convert the rows from the exact cover back to a matrix\n",
    "    solMat = np.zeros([9,9])\n",
    "    for i in solution:\n",
    "        elt = (i % 9)+1\n",
    "        row = i//81\n",
    "        col = (i-81*row)//9\n",
    "        solMat[row][col] = elt\n",
    "        \n",
    "    # Finally, add the three digit number to our running total.\n",
    "    tot += 100*solMat[0][0]+10*solMat[0][1] + solMat[0][2]\n",
    "tot"
   ]
  }
 ],
 "metadata": {
  "kernelspec": {
   "display_name": "Python 3 (ipykernel)",
   "language": "python",
   "name": "python3"
  },
  "language_info": {
   "codemirror_mode": {
    "name": "ipython",
    "version": 3
   },
   "file_extension": ".py",
   "mimetype": "text/x-python",
   "name": "python",
   "nbconvert_exporter": "python",
   "pygments_lexer": "ipython3",
   "version": "3.9.13"
  }
 },
 "nbformat": 4,
 "nbformat_minor": 5
}
