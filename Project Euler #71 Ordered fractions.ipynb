{
 "cells": [
  {
   "cell_type": "markdown",
   "id": "8b1c21b9",
   "metadata": {},
   "source": [
    "<p>Consider the fraction, <i>n/d</i>, where <i>n</i> and <i>d</i> are positive integers. If <i>n</i>&lt;<i>d</i> and HCF(<i>n,d</i>)=1, it is called a reduced proper fraction.</p>\n",
    "<p>If we list the set of reduced proper fractions for <i>d</i> ≤ 8 in ascending order of size, we get:</p>\n",
    "<p class=\"center smaller\">1/8, 1/7, 1/6, 1/5, 1/4, 2/7, 1/3, 3/8, <b>2/5</b>, 3/7, 1/2, 4/7, 3/5, 5/8, 2/3, 5/7, 3/4, 4/5, 5/6, 6/7, 7/8</p>\n",
    "<p>It can be seen that 2/5 is the fraction immediately to the left of 3/7.</p>\n",
    "<p>By listing the set of reduced proper fractions for <i>d</i> ≤ 1,000,000 in ascending order of size, find the numerator of the fraction immediately to the left of 3/7.</p>\n"
   ]
  },
  {
   "cell_type": "markdown",
   "id": "12e38f12",
   "metadata": {},
   "source": [
    "**Solution(s):**\n",
    "We loop through the possible denominators $d$ and find the numerator $n$ for which $n/d < 3/7$ but $(n+1)/d > 3/7$. We only consider coprime $n,d$, since otherwise, there would be a reduced fraction equal to $n/d$. We compare different approximations $n/d$ to each other, keeping the largest one to get the one immediately to the left of $3/7$."
   ]
  },
  {
   "cell_type": "code",
   "execution_count": null,
   "id": "feda79c5",
   "metadata": {},
   "outputs": [],
   "source": [
    "from math import gcd, floor"
   ]
  },
  {
   "cell_type": "code",
   "execution_count": null,
   "id": "82c72aa8",
   "metadata": {},
   "outputs": [],
   "source": [
    "cls = 0                                                        # keep track of the largest lower approximation\n",
    "mx = [0,0]                                                     # the numerator and denominator of the approximation\n",
    "for d in range(1,10**6):                                       # the denominators\n",
    "    num = floor(3*i/7)                                         # the closest numerator that will give us $num/d <= 3/7$\n",
    "    \n",
    "    # Check if we have a closer approximation and it's a valid pair\n",
    "    if num/i > cls and gcd(num, i) == 1 and i != 7:\n",
    "        cls = num/i\n",
    "        mx = [num,i]\n",
    "        \n",
    "print(mx, cls)"
   ]
  },
  {
   "cell_type": "code",
   "execution_count": null,
   "id": "dcd332ae",
   "metadata": {
    "scrolled": true
   },
   "outputs": [],
   "source": [
    "3/7"
   ]
  }
 ],
 "metadata": {
  "kernelspec": {
   "display_name": "Python 3 (ipykernel)",
   "language": "python",
   "name": "python3"
  },
  "language_info": {
   "codemirror_mode": {
    "name": "ipython",
    "version": 3
   },
   "file_extension": ".py",
   "mimetype": "text/x-python",
   "name": "python",
   "nbconvert_exporter": "python",
   "pygments_lexer": "ipython3",
   "version": "3.9.13"
  }
 },
 "nbformat": 4,
 "nbformat_minor": 5
}
