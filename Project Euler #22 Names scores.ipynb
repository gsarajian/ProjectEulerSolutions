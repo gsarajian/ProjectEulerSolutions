{
 "cells": [
  {
   "cell_type": "markdown",
   "metadata": {},
   "source": [
    "## Using names.txt (right click and 'Save Link/Target As...'), a 46K text file containing over five-thousand first names, begin by sorting it into alphabetical order. Then working out the alphabetical value for each name, multiply this value by its alphabetical position in the list to obtain a name score.\n",
    "## For example, when the list is sorted into alphabetical order, COLIN, which is worth 3 + 15 + 12 + 9 + 14 = 53, is the 938th name in the list. So, COLIN would obtain a score of 938 × 53 = 49714.\n",
    "## What is the total of all the name scores in the file?"
   ]
  },
  {
   "cell_type": "markdown",
   "metadata": {},
   "source": [
    "**Solution(s):** \n",
    "\n",
    "We need to do a little string manipulation, but it's not too bad. Take the string of names and cut it up into the individual names and then calculate their scores by checking their index against a strong of the alphabet."
   ]
  },
  {
   "cell_type": "code",
   "execution_count": null,
   "metadata": {},
   "outputs": [],
   "source": [
    "import string\n",
    "alph = string.ascii_uppercase        # String of the upper case letters of the alphabet\n",
    "\n",
    "# read the file and create a list of the names. \n",
    "names = open(\"p022_names.txt\", \"r\")\n",
    "nms = names.readline()\n",
    "nombres = []\n",
    "l = len(nms)\n",
    "i = 0\n",
    "while nms and i < l:\n",
    "    if \",\" in nms:\n",
    "        ind = nms.index(\",\")\n",
    "    else:\n",
    "        ind = len(nms)\n",
    "    name = nms[1:ind-1]\n",
    "    nombres.append(name)\n",
    "    i += len(name) + 3\n",
    "    nms = nms[len(name) + 3:]\n",
    "names.close()\n",
    "\n",
    "# now nombres is the list of names. go through it and tally the score\n",
    "tot = 0\n",
    "for i in range(len(nombres)):\n",
    "    score = 0\n",
    "    name = nombres[i]\n",
    "    for let in name:\n",
    "        score += alph.index(let) + 1\n",
    "    tot += score*(i+1)\n",
    "tot"
   ]
  }
 ],
 "metadata": {
  "kernelspec": {
   "display_name": "Python 3",
   "language": "python",
   "name": "python3"
  },
  "language_info": {
   "codemirror_mode": {
    "name": "ipython",
    "version": 3
   },
   "file_extension": ".py",
   "mimetype": "text/x-python",
   "name": "python",
   "nbconvert_exporter": "python",
   "pygments_lexer": "ipython3",
   "version": "3.8.5"
  }
 },
 "nbformat": 4,
 "nbformat_minor": 4
}
