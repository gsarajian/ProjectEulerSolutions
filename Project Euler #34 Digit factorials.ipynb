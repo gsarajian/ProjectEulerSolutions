{
 "cells": [
  {
   "cell_type": "markdown",
   "id": "17f372f0",
   "metadata": {},
   "source": [
    "## $145$ is a curious number, as $1! + 4! + 5! = 1 + 24 + 120 = 145$.\n",
    "\n",
    "## Find the sum of all numbers which are equal to the sum of the factorial of their digits.\n",
    "\n",
    "## Note: As $1! = 1$ and $2! = 2$ are not sums they are not included."
   ]
  },
  {
   "cell_type": "markdown",
   "id": "00f29661",
   "metadata": {},
   "source": [
    "**Solution(s):**\n",
    "\n",
    "I'm not sure how to prove it exactly, but because $9! = 362880$, it seems pretty unlikely that we'll get any curious number bigger than $10^6$. We can prove that it won't have any greater than $10^7$. In order for some $n$ with $k > 8$ digits to be curious (like $145$), we'd need at least $20$ digits. So $k > 20$, but then by induction, we can keep increasing the lower bound on $k$. "
   ]
  },
  {
   "cell_type": "code",
   "execution_count": null,
   "id": "b75502b1",
   "metadata": {},
   "outputs": [],
   "source": [
    "def factorial(n):\n",
    "    if n == 0:\n",
    "        return 1\n",
    "    vals = [1]*(n+1)\n",
    "    for i in range(1,n+1):\n",
    "        vals[i] = i*vals[i-1]\n",
    "    return vals[-1]"
   ]
  },
  {
   "cell_type": "code",
   "execution_count": null,
   "id": "616e011b",
   "metadata": {},
   "outputs": [],
   "source": [
    "# Instead of computing the values over and over, store them in an array\n",
    "facts = []\n",
    "for i in range(10):\n",
    "    facts.append(factorial(i))"
   ]
  },
  {
   "cell_type": "markdown",
   "id": "cf005522",
   "metadata": {},
   "source": [
    "Check the cases where the first digit of $a$ equals the second digit of $b$. "
   ]
  },
  {
   "cell_type": "code",
   "execution_count": null,
   "id": "3ce5ff5e",
   "metadata": {},
   "outputs": [],
   "source": [
    "curious = []\n",
    "for i in range(3,10000000):\n",
    "    digs = list(str(i))\n",
    "    tot = 0\n",
    "    for dig in digs:\n",
    "        tot += facts[int(dig)]\n",
    "    if tot == i:\n",
    "        curious.append(i)"
   ]
  },
  {
   "cell_type": "code",
   "execution_count": null,
   "id": "a909801f",
   "metadata": {},
   "outputs": [],
   "source": [
    "sum(curious)"
   ]
  }
 ],
 "metadata": {
  "kernelspec": {
   "display_name": "Python 3 (ipykernel)",
   "language": "python",
   "name": "python3"
  },
  "language_info": {
   "codemirror_mode": {
    "name": "ipython",
    "version": 3
   },
   "file_extension": ".py",
   "mimetype": "text/x-python",
   "name": "python",
   "nbconvert_exporter": "python",
   "pygments_lexer": "ipython3",
   "version": "3.10.6"
  }
 },
 "nbformat": 4,
 "nbformat_minor": 5
}
