{
 "cells": [
  {
   "cell_type": "markdown",
   "id": "8b1c21b9",
   "metadata": {},
   "source": [
    "## The series, $1^1 + 2^2 + 3^3 + ... + 10^{10} = 10405071317.$\n",
    "\n",
    "## Find the last ten digits of the series, 1^1 + 2^2 + 3^3 + ... + 1000^{1000}$."
   ]
  },
  {
   "cell_type": "markdown",
   "id": "12e38f12",
   "metadata": {},
   "source": [
    "**Solution(s):**\n",
    "We only need to do the computations modulo $10^{10}$. "
   ]
  },
  {
   "cell_type": "code",
   "execution_count": null,
   "id": "c1859543",
   "metadata": {},
   "outputs": [],
   "source": [
    "sum([a**a for a in range(1,1001)])%(10**10)"
   ]
  }
 ],
 "metadata": {
  "kernelspec": {
   "display_name": "Python 3 (ipykernel)",
   "language": "python",
   "name": "python3"
  },
  "language_info": {
   "codemirror_mode": {
    "name": "ipython",
    "version": 3
   },
   "file_extension": ".py",
   "mimetype": "text/x-python",
   "name": "python",
   "nbconvert_exporter": "python",
   "pygments_lexer": "ipython3",
   "version": "3.9.13"
  }
 },
 "nbformat": 4,
 "nbformat_minor": 5
}
