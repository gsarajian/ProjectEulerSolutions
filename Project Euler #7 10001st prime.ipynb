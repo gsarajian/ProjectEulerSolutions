{
 "cells": [
  {
   "cell_type": "markdown",
   "metadata": {},
   "source": [
    "## By listing the first six prime numbers: 2, 3, 5, 7, 11, and 13, we can see that the 6th prime is 13.\n",
    "\n",
    "## What is the 10 001st prime number?"
   ]
  },
  {
   "cell_type": "markdown",
   "metadata": {},
   "source": [
    "**Solution(s):** \n",
    "\n",
    "We can individually check if each number is prime. This will likely be inefficient and insufficient for future problems, but it works here. For future problems, we'll generate tables of primes using the [Sieve of Eratosthenes](https://en.wikipedia.org/wiki/Sieve_of_Eratosthenes)"
   ]
  },
  {
   "cell_type": "code",
   "execution_count": null,
   "metadata": {},
   "outputs": [],
   "source": [
    "from math import sqrt\n",
    "def isPrime(n):\n",
    "    # checks if n is prime by checking for divisors in (1, \\sqrt(n)]\n",
    "    for i in range(2, int(sqrt(n)+1)):\n",
    "        if n % i == 0:\n",
    "            return False\n",
    "    return True"
   ]
  },
  {
   "cell_type": "code",
   "execution_count": null,
   "metadata": {},
   "outputs": [],
   "source": [
    "i = 3\n",
    "count = 1\n",
    "while i < 10**6 and count < 10**4+1:\n",
    "    if isPrime(i):\n",
    "        count += 1\n",
    "        if count > 9990:\n",
    "            print(str(count) + \"th prime is \", i)\n",
    "    i+=2"
   ]
  }
 ],
 "metadata": {
  "kernelspec": {
   "display_name": "Python 3",
   "language": "python",
   "name": "python3"
  },
  "language_info": {
   "codemirror_mode": {
    "name": "ipython",
    "version": 3
   },
   "file_extension": ".py",
   "mimetype": "text/x-python",
   "name": "python",
   "nbconvert_exporter": "python",
   "pygments_lexer": "ipython3",
   "version": "3.8.5"
  }
 },
 "nbformat": 4,
 "nbformat_minor": 4
}
