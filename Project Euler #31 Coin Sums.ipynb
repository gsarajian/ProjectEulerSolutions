{
 "cells": [
  {
   "cell_type": "markdown",
   "id": "17f372f0",
   "metadata": {},
   "source": [
    "## In the United Kingdom the currency is made up of pound (£) and pence (p). There are eight coins in general circulation:\n",
    "\n",
    "## 1p, 2p, 5p, 10p, 20p, 50p, £1 (100p), and £2 (200p).\n",
    "## It is possible to make £2 in the following way:\n",
    "\n",
    "## 1×£1 + 1×50p + 2×20p + 1×5p + 1×2p + 3×1p\n",
    "## How many different ways can £2 be made using any number of coins?"
   ]
  },
  {
   "cell_type": "markdown",
   "id": "00f29661",
   "metadata": {},
   "source": [
    "**Solution(s):**\n",
    "\n",
    "This is an example of dynamic programming. We start with 0p and for each amount from 0p to 200p, we compute how many ways we can make change for that amount. We do for cost c that by taking all the individual coin amounts less than c, {d}, and adding up all of the ways we can make change for c-d."
   ]
  },
  {
   "cell_type": "code",
   "execution_count": null,
   "id": "b285733e",
   "metadata": {},
   "outputs": [],
   "source": [
    "import itertools"
   ]
  },
  {
   "cell_type": "code",
   "execution_count": null,
   "id": "f7467f5b",
   "metadata": {},
   "outputs": [],
   "source": [
    "dp = [[[0,0,0,0,0,0,0,0]]] # start with a list of all the ways to make 0p\n",
    "coins = [1, 2, 5, 10, 20, 50, 100, 200]\n",
    "for i in range(1, 201):\n",
    "    sublist = []\n",
    "    for j in range(len(coins)):\n",
    "        coin = coins[j]\n",
    "        if coin <= i:\n",
    "            for a in dp[i-coin]:\n",
    "                nw = [b for b in a]\n",
    "                nw[j] += 1\n",
    "                sublist.append(nw)\n",
    "                \n",
    "    # we need to get rid of duplicate ways (2 50p + 1 100p vs 1 100p + 2 50p)\n",
    "    sublist.sort()\n",
    "    sublist = list(sublist for sublist,_ in itertools.groupby(sublist))\n",
    "\n",
    "    dp.append(sublist)\n",
    "len(dp[-1])"
   ]
  }
 ],
 "metadata": {
  "kernelspec": {
   "display_name": "Python 3 (ipykernel)",
   "language": "python",
   "name": "python3"
  },
  "language_info": {
   "codemirror_mode": {
    "name": "ipython",
    "version": 3
   },
   "file_extension": ".py",
   "mimetype": "text/x-python",
   "name": "python",
   "nbconvert_exporter": "python",
   "pygments_lexer": "ipython3",
   "version": "3.10.6"
  }
 },
 "nbformat": 4,
 "nbformat_minor": 5
}
