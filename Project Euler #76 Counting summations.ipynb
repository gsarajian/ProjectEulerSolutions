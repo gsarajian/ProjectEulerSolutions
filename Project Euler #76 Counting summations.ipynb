{
 "cells": [
  {
   "cell_type": "markdown",
   "id": "8b1c21b9",
   "metadata": {},
   "source": [
    "<p>It is possible to write five as a sum in exactly six different ways:</p>\n",
    "<p class=\"margin_left\">4 + 1<br />\n",
    "3 + 2<br />\n",
    "3 + 1 + 1<br />\n",
    "2 + 2 + 1<br />\n",
    "2 + 1 + 1 + 1<br />\n",
    "1 + 1 + 1 + 1 + 1</p>\n",
    "<p>How many different ways can one hundred be written as a sum of at least two positive integers?</p>\n"
   ]
  },
  {
   "cell_type": "markdown",
   "id": "12e38f12",
   "metadata": {},
   "source": [
    "**Solution(s):**\n",
    "We start by considering a function $f(n)$ that counts how many ways to write $n$ as a sum of positive integers, where the trivial sum $n$ by itself counts. So $f(1) = 1$, $f(2) = 2$, $f(5) = 7$, and so on. We're looking for $f(100)-1$. To compute $f(n)$, we create a matrix whose $(i+1,j+1)$th entry is the number of ways we can write $i$ as a sum of positive numbers, the largest of which is $j$. This allows us to recursively compute the $(i+1, j+1)$st entry by taking the sum of the first $j$ elements of the $(i-j)$th row."
   ]
  },
  {
   "cell_type": "code",
   "execution_count": null,
   "id": "feda79c5",
   "metadata": {},
   "outputs": [],
   "source": [
    "counts = [[0]*101 for i in range(101)]\n",
    "counts[0][0] = 1 # to help compute the trivial cases of writing $n = n$.\n",
    "for i in range(1,101):\n",
    "    for j in range(1,101):\n",
    "        counts[i][j] = sum(counts[i-j][:j+1])"
   ]
  },
  {
   "cell_type": "code",
   "execution_count": null,
   "id": "79fb5722",
   "metadata": {},
   "outputs": [],
   "source": [
    "sum(counts[-1])-1"
   ]
  }
 ],
 "metadata": {
  "kernelspec": {
   "display_name": "Python 3 (ipykernel)",
   "language": "python",
   "name": "python3"
  },
  "language_info": {
   "codemirror_mode": {
    "name": "ipython",
    "version": 3
   },
   "file_extension": ".py",
   "mimetype": "text/x-python",
   "name": "python",
   "nbconvert_exporter": "python",
   "pygments_lexer": "ipython3",
   "version": "3.9.13"
  }
 },
 "nbformat": 4,
 "nbformat_minor": 5
}
