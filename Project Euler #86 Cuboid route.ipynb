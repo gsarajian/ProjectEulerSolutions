{
 "cells": [
  {
   "cell_type": "markdown",
   "id": "dcd317c0",
   "metadata": {},
   "source": [
    "<p>A spider, S, sits in one corner of a cuboid room, measuring 6 by 5 by 3, and a fly, F, sits in the opposite corner. By travelling on the surfaces of the room the shortest \"straight line\" distance from S to F is 10 and the path is shown on the diagram.</p>\n",
    "<div class=\"center\">\n",
    "<img src=\"p086.png\" class=\"dark_img\" alt=\"\" /><br /></div>\n",
    "<p>However, there are up to three \"shortest\" path candidates for any given cuboid and the shortest route doesn't always have integer length.</p>\n",
    "<p>It can be shown that there are exactly 2060 distinct cuboids, ignoring rotations, with integer dimensions, up to a maximum size of M by M by M, for which the shortest route has integer length when M = 100. This is the least value of M for which the number of solutions first exceeds two thousand; the number of solutions when M = 99 is 1975.</p>\n",
    "<p>Find the least value of M such that the number of solutions first exceeds one million.</p>"
   ]
  },
  {
   "cell_type": "markdown",
   "id": "2d3dcb47",
   "metadata": {},
   "source": [
    "**Solution:** Denote $S$, $M$, and $L$, as the lengths of the smallest, medium, and largest side lengths. Some computation shows that the shortest route has length $\\sqrt{(S+M)^2 + L^2}$, so in order for this to be an integer, we need $((S+M), L)$ to be two legs of a Pythagorean triple. \n",
    "\n",
    "We start by generating a list of Pythagorean triples and look at all combinations where $L$ is one leg and $S+M$ is the other, and $S \\leq M \\leq L$."
   ]
  },
  {
   "cell_type": "code",
   "execution_count": null,
   "id": "7fc89d83",
   "metadata": {},
   "outputs": [],
   "source": [
    "from math import gcd"
   ]
  },
  {
   "cell_type": "code",
   "execution_count": null,
   "id": "ed7c5a95",
   "metadata": {},
   "outputs": [],
   "source": [
    "# Create a list of primitive Pythagorean triples\n",
    "pythags = []\n",
    "for m in range(1,100):\n",
    "    for n in range(1,m):\n",
    "        if gcd(m,n) == 1 and ((m%2)+(n%2)==1):\n",
    "            a = m**2 - n**2\n",
    "            b = 2*m*n\n",
    "            c = m**2 + n**2\n",
    "            pythags.append([min(a,b), max(a,b),c])"
   ]
  },
  {
   "cell_type": "code",
   "execution_count": null,
   "id": "11d199d5",
   "metadata": {},
   "outputs": [],
   "source": [
    "# Extend the list of triples by including multiples of primitive triples\n",
    "temp = []\n",
    "for py in pythags:\n",
    "    temp.extend([[i*a for a in py] for i in range(2,1000)])\n",
    "pythags.extend(temp)"
   ]
  },
  {
   "cell_type": "code",
   "execution_count": null,
   "id": "6ff7a126",
   "metadata": {},
   "outputs": [],
   "source": [
    "# Create a new list with the different legs as the first entry, then sort it \n",
    "flatPys = [[a[0],a[1]] for a in pythags]\n",
    "flatPys.extend([[a[1],a[0]] for a in pythags])\n",
    "flatPys.sort(key = lambda x: -x[0])"
   ]
  },
  {
   "cell_type": "code",
   "execution_count": null,
   "id": "22af9518",
   "metadata": {},
   "outputs": [],
   "source": [
    "count = 0\n",
    "while count < 10**6:\n",
    "    comb = flatPys.pop()\n",
    "    L = comb[0]\n",
    "    M = (comb[1]+1)//2\n",
    "    S = comb[1]-M\n",
    "    while M <= L and S >= 1:\n",
    "        count += 1\n",
    "        S -= 1\n",
    "        M += 1\n",
    "print(L, count)"
   ]
  }
 ],
 "metadata": {
  "kernelspec": {
   "display_name": "Python 3 (ipykernel)",
   "language": "python",
   "name": "python3"
  },
  "language_info": {
   "codemirror_mode": {
    "name": "ipython",
    "version": 3
   },
   "file_extension": ".py",
   "mimetype": "text/x-python",
   "name": "python",
   "nbconvert_exporter": "python",
   "pygments_lexer": "ipython3",
   "version": "3.9.13"
  }
 },
 "nbformat": 4,
 "nbformat_minor": 5
}
