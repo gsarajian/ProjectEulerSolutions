{
 "cells": [
  {
   "cell_type": "markdown",
   "id": "17f372f0",
   "metadata": {},
   "source": [
    "## An irrational decimal fraction is created by concatenating the positive integers:\n",
    "\n",
    "$$0.123456789101112131415161718192021...$$\n",
    "\n",
    "## It can be seen that the 12th digit of the fractional part is 1.\n",
    "\n",
    "## If $d_n$ represents the nth digit of the fractional part, find the value of the following expression.\n",
    "\n",
    "$$d_1 \\times d_{10} \\times d_{100} \\times d_{1000} \\times d_{10000} \\times d_{100000} \\times d_{1000000}$$"
   ]
  },
  {
   "cell_type": "markdown",
   "id": "00f29661",
   "metadata": {},
   "source": [
    "**Solution(s):**\n",
    "\n",
    "We simply concatenate a string with the digits and then use list comprehension to pick out the relevant digits."
   ]
  },
  {
   "cell_type": "code",
   "execution_count": null,
   "id": "b75502b1",
   "metadata": {},
   "outputs": [],
   "source": [
    "s = \"\"\n",
    "for i in range(1,200000):\n",
    "    s += str(i)\n",
    "int(s[0])*int(s[9])*int(s[99])*int(s[999])*int(s[9999])*int(s[99999])*int(s[999999])"
   ]
  }
 ],
 "metadata": {
  "kernelspec": {
   "display_name": "Python 3 (ipykernel)",
   "language": "python",
   "name": "python3"
  },
  "language_info": {
   "codemirror_mode": {
    "name": "ipython",
    "version": 3
   },
   "file_extension": ".py",
   "mimetype": "text/x-python",
   "name": "python",
   "nbconvert_exporter": "python",
   "pygments_lexer": "ipython3",
   "version": "3.10.6"
  }
 },
 "nbformat": 4,
 "nbformat_minor": 5
}
