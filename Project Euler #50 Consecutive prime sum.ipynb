{
 "cells": [
  {
   "cell_type": "markdown",
   "id": "8b1c21b9",
   "metadata": {},
   "source": [
    "## The prime 41, can be written as the sum of six consecutive primes:\n",
    "\n",
    "$$41 = 2 + 3 + 5 + 7 + 11 + 13$$\n",
    "## This is the longest sum of consecutive primes that adds to a prime below one-hundred.\n",
    "\n",
    "## The longest sum of consecutive primes below one-thousand that adds to a prime, contains 21 terms, and is equal to 953.\n",
    "\n",
    "## Which prime, below one-million, can be written as the sum of the most consecutive primes?"
   ]
  },
  {
   "cell_type": "markdown",
   "id": "12e38f12",
   "metadata": {},
   "source": [
    "**Solution(s):**\n",
    "We start by generating an array of all primes less than a million. We then loop through subarrays, checking their sums for primality. If the length of a qualifying subarray is greater than all previously visited ones, we keep track of this new max length. "
   ]
  },
  {
   "cell_type": "code",
   "execution_count": null,
   "id": "feda79c5",
   "metadata": {},
   "outputs": [],
   "source": [
    "from math import ceil, sqrt, floor"
   ]
  },
  {
   "cell_type": "code",
   "execution_count": null,
   "id": "82c72aa8",
   "metadata": {},
   "outputs": [],
   "source": [
    "def primesLessThan(n):\n",
    "    # A function that returns an array of all the primes less than or equal to n\n",
    "    primes = [2]        # the second component is positive iff the first component is a prime.\n",
    "    cands = [[i,1] for i in range(n+1)]\n",
    "    bgstPrime = primes[-1] # biggest prime in our list\n",
    "    i = 2\n",
    "    while bgstPrime <= sqrt(n):\n",
    "        pr = cands[i][0]\n",
    "        for k in range(ceil((n+1)/pr)):\n",
    "            cands[k*pr][1] -= 1 # this is crossing off the multiples of our previous primes\n",
    "        i += 1\n",
    "        while cands[i][1] <= 0:\n",
    "            i += 1\n",
    "        primes.append(i)\n",
    "        bgstPrime = i\n",
    "#    primes.extend([a[0] for a in cands[floor(sqrt(n)):] if a[1] >0])\n",
    "    primes.extend([a[0] for a in cands[i+1:] if a[1] >0])\n",
    "    return [m for m in primes if m <= n]"
   ]
  },
  {
   "cell_type": "code",
   "execution_count": null,
   "id": "dcd332ae",
   "metadata": {
    "scrolled": true
   },
   "outputs": [],
   "source": [
    "primes = primesLessThan(10**6)                   # generate a list of primes up to 10^6\n",
    "hsh = set(primes)                                # use a hash map for quicker primality checking"
   ]
  },
  {
   "cell_type": "code",
   "execution_count": null,
   "id": "39e39287",
   "metadata": {},
   "outputs": [],
   "source": [
    "maxprime = -1                # initialize the prime which is the sum of consecutive primes\n",
    "carmax = 2                   # the current maximum length of the subarray of primes whose sum is prime\n",
    "l = len(primes)\n",
    "i = 0                        # left index of our subarray\n",
    "subsum = 0                   # will keep track of the sum of the subarray\n",
    "while i < l:\n",
    "    j = i+1                  # right index of our subarray\n",
    "    subsum = sum(primes[i:j])\n",
    "    while j < l and subsum < 10**6:\n",
    "        if subsum in hsh and subsum < 10**6:    # checks if sum is prime and less than 10^6\n",
    "            if j-i>carmax:                      # checks if array is longer than our previous max\n",
    "                carmax = j-i\n",
    "                maxprime = subsum\n",
    "                print(\"New max! sum is\", subsum, \"length is\", carmax, \"(i,j) is\", i, j) \n",
    "        subsum += primes[j]            \n",
    "        j += 1\n",
    "    i += 1\n",
    "            \n",
    "maxprime"
   ]
  }
 ],
 "metadata": {
  "kernelspec": {
   "display_name": "Python 3 (ipykernel)",
   "language": "python",
   "name": "python3"
  },
  "language_info": {
   "codemirror_mode": {
    "name": "ipython",
    "version": 3
   },
   "file_extension": ".py",
   "mimetype": "text/x-python",
   "name": "python",
   "nbconvert_exporter": "python",
   "pygments_lexer": "ipython3",
   "version": "3.10.6"
  }
 },
 "nbformat": 4,
 "nbformat_minor": 5
}
