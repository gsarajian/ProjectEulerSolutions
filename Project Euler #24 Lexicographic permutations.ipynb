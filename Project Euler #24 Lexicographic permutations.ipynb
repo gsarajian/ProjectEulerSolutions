{
 "cells": [
  {
   "cell_type": "markdown",
   "metadata": {},
   "source": [
    "## A permutation is an ordered arrangement of objects. For example, 3124 is one possible permutation of the digits 1, 2, 3 and 4. If all of the permutations are listed numerically or alphabetically, we call it lexicographic order. The lexicographic permutations of 0, 1 and 2 are:\n",
    "\n",
    "## 012   021   102   120   201   210\n",
    "\n",
    "## What is the millionth lexicographic permutation of the digits 0, 1, 2, 3, 4, 5, 6, 7, 8 and 9?"
   ]
  },
  {
   "cell_type": "markdown",
   "metadata": {},
   "source": [
    "**Solution(s):** \n",
    "\n",
    "This can be done with combinatorics. There are $9! = 362880$ permutations of 9 different values, so the first 362880 permutations start with 0 and the next 362880 start with 1. We now need the $10^6 - 2*362880 = 274240$th permutation that starts with a 2. There are $8! = 40320$ permutations of 8 values, so the second digit will be the $\\lceil 274240/40320 \\rceil$ th digit out of those remaining (0, 1, 3, 4, 5, 6, 7, 8, 9). We can continue this calculation."
   ]
  },
  {
   "cell_type": "code",
   "execution_count": null,
   "metadata": {},
   "outputs": [],
   "source": [
    "def factorial(n):\n",
    "    vals = [1]*(n+1)\n",
    "    for i in range(1,n+1):\n",
    "        vals[i] = vals[i-1]*i\n",
    "    return vals[-1]"
   ]
  },
  {
   "cell_type": "code",
   "execution_count": null,
   "metadata": {},
   "outputs": [],
   "source": [
    "facts = [factorial(i) for i in range(1,10)]"
   ]
  },
  {
   "cell_type": "code",
   "execution_count": null,
   "metadata": {},
   "outputs": [],
   "source": [
    "digits = [str(i) for i in range(10)]\n",
    "place = 10**6\n",
    "while place > facts[-1]:\n",
    "    perms = facts.pop()\n",
    "    digs = int(place/perms)\n",
    "    print(place, perms, digs, \"next digit is \", digits.pop(digs))\n",
    "    place -= digs*perms\n",
    "print(digits)"
   ]
  },
  {
   "cell_type": "markdown",
   "metadata": {},
   "source": [
    "## At this step, we're looking for the 4th permutation that can be made out of (0, 4, 6), which is 460. So the $10^6$th permutation is \n",
    "\n",
    "2783915460"
   ]
  }
 ],
 "metadata": {
  "kernelspec": {
   "display_name": "Python 3",
   "language": "python",
   "name": "python3"
  },
  "language_info": {
   "codemirror_mode": {
    "name": "ipython",
    "version": 3
   },
   "file_extension": ".py",
   "mimetype": "text/x-python",
   "name": "python",
   "nbconvert_exporter": "python",
   "pygments_lexer": "ipython3",
   "version": "3.8.5"
  }
 },
 "nbformat": 4,
 "nbformat_minor": 4
}
