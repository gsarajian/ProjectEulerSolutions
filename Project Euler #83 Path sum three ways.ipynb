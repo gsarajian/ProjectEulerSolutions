{
 "cells": [
  {
   "cell_type": "markdown",
   "id": "dcd317c0",
   "metadata": {},
   "source": [
    "<p class=\"small_notice\">NOTE: This problem is a significantly more challenging version of <a href=https://projecteuler.net/problem=81>Problem 81</a>.</p>\n",
    "<p>In the 5 by 5 matrix below, the minimal path sum from the top left to the bottom right, by moving left, right, up, and down, is indicated in bold red and is equal to 2297.</p>\n",
    "<div class=\"center\">\n",
    "$$\n",
    "\\begin{pmatrix}\n",
    "\\color{red}{131} & 673 & \\color{red}{234} & \\color{red}{103} & \\color{red}{18}\\\\\n",
    "\\color{red}{201} & \\color{red}{96} & \\color{red}{342} & 965 & \\color{red}{150}\\\\\n",
    "630 & 803 & 746 & \\color{red}{422} & \\color{red}{111}\\\\\n",
    "537 & 699 & 497 & \\color{red}{121} & 956\\\\\n",
    "805 & 732 & 524 & \\color{red}{37} & \\color{red}{331}\n",
    "\\end{pmatrix}\n",
    "$$\n",
    "</div>\n",
    "<p>Find the minimal path sum from the top left to the bottom right by moving left, right, up, and down in <a href=https://projecteuler.net/project/resources/p083_matrix.txt>matrix.txt</a> (right click and \"Save Link/Target As...\"), a 31K text file containing an 80 by 80 matrix.</p>"
   ]
  },
  {
   "cell_type": "markdown",
   "id": "2d3dcb47",
   "metadata": {},
   "source": [
    "We solve using the [Dijkstra's algorithm](https://en.wikipedia.org/wiki/Dijkstra's_algorithm). We convert the txt document into a matrix whose entries are the numbers in the file and keep track of the minimum sum of a path going through an entry. We initialize the top left corner's cost as its own value, then all other entries with a cost of $10^7$."
   ]
  },
  {
   "cell_type": "code",
   "execution_count": null,
   "id": "ad2b2010",
   "metadata": {},
   "outputs": [],
   "source": [
    "matrix = open(\"p083_matrix.txt\", \"r\")\n",
    "dp = [[[0,10**7,j,i] for i in range(80)] for j in range(80)]             # matrix that we'll populate\n",
    "\n",
    "# go through the file line by line and put the numbers into dp\n",
    "for i in range(80):\n",
    "    line = matrix.readline()\n",
    "    \n",
    "    # The for loop enters the first 79 entries of the row, then we'll handle the 80th\n",
    "    for j in range(79):\n",
    "        cut = line.index(',')\n",
    "        num = int(line[:cut])\n",
    "        dp[i][j][0] = num\n",
    "        # dp[i][j][2] = i\n",
    "        # dp[i][j][3] = j\n",
    "        line = line[cut+1:]\n",
    "        \n",
    "    # Deal with the 80th entry\n",
    "    dp[i][-1][0] = int(line)"
   ]
  },
  {
   "cell_type": "code",
   "execution_count": null,
   "id": "d7132b49",
   "metadata": {},
   "outputs": [],
   "source": [
    "# Flat will be a flattended version of all of the entries we haven't visited yet. \n",
    "flat = []\n",
    "# Initialize all of the entries\n",
    "for i in range(80):\n",
    "    flat.extend(dp[i])"
   ]
  },
  {
   "cell_type": "code",
   "execution_count": null,
   "id": "10129ca3",
   "metadata": {},
   "outputs": [],
   "source": [
    "# Initialize the first cell.\n",
    "dp[0][0][1] = dp[0][0][0]"
   ]
  },
  {
   "cell_type": "code",
   "execution_count": null,
   "id": "e900938d",
   "metadata": {},
   "outputs": [],
   "source": [
    "# cur is the current cell/node, and we start with the top left corner.\n",
    "cur = [0,0,0,0]\n",
    "\n",
    "# directions we'll move in. \n",
    "dirs = [[-1,0],[1,0],[0,1],[0,-1]]\n",
    "\n",
    "# stay in the following while loop until we've reached the bottom right\n",
    "while cur[2:] != [79, 79]:\n",
    "    # the list of nodes is sorted, so the smallest cost one is at the front.\n",
    "    cur = flat.pop(0)\n",
    "    \n",
    "    # save the current i and j indices\n",
    "    curi = cur[2]\n",
    "    curj = cur[3]\n",
    "    \n",
    "    # compare nearby costs and update if necessary \n",
    "    for direct in dirs:\n",
    "        i = direct[0]\n",
    "        j = direct[1]\n",
    "        if curi + i <= 79 and curi + i >= 0:\n",
    "            dp[curi+i][curj][1] = min(dp[curi+i][curj][1], dp[curi][curj][1]+dp[curi+i][curj][0])\n",
    "        if curj + j <= 79 and curj + j >= 0:\n",
    "            dp[curi][curj+j][1] = min(dp[curi][curj+j][1], dp[curi][curj][1]+dp[curi][curj+j][0])\n",
    "    \n",
    "    # sort the list of unseen nodes so that we can pick off the lowest cost one\n",
    "    flat.sort(key = lambda flat: flat[1])\n"
   ]
  },
  {
   "cell_type": "code",
   "execution_count": null,
   "id": "6a0582b6",
   "metadata": {},
   "outputs": [],
   "source": [
    "dp[-1][-1][1]"
   ]
  }
 ],
 "metadata": {
  "kernelspec": {
   "display_name": "Python 3 (ipykernel)",
   "language": "python",
   "name": "python3"
  },
  "language_info": {
   "codemirror_mode": {
    "name": "ipython",
    "version": 3
   },
   "file_extension": ".py",
   "mimetype": "text/x-python",
   "name": "python",
   "nbconvert_exporter": "python",
   "pygments_lexer": "ipython3",
   "version": "3.9.13"
  }
 },
 "nbformat": 4,
 "nbformat_minor": 5
}
