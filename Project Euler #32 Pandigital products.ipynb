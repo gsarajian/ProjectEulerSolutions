{
 "cells": [
  {
   "cell_type": "markdown",
   "id": "17f372f0",
   "metadata": {},
   "source": [
    "## We shall say that an n-digit number is pandigital if it makes use of all the digits 1 to n exactly once; for example, the 5-digit number, 15234, is 1 through 5 pandigital.\n",
    "\n",
    "## The product 7254 is unusual, as the identity, 39 × 186 = 7254, containing multiplicand, multiplier, and product is 1 through 9 pandigital.\n",
    "\n",
    "## Find the sum of all products whose multiplicand/multiplier/product identity can be written as a 1 through 9 pandigital.\n",
    "\n",
    "## HINT: Some products can be obtained in more than one way so be sure to only include it once in your sum."
   ]
  },
  {
   "cell_type": "markdown",
   "id": "00f29661",
   "metadata": {},
   "source": [
    "**Solution(s):**\n",
    "\n",
    "Assume WLOG that $a$ has fewer digits than $b$. Denote the multiplicand as $a$, multipleir as $b$, and product as $c$. \n",
    "\n",
    "**Digit count**: We deduce using basic math that the only way we can have the triplet $(a, b, c)$ have all $9$ digits is if we're in one of the following situations: \n",
    "\n",
    "-$a$ has two digits, $b$ has $3$ digits, and $c$ has $4$ digits, or\n",
    "\n",
    "-$a$ has one digit and $b$ and $c$ each have $4$ digits\n",
    "\n",
    "Furthermore, if we're in the first case, then we must be in one of the following subcases:\n",
    "\n",
    "-$a$ starts with a $1$,\n",
    "\n",
    "-$b$ starts with a $1$,\n",
    "\n",
    "-One of $(a, b)$ starts with a $2$ and the other starts with a $3$.\n",
    "\n",
    "-One of $(a, b)$ starts with a $2$ and the other starts with a $4$. "
   ]
  },
  {
   "cell_type": "code",
   "execution_count": 85,
   "id": "b75502b1",
   "metadata": {},
   "outputs": [],
   "source": [
    "# keep a list across the different cases\n",
    "master_list = []"
   ]
  },
  {
   "cell_type": "markdown",
   "id": "cf005522",
   "metadata": {},
   "source": [
    "Check the cases where $a$ starts with a $1$."
   ]
  },
  {
   "cell_type": "code",
   "execution_count": 86,
   "id": "3ce5ff5e",
   "metadata": {},
   "outputs": [
    {
     "name": "stdout",
     "output_type": "stream",
     "text": [
      "12 483 5796\n",
      "18 297 5346\n"
     ]
    }
   ],
   "source": [
    "for a in range(12,20):\n",
    "    for b in range(100,1000):\n",
    "        c = a*b\n",
    "        aDigs = [dig for dig in str(a)]    # the digits of a\n",
    "        bDigs = [dig for dig in str(b)]    # the digits of b\n",
    "        cDigs = [dig for dig in str(c)]    # the digits of c\n",
    "        \n",
    "        # combine all the digits into a single list\n",
    "        aDigs.extend(bDigs)                \n",
    "        aDigs.extend(cDigs)\n",
    "        hasAll = True\n",
    "        \n",
    "        # check that all the digits are present\n",
    "        for i in range(1,10):\n",
    "            if aDigs.count(str(i)) == 0:\n",
    "                hasAll = False\n",
    "        if hasAll:\n",
    "            if len(aDigs) == 9:      # checks that there aren't repeats\n",
    "                print(a, b, c)\n",
    "                master_list.append([a, b, c])"
   ]
  },
  {
   "cell_type": "markdown",
   "id": "e0a86e0b",
   "metadata": {},
   "source": [
    "Check the cases where $b$ starts with a $1$."
   ]
  },
  {
   "cell_type": "code",
   "execution_count": 87,
   "id": "3da362c9",
   "metadata": {},
   "outputs": [
    {
     "name": "stdout",
     "output_type": "stream",
     "text": [
      "27 198 5346\n",
      "28 157 4396\n",
      "39 186 7254\n",
      "42 138 5796\n",
      "48 159 7632\n"
     ]
    }
   ],
   "source": [
    "for a in range(21,100):\n",
    "    for b in range(100,200):\n",
    "        c = a*b\n",
    "        aDigs = [dig for dig in str(a)]\n",
    "        bDigs = [dig for dig in str(b)]\n",
    "        cDigs = [dig for dig in str(c)]\n",
    "        aDigs.extend(bDigs)\n",
    "        aDigs.extend(cDigs)\n",
    "        hasAll = True\n",
    "        for i in range(1,10):\n",
    "            if aDigs.count(str(i)) == 0:\n",
    "                #print(a, b, c, \"doesn't have\", i)\n",
    "                hasAll = False\n",
    "        if hasAll:\n",
    "            if len(aDigs) == 9:\n",
    "                print(a, b, c)\n",
    "                master_list.append([a, b, c])"
   ]
  },
  {
   "cell_type": "markdown",
   "id": "1a08ef1e",
   "metadata": {},
   "source": [
    "Check for $a$ starting with 3 or 4 and $b$ starting with 2"
   ]
  },
  {
   "cell_type": "code",
   "execution_count": 88,
   "id": "459b8804",
   "metadata": {},
   "outputs": [],
   "source": [
    "for a in range(31,50):\n",
    "    for b in range(200,300):\n",
    "        c = a*b\n",
    "        aDigs = [dig for dig in str(a)]\n",
    "        bDigs = [dig for dig in str(b)]\n",
    "        cDigs = [dig for dig in str(c)]\n",
    "        aDigs.extend(bDigs)\n",
    "        aDigs.extend(cDigs)\n",
    "        #print(aDigs)\n",
    "        hasAll = True\n",
    "        for i in range(1,10):\n",
    "            if aDigs.count(str(i)) == 0:\n",
    "                #print(a, b, c, \"doesn't have\", i)\n",
    "                hasAll = False\n",
    "        if hasAll:\n",
    "            if len(aDigs) == 9:\n",
    "                print(a, b, c)\n",
    "                master_list.append([a, b, c])"
   ]
  },
  {
   "cell_type": "markdown",
   "id": "e97f343f",
   "metadata": {},
   "source": [
    "Check for $a$ starting with 2 and $b$ starting with 3 or 4"
   ]
  },
  {
   "cell_type": "code",
   "execution_count": 90,
   "id": "4aa9904b",
   "metadata": {},
   "outputs": [],
   "source": [
    "for a in range(21,30):\n",
    "    for b in range(300,500):\n",
    "        c = a*b\n",
    "        aDigs = [dig for dig in str(a)]\n",
    "        bDigs = [dig for dig in str(b)]\n",
    "        cDigs = [dig for dig in str(c)]\n",
    "        aDigs.extend(bDigs)\n",
    "        aDigs.extend(cDigs)\n",
    "        #print(aDigs)\n",
    "        hasAll = True\n",
    "        for i in range(1,10):\n",
    "            if aDigs.count(str(i)) == 0:\n",
    "                #print(a, b, c, \"doesn't have\", i)\n",
    "                hasAlCheck for $a$ starting with 3 or 4 and $b$ starting with 2l = False\n",
    "        if hasAll:\n",
    "            if len(aDigs) == 9:\n",
    "                print(a, b, c)\n",
    "                master_list.append([a, b, c])"
   ]
  },
  {
   "cell_type": "markdown",
   "id": "2a21018e",
   "metadata": {},
   "source": [
    "Check for $a$ one digit and and $b$ 4 digits"
   ]
  },
  {
   "cell_type": "code",
   "execution_count": 92,
   "id": "2579ea5e",
   "metadata": {},
   "outputs": [
    {
     "name": "stdout",
     "output_type": "stream",
     "text": [
      "4 1738 6952\n",
      "4 1963 7852\n"
     ]
    }
   ],
   "source": [
    "for a in range(1,10):\n",
    "    for b in range(1000,10000):\n",
    "        c = a*b\n",
    "        aDigs = [dig for dig in str(a)]\n",
    "        bDigs = [dig for dig in str(b)]\n",
    "        cDigs = [dig for dig in str(c)]\n",
    "        aDigs.extend(bDigs)\n",
    "        aDigs.extend(cDigs)\n",
    "        #print(aDigs)\n",
    "        hasAll = True\n",
    "        for i in range(1,10):\n",
    "            if aDigs.count(str(i)) == 0:\n",
    "                #print(a, b, c, \"doesn't have\", i)\n",
    "                hasAll = False\n",
    "        if hasAll:\n",
    "            if len(aDigs) == 9:\n",
    "                print(a, b, c)\n",
    "                master_list.append([a, b, c])"
   ]
  },
  {
   "cell_type": "code",
   "execution_count": 94,
   "id": "608826b5",
   "metadata": {},
   "outputs": [
    {
     "data": {
      "text/plain": [
       "45228"
      ]
     },
     "execution_count": 94,
     "metadata": {},
     "output_type": "execute_result"
    }
   ],
   "source": [
    "cs = [ent[2] for ent in master_list]\n",
    "cs = list(dict.fromkeys(cs))\n",
    "sum(cs)\n"
   ]
  }
 ],
 "metadata": {
  "kernelspec": {
   "display_name": "Python 3 (ipykernel)",
   "language": "python",
   "name": "python3"
  },
  "language_info": {
   "codemirror_mode": {
    "name": "ipython",
    "version": 3
   },
   "file_extension": ".py",
   "mimetype": "text/x-python",
   "name": "python",
   "nbconvert_exporter": "python",
   "pygments_lexer": "ipython3",
   "version": "3.10.6"
  }
 },
 "nbformat": 4,
 "nbformat_minor": 5
}
