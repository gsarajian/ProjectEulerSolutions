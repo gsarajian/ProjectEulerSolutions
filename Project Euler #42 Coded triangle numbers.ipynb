{
 "cells": [
  {
   "cell_type": "markdown",
   "id": "17f372f0",
   "metadata": {},
   "source": [
    "## The $n$th term of the sequence of triangle numbers is given by, $t_n = n(n+1)/2$; so the first ten triangle numbers are:\n",
    "\n",
    "$$1, 3, 6, 10, 15, 21, 28, 36, 45, 55, ...$$\n",
    "\n",
    "## By converting each letter in a word to a number corresponding to its alphabetical position and adding these values we form a word value. For example, the word value for SKY is $19 + 11 + 25 = 55 = t_{10}$. If the word value is a triangle number then we shall call the word a triangle word.\n",
    "\n",
    "## Using words.txt (right click and 'Save Link/Target As...'), a 16K text file containing nearly two-thousand common English words, how many are triangle words?"
   ]
  },
  {
   "cell_type": "markdown",
   "id": "00f29661",
   "metadata": {},
   "source": [
    "**Solution(s):**\n",
    "\n",
    "We generate a list of triangular numbers and use a hash map to look up if the word is a triangle word. "
   ]
  },
  {
   "cell_type": "code",
   "execution_count": 3,
   "id": "75f3e3cb",
   "metadata": {},
   "outputs": [],
   "source": [
    "import string\n",
    "alph = string.ascii_uppercase        # String of the upper case letters of the alphabet"
   ]
  },
  {
   "cell_type": "code",
   "execution_count": 23,
   "id": "6ca954fa",
   "metadata": {},
   "outputs": [],
   "source": [
    "# read the file and create a list of the names. \n",
    "words = open(\"p042_words.txt\", \"r\")\n",
    "wrds = words.readline()\n",
    "palabras = []\n",
    "l = len(wrds)\n",
    "i = 0\n",
    "longestWordLength = 0   # just to keep track of the length of the longest word.\n",
    "while wrds and i < l:\n",
    "    if \",\" in wrds:\n",
    "        ind = wrds.index(\",\")\n",
    "    else:\n",
    "        ind = len(wrds)\n",
    "    word = wrds[1:ind-1]\n",
    "    palabras.append(word)\n",
    "    longestWordLength = max(longestWordLength, len(word))\n",
    "    i += len(word) + 3\n",
    "    wrds = wrds[len(word) + 3:]\n",
    "words.close()"
   ]
  },
  {
   "cell_type": "code",
   "execution_count": 24,
   "id": "cf5fb163",
   "metadata": {},
   "outputs": [],
   "source": [
    "# find the triangle numbers that we might need.\n",
    "mxVal = longestWordLength*26\n",
    "triangles = [1]\n",
    "i = 2\n",
    "while triangles[-1] < mxVal:\n",
    "    triangles.append(int(i*(i+1)/2))\n",
    "    i += 1"
   ]
  },
  {
   "cell_type": "code",
   "execution_count": 25,
   "id": "aef4745e",
   "metadata": {},
   "outputs": [
    {
     "data": {
      "text/plain": [
       "162"
      ]
     },
     "execution_count": 25,
     "metadata": {},
     "output_type": "execute_result"
    }
   ],
   "source": [
    "# now palabras is the list of words. go through it and tally the score\n",
    "hsh = set(triangles)\n",
    "tot = 0\n",
    "for i in range(len(palabras)):\n",
    "    score = 0\n",
    "    word = palabras[i]\n",
    "    for let in word:\n",
    "        score += alph.index(let) + 1\n",
    "    if score in hsh:\n",
    "        tot += 1\n",
    "tot"
   ]
  }
 ],
 "metadata": {
  "kernelspec": {
   "display_name": "Python 3 (ipykernel)",
   "language": "python",
   "name": "python3"
  },
  "language_info": {
   "codemirror_mode": {
    "name": "ipython",
    "version": 3
   },
   "file_extension": ".py",
   "mimetype": "text/x-python",
   "name": "python",
   "nbconvert_exporter": "python",
   "pygments_lexer": "ipython3",
   "version": "3.10.6"
  }
 },
 "nbformat": 4,
 "nbformat_minor": 5
}
