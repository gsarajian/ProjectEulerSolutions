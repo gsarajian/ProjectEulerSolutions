{
 "cells": [
  {
   "cell_type": "markdown",
   "id": "8b1c21b9",
   "metadata": {},
   "source": [
    "<p>A number chain is created by continuously adding the square of the digits in a number to form a new number until it has been seen before.</p>\n",
    "<p>For example,</p>\n",
    "<p class=\"margin_left\">44 → 32 → 13 → 10 → <b>1</b> → <b>1</b><br />\n",
    "85 → <b>89</b> → 145 → 42 → 20 → 4 → 16 → 37 → 58 → <b>89</b></p>\n",
    "<p>Therefore any chain that arrives at 1 or 89 will become stuck in an endless loop. What is most amazing is that EVERY starting number will eventually arrive at 1 or 89.</p>\n",
    "<p>How many starting numbers below ten million will arrive at 89?</p>"
   ]
  },
  {
   "cell_type": "markdown",
   "id": "12e38f12",
   "metadata": {},
   "source": [
    "**Solution(s):**\n",
    "After one iteration of adding the squares of the digits, we know that we'll be within $[1,567]$, since $7*(81^2) = 567$. So we start by making a lookup table for each of $1, ..., 567$ that tells us which endless loop that value ends up in. Then, we loop through the first $10^7$ integers and compute the first iteration and look up where it will end up, tallying those that end in $89$."
   ]
  },
  {
   "cell_type": "code",
   "execution_count": null,
   "id": "88d86405",
   "metadata": {},
   "outputs": [],
   "source": [
    "lookupList = [[i,i] for i in range(1,568)]\n",
    "for i in range(1,568):\n",
    "    cur = i\n",
    "    while cur != 1 and cur != 89:\n",
    "        cur = sum([int(a)**2 for a in list(str(cur))])\n",
    "    lookupList[i-1][1] = cur       "
   ]
  },
  {
   "cell_type": "code",
   "execution_count": null,
   "id": "95463063",
   "metadata": {},
   "outputs": [],
   "source": [
    "tot = 0\n",
    "for i in range(1,10**7):\n",
    "    sub = sum([int(a)**2 for a in list(str(i))])\n",
    "    tot += (lookupList[sub-1][1]==89)"
   ]
  },
  {
   "cell_type": "code",
   "execution_count": null,
   "id": "fa63dd34",
   "metadata": {},
   "outputs": [],
   "source": [
    "tot"
   ]
  }
 ],
 "metadata": {
  "kernelspec": {
   "display_name": "Python 3 (ipykernel)",
   "language": "python",
   "name": "python3"
  },
  "language_info": {
   "codemirror_mode": {
    "name": "ipython",
    "version": 3
   },
   "file_extension": ".py",
   "mimetype": "text/x-python",
   "name": "python",
   "nbconvert_exporter": "python",
   "pygments_lexer": "ipython3",
   "version": "3.9.13"
  }
 },
 "nbformat": 4,
 "nbformat_minor": 5
}
