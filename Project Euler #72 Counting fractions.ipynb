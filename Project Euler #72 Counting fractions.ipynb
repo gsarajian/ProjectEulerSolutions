{
 "cells": [
  {
   "cell_type": "markdown",
   "id": "8b1c21b9",
   "metadata": {},
   "source": [
    "<p>Consider the fraction, <i>n/d</i>, where <i>n</i> and <i>d</i> are positive integers. If <i>n</i>&lt;<i>d</i> and HCF(<i>n,d</i>)=1, it is called a reduced proper fraction.</p>\n",
    "<p>If we list the set of reduced proper fractions for <i>d</i> ≤ 8 in ascending order of size, we get:</p>\n",
    "<p class=\"center smaller\">1/8, 1/7, 1/6, 1/5, 1/4, 2/7, 1/3, 3/8, 2/5, 3/7, 1/2, 4/7, 3/5, 5/8, 2/3, 5/7, 3/4, 4/5, 5/6, 6/7, 7/8</p>\n",
    "<p>It can be seen that there are 21 elements in this set.</p>\n",
    "<p>How many elements would be contained in the set of reduced proper fractions for <i>d</i> ≤ 1,000,000?</p>"
   ]
  },
  {
   "cell_type": "markdown",
   "id": "12e38f12",
   "metadata": {},
   "source": [
    "**Solution(s):**\n",
    "For each denominator $d$, there will be $\\phi(d)$ numerators $n$ for which $n/d$ is reduced. The order doesn't matter, so we don't worry about rearranging the fractions. We look to find \n",
    "\n",
    "$$\\sum_{d = 2}^{10^6} \\phi(d)$$\n",
    "\n",
    "We use a helper function primeFactors which returns the prime divisors of a given $d$, with multiplicity, and use this to help us compute $\\phi(d)$ with the equation\n",
    "\n",
    "$$\\phi(d) = d \\prod_{p|d}\\left ( 1 - \\frac{1}{p} \\right )$$"
   ]
  },
  {
   "cell_type": "code",
   "execution_count": 2,
   "id": "feda79c5",
   "metadata": {},
   "outputs": [],
   "source": [
    "import math"
   ]
  },
  {
   "cell_type": "code",
   "execution_count": 3,
   "id": "564610fa",
   "metadata": {},
   "outputs": [
    {
     "data": {
      "text/plain": [
       "[3, 3, 5, 7]"
      ]
     },
     "execution_count": 3,
     "metadata": {},
     "output_type": "execute_result"
    }
   ],
   "source": [
    "def primeFactors(n):\n",
    "# A function to print all prime factors of a given number n\n",
    "    facs = []                                                     # Keep track of the prime factors of n\n",
    "    \n",
    "    # Count the number of two's that divide n\n",
    "    while n % 2 == 0:\n",
    "        facs.append(2)\n",
    "        n = n / 2\n",
    "         \n",
    "    # n must be odd at this point\n",
    "    # so a skip of 2 ( i = i + 2) can be used\n",
    "    for i in range(3,int(math.sqrt(n))+1,2):\n",
    "         \n",
    "        # while i divides n, include i and divide n\n",
    "        while n % i== 0:\n",
    "            facs.append(int(i))\n",
    "            n = n / i\n",
    "             \n",
    "    # Condition if n is a prime number greater than 2\n",
    "    if n > 2:\n",
    "        facs.append(int(n))\n",
    "\n",
    "    return facs\n",
    "         \n",
    "# Driver Program to test above function\n",
    " \n",
    "primeFactors(315)"
   ]
  },
  {
   "cell_type": "code",
   "execution_count": 4,
   "id": "c984cff1",
   "metadata": {},
   "outputs": [
    {
     "data": {
      "text/plain": [
       "303963552391.0"
      ]
     },
     "execution_count": 4,
     "metadata": {},
     "output_type": "execute_result"
    }
   ],
   "source": [
    "cnt = 0\n",
    "for i in range(2,10**6+1):\n",
    "    primes = list(set(primeFactors(i)))    # get rid of duplicates\n",
    "    n = i\n",
    "    for p in primes:\n",
    "        n *= (p-1)/p\n",
    "    cnt += n\n",
    "cnt"
   ]
  }
 ],
 "metadata": {
  "kernelspec": {
   "display_name": "Python 3 (ipykernel)",
   "language": "python",
   "name": "python3"
  },
  "language_info": {
   "codemirror_mode": {
    "name": "ipython",
    "version": 3
   },
   "file_extension": ".py",
   "mimetype": "text/x-python",
   "name": "python",
   "nbconvert_exporter": "python",
   "pygments_lexer": "ipython3",
   "version": "3.9.13"
  }
 },
 "nbformat": 4,
 "nbformat_minor": 5
}
