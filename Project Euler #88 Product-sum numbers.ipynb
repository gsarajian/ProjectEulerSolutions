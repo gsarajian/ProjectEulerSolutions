{
 "cells": [
  {
   "cell_type": "markdown",
   "id": "8b1c21b9",
   "metadata": {},
   "source": [
    "<p>A natural number, N, that can be written as the sum and product of a given set of at least two natural numbers, {<i>a</i><sub>1</sub>, <i>a</i><sub>2</sub>, ... , <i>a</i><sub><i>k</i></sub>} is called a product-sum number: N = <i>a</i><sub>1</sub> + <i>a</i><sub>2</sub> + ... + <i>a</i><sub><i>k</i></sub> = <i>a</i><sub>1</sub> × <i>a</i><sub>2</sub> × ... × <i>a</i><sub><i>k</i></sub>.</p>\n",
    "<p>For example, 6 = 1 + 2 + 3 = 1 × 2 × 3.</p>\n",
    "<p>For a given set of size, <i>k</i>, we shall call the smallest N with this property a minimal product-sum number. The minimal product-sum numbers for sets of size, <i>k</i> = 2, 3, 4, 5, and 6 are as follows.</p>\n",
    "<p class=\"margin_left\"><i>k</i>=2: 4 = 2 × 2 = 2 + 2<br /><i>k</i>=3: 6 = 1 × 2 × 3 = 1 + 2 + 3<br /><i>k</i>=4: 8 = 1 × 1 × 2 × 4 = 1 + 1 + 2 + 4<br /><i>k</i>=5: 8 = 1 × 1 × 2 × 2 × 2  = 1 + 1 + 2 + 2 + 2<br /><i>k</i>=6: 12 = 1 × 1 × 1 × 1 × 2 × 6 = 1 + 1 + 1 + 1 + 2 + 6</p>\n",
    "<p>Hence for 2≤<i>k</i>≤6, the sum of all the minimal product-sum numbers is 4+6+8+12 = 30; note that 8 is only counted once in the sum.</p>\n",
    "<p>In fact, as the complete set of minimal product-sum numbers for 2≤<i>k</i>≤12 is {4, 6, 8, 12, 15, 16}, the sum is 61.</p>\n",
    "<p>What is the sum of all the minimal product-sum numbers for 2≤<i>k</i>≤12000?</p>"
   ]
  },
  {
   "cell_type": "markdown",
   "id": "12e38f12",
   "metadata": {},
   "source": [
    "**Solution(s):**\n",
    "Denote $f(k)$ as the function described above, i.e. $f(k)$ is the smallest number $n$ for which $n$ can be factored as a product of $k$ numbers, and the sum of those $k$ numbers is $n$. Given some $k$, to compute $f(k)$, we generate a list of candidates $n$ and choose the minimum.\n",
    "\n",
    "\n",
    "Note that $f(k) \\leq 2k$, since $n = 2k$ can be written as a product and sum of $k-2$ ones, a $2$, and $k$. Given this observation, we only generate candidates $n$ up to $24000$. For $n \\leq 24000$, we generate a list of all the factorizations of $n$ of that don't have $1$s as a factor. Then, for each of those factorizations, we compare the sum of the factors $s$, the number of factors in the factorization $l$, and $n$ itself. By padding the factorization with $1$s, we see that $n$ is a candidate for $n-s+l$. Once we've generated all the candadates, we loop thruogh the $k$ and take the minimum one to be $f(k)$, and after removing duplicates, we take the sum over all $2 \\leq k \\leq 12000$.\n",
    "\n",
    "We generate the list of factorizations using dynamic programming. We initialize our array of factorizations to include the trivial factorization of $n$ itself, then for each factor $d$ of $n$, we recover a factorization of $n$ by appending $d$ to a factorization of $n/d$. "
   ]
  },
  {
   "cell_type": "code",
   "execution_count": null,
   "id": "78fcc6c8",
   "metadata": {},
   "outputs": [],
   "source": [
    "# Generate a list of all the factorizations for 2 \\leq n \\leq 24000\n",
    "# Use dynamic programming. \n",
    "\n",
    "# Initialize the list with trivial factorizations\n",
    "facs = [[[i]] for i in range(25000)]\n",
    "facs[1] = []\n",
    "\n",
    "# Loop through the different n\n",
    "for n in range(3,25000):\n",
    "    factor = 2\n",
    "    \n",
    "    # Loop through potential factors\n",
    "    while n>=factor**2-2:\n",
    "        \n",
    "        # Check if the potential factor is truly a factor\n",
    "        if n % factor == 0:\n",
    "            \n",
    "            # If it is a factor, look at factorizations of the quotient and append the factor to them\n",
    "            for fac in facs[round(n/factor)]:\n",
    "                newFac = [a for a in fac]\n",
    "                newFac.append(factor)\n",
    "                newFac.sort()\n",
    "                facs[n].append(newFac)\n",
    "        \n",
    "        factor += 1\n",
    "            \n",
    "            \n",
    "            \n",
    "    # Here, we clean up the list of factorizations of n, since there are repeats. \n",
    "    fac = facs[n]\n",
    "    res = []\n",
    "    [res.append(x) for x in fac if x not in res]\n",
    "    facs[n] = res"
   ]
  },
  {
   "cell_type": "code",
   "execution_count": null,
   "id": "e1c816fc",
   "metadata": {},
   "outputs": [],
   "source": [
    "# Now go through the factorizations n and assign n to be a candidate for f(k)\n",
    "\n",
    "# Initialize an array for the candidates of f(k), the first entry won't be a true candidate\n",
    "# Is mostly useful for debugging and seeing what f(k) is\n",
    "cands = [[k] for k in range(24003)]\n",
    "for n in range(2,len(facs)):\n",
    "    for fac in facs[n]:\n",
    "        s = sum(fac) \n",
    "        discrep = n - s\n",
    "        k = discrep + len(fac)\n",
    "        if k < 12002:\n",
    "            cands[k].append(n)"
   ]
  },
  {
   "cell_type": "code",
   "execution_count": null,
   "id": "6eeec14f",
   "metadata": {},
   "outputs": [],
   "source": [
    "# Finally, find the values of f(k) by taking the minimum of the candidates\n",
    "fvalues = []\n",
    "for cand in cands[2:12001]:\n",
    "    fvalues.append(min(cand[1:]))\n",
    "    \n",
    "# Remove duplicate values \n",
    "cleaned = [*set(fvalues)]\n",
    "\n",
    "# Sum up all the values\n",
    "tot = sum(cleaned)\n",
    "tot"
   ]
  },
  {
   "cell_type": "code",
   "execution_count": null,
   "id": "b2f7e3f1",
   "metadata": {},
   "outputs": [],
   "source": [
    "[a for a in cands[3:] if len(a) > 1 and a[1] == 2*a[0]]"
   ]
  }
 ],
 "metadata": {
  "kernelspec": {
   "display_name": "Python 3 (ipykernel)",
   "language": "python",
   "name": "python3"
  },
  "language_info": {
   "codemirror_mode": {
    "name": "ipython",
    "version": 3
   },
   "file_extension": ".py",
   "mimetype": "text/x-python",
   "name": "python",
   "nbconvert_exporter": "python",
   "pygments_lexer": "ipython3",
   "version": "3.9.13"
  }
 },
 "nbformat": 4,
 "nbformat_minor": 5
}
