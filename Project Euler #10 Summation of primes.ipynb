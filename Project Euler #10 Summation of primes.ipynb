{
 "cells": [
  {
   "cell_type": "markdown",
   "metadata": {},
   "source": [
    "## The sum of the primes below $10$ is $2 + 3 + 5 + 7 = 17$.\n",
    "\n",
    "## Find the sum of all the primes below two million."
   ]
  },
  {
   "cell_type": "markdown",
   "metadata": {},
   "source": [
    "**Solution(s):** \n",
    "\n",
    "Define a function *primesLessThan* will take in some threshold $n$ and will generate a table of primes less than $n$ using the [Sieve of Eratosthenes](https://en.wikipedia.org/wiki/Sieve_of_Eratosthenes)\n",
    "\n",
    "Once we have this function, we simply call it on $n = 2*10^6$ and take the sum of that table."
   ]
  },
  {
   "cell_type": "code",
   "execution_count": null,
   "metadata": {},
   "outputs": [],
   "source": [
    "from math import ceil"
   ]
  },
  {
   "cell_type": "code",
   "execution_count": null,
   "metadata": {},
   "outputs": [],
   "source": [
    "def primesLessThan(n):\n",
    "    primes = [[2,1]]        #the second component is positive iff the first component is a prime.\n",
    "    bgstPrime = primes[-1][0] #biggest prime in our list\n",
    "    while bgstPrime < n:\n",
    "        cands = [[i,1] for i in range(bgstPrime**2)] #generate a list of candidates\n",
    "        for pr in primes:\n",
    "            p = pr[0]\n",
    "            for k in range(ceil(bgstPrime**2/p)):\n",
    "                cands[k*p][1] -= 1 #this is crossing off the multiples of our previous primes\n",
    "        cands[1][1] -= 1    #eliminate 1 from consideration as a prime\n",
    "        newPrimes = [m for m in cands if m[1] > 0]\n",
    "        primes.extend(newPrimes)\n",
    "        bgstPrime = primes[-1][0]\n",
    "    return [m[0] for m in primes if m[0] <= n]\n",
    "\n",
    "primesLessThan(50)"
   ]
  },
  {
   "cell_type": "code",
   "execution_count": null,
   "metadata": {},
   "outputs": [],
   "source": [
    "numbs = primesLessThan(2*10**6)\n",
    "sum(numbs)"
   ]
  }
 ],
 "metadata": {
  "kernelspec": {
   "display_name": "Python 3",
   "language": "python",
   "name": "python3"
  },
  "language_info": {
   "codemirror_mode": {
    "name": "ipython",
    "version": 3
   },
   "file_extension": ".py",
   "mimetype": "text/x-python",
   "name": "python",
   "nbconvert_exporter": "python",
   "pygments_lexer": "ipython3",
   "version": "3.8.5"
  }
 },
 "nbformat": 4,
 "nbformat_minor": 4
}
