{
 "cells": [
  {
   "cell_type": "markdown",
   "id": "17f372f0",
   "metadata": {},
   "source": [
    "## If $p$ is the perimeter of a right angle triangle with integral length sides, $\\{a,b,c\\}$, there are exactly three solutions for $p = 120$.\n",
    "\n",
    "$\\{20,48,52\\}, \\{24,45,51\\}, \\{30,40,50\\}$\n",
    "\n",
    "## For which value of $p ≤ 1000$, is the number of solutions maximised?"
   ]
  },
  {
   "cell_type": "markdown",
   "id": "00f29661",
   "metadata": {},
   "source": [
    "**Solution(s):**\n",
    "\n",
    "We use [Euclid's formula](https://en.wikipedia.org/wiki/Pythagorean_triple#Generating_a_triple) to generate our triples and keep track of those with perimeter $\\leq 1000$. "
   ]
  },
  {
   "cell_type": "code",
   "execution_count": null,
   "id": "b75502b1",
   "metadata": {},
   "outputs": [],
   "source": [
    "import math\n",
    "counts = [[i,0] for i in range(1,1001)]\n",
    "for m in range(1,32):         # we only have to check up to this value since the hypotenuse will be >= m^2\n",
    "    for n in range(1,m):\n",
    "        if math.gcd(m,n) == 1 and ((m%2) + (n%2) == 1):     # add this condition to make sure we're not double counting\n",
    "            a = m**2 - n**2\n",
    "            b = 2*m*n\n",
    "            c = m**2 + n**2\n",
    "            perim = a + b + c\n",
    "            i = 1\n",
    "            multPerim = i*perim\n",
    "            while multPerim <= 1000:\n",
    "                counts[multPerim-1][1] += 1\n",
    "                i += 1\n",
    "                multPerim = i*perim\n",
    "\n",
    "sorted_by_second = sorted(counts, key=lambda item: item[1], reverse = True)\n",
    "\n",
    "sorted_by_second[0]"
   ]
  }
 ],
 "metadata": {
  "kernelspec": {
   "display_name": "Python 3 (ipykernel)",
   "language": "python",
   "name": "python3"
  },
  "language_info": {
   "codemirror_mode": {
    "name": "ipython",
    "version": 3
   },
   "file_extension": ".py",
   "mimetype": "text/x-python",
   "name": "python",
   "nbconvert_exporter": "python",
   "pygments_lexer": "ipython3",
   "version": "3.10.6"
  }
 },
 "nbformat": 4,
 "nbformat_minor": 5
}
