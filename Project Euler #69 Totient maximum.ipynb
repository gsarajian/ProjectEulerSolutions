{
 "cells": [
  {
   "cell_type": "markdown",
   "id": "8b1c21b9",
   "metadata": {},
   "source": [
    "<p>Euler's Totient function, φ(<i>n</i>) [sometimes called the phi function], is used to determine the number of numbers less than <i>n</i> which are relatively prime to <i>n</i>. For example, as 1, 2, 4, 5, 7, and 8, are all less than nine and relatively prime to nine, φ(9)=6.</p>\n",
    "<div class=\"center\">\n",
    "<table class=\"grid center\"><tr><td><b><i>n</i></b></td>\n",
    "<td><b>Relatively Prime</b></td>\n",
    "<td><b>φ(<i>n</i>)</b></td>\n",
    "<td><b><i>n</i>/φ(<i>n</i>)</b></td>\n",
    "</tr><tr><td>2</td>\n",
    "<td>1</td>\n",
    "<td>1</td>\n",
    "<td>2</td>\n",
    "</tr><tr><td>3</td>\n",
    "<td>1,2</td>\n",
    "<td>2</td>\n",
    "<td>1.5</td>\n",
    "</tr><tr><td>4</td>\n",
    "<td>1,3</td>\n",
    "<td>2</td>\n",
    "<td>2</td>\n",
    "</tr><tr><td>5</td>\n",
    "<td>1,2,3,4</td>\n",
    "<td>4</td>\n",
    "<td>1.25</td>\n",
    "</tr><tr><td>6</td>\n",
    "<td>1,5</td>\n",
    "<td>2</td>\n",
    "<td>3</td>\n",
    "</tr><tr><td>7</td>\n",
    "<td>1,2,3,4,5,6</td>\n",
    "<td>6</td>\n",
    "<td>1.1666...</td>\n",
    "</tr><tr><td>8</td>\n",
    "<td>1,3,5,7</td>\n",
    "<td>4</td>\n",
    "<td>2</td>\n",
    "</tr><tr><td>9</td>\n",
    "<td>1,2,4,5,7,8</td>\n",
    "<td>6</td>\n",
    "<td>1.5</td>\n",
    "</tr><tr><td>10</td>\n",
    "<td>1,3,7,9</td>\n",
    "<td>4</td>\n",
    "<td>2.5</td>\n",
    "</tr></table></div>\n",
    "<p>It can be seen that <i>n</i>=6 produces a maximum <i>n</i>/φ(<i>n</i>) for <i>n</i> ≤ 10.</p>\n",
    "<p>Find the value of <i>n</i> ≤ 1,000,000 for which <i>n</i>/φ(<i>n</i>) is a maximum.</p>"
   ]
  },
  {
   "cell_type": "markdown",
   "id": "12e38f12",
   "metadata": {},
   "source": [
    "**Solution(s):**\n",
    "Note that $\\phi(n) = n \\prod_{p|n} (1-1/p)$, so for the ratio of $n/\\phi(n)$ to be maximized, we want the product over the primes to be as small as possible. Each factor in the the product of primes is less than one, so the more primes involved the better. The solution is the largest primorial less than a million."
   ]
  }
 ],
 "metadata": {
  "kernelspec": {
   "display_name": "Python 3 (ipykernel)",
   "language": "python",
   "name": "python3"
  },
  "language_info": {
   "codemirror_mode": {
    "name": "ipython",
    "version": 3
   },
   "file_extension": ".py",
   "mimetype": "text/x-python",
   "name": "python",
   "nbconvert_exporter": "python",
   "pygments_lexer": "ipython3",
   "version": "3.9.13"
  }
 },
 "nbformat": 4,
 "nbformat_minor": 5
}
