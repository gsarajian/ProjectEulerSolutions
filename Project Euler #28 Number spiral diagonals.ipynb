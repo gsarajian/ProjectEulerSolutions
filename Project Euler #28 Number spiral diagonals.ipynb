{
 "cells": [
  {
   "cell_type": "markdown",
   "id": "17f372f0",
   "metadata": {},
   "source": [
    "## Starting with the number 1 and moving to the right in a clockwise direction a 5 by 5 spiral is formed as follows:\n",
    "\n",
    "$$ 21\\; 22 \\; 23 \\; 24 \\;25$$\n",
    "$$ 20\\;  7 \\; 8\\;  9 \\;10$$\n",
    "$$ 19\\;  6\\;  1 \\; 2 \\;11$$\n",
    "$$ 18\\; 5 \\; 4 \\; 3 \\;12$$\n",
    "$$ 17\\; 16\\; 15\\; 14 \\;13$$\n",
    "\n",
    "## It can be verified that the sum of the numbers on the diagonals is 101.\n",
    "\n",
    "## What is the sum of the numbers on the diagonals in a 1001 by 1001 spiral formed in the same way?"
   ]
  },
  {
   "cell_type": "markdown",
   "id": "00f29661",
   "metadata": {},
   "source": [
    "**Solution(s):**\n",
    "\n",
    "Math: By going ring by ring and letting the central ring (with just one entry, $1$) be the $n = 0$th ring, we see that the top right entry of the $n$th ring is $m = (2n+1)^2$. The top left entry is $2n$ less than $m$, the bottom left entry is $4n$ less than $m$, and the bottom right entry is $6n$ less than $m$. So our sum is\n",
    "\n",
    "$$1 + \\sum_{n = 1}^{500} (2n+1)^2 + (2n+1)^2 - 2n + (2n+1)^2 - 4n + (2n+1)^2 - 6n$$\n",
    "$$ = 1 + \\sum_{n = 1}^{500} 4(2n+1)^2 - 12n$$\n",
    "$$ = 1 + \\sum_{n = 1}^{500} 16n^2  + 4n + 4$$\n",
    "$$ = 1 + 16\\frac{500 * 501 * (2*500 + 1))}{6} + 4 \\frac{500*501}{2} + 4*500$$"
   ]
  },
  {
   "cell_type": "code",
   "execution_count": null,
   "id": "e5c82206",
   "metadata": {},
   "outputs": [],
   "source": [
    "1 + 16*500 * 501 * (2*500 + 1)/6 + 4*500*501/2 + 4*500"
   ]
  }
 ],
 "metadata": {
  "kernelspec": {
   "display_name": "Python 3 (ipykernel)",
   "language": "python",
   "name": "python3"
  },
  "language_info": {
   "codemirror_mode": {
    "name": "ipython",
    "version": 3
   },
   "file_extension": ".py",
   "mimetype": "text/x-python",
   "name": "python",
   "nbconvert_exporter": "python",
   "pygments_lexer": "ipython3",
   "version": "3.10.6"
  }
 },
 "nbformat": 4,
 "nbformat_minor": 5
}
