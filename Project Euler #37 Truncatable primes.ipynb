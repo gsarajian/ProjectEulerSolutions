{
 "cells": [
  {
   "cell_type": "markdown",
   "metadata": {},
   "source": [
    "## The number 3797 has an interesting property. Being prime itself, it is possible to continuously remove digits from left to right, and remain prime at each stage: 3797, 797, 97, and 7. Similarly we can work from right to left: 3797, 379, 37, and 3.\n",
    "\n",
    "## Find the sum of the only eleven primes that are both truncatable from left to right and right to left.\n",
    "\n",
    "## NOTE: 2, 3, 5, and 7 are not considered to be truncatable primes."
   ]
  },
  {
   "cell_type": "markdown",
   "metadata": {},
   "source": [
    "**Solution(s):** \n",
    "\n",
    "Since we're told that there are only 11 such primes, we can likely run a brute-force while loop that terminates when all are found.\n",
    "\n",
    "We can likely narrow our search to those with certain digits in certain places (e.g. starts with a 3, 5, or 7 and ends in a 3 or 7), but it's not necessary for this problem. \n"
   ]
  },
  {
   "cell_type": "code",
   "execution_count": null,
   "metadata": {},
   "outputs": [],
   "source": [
    "from math import ceil"
   ]
  },
  {
   "cell_type": "code",
   "execution_count": null,
   "metadata": {},
   "outputs": [],
   "source": [
    "def primesLessThan(n):\n",
    "    primes = [[2,1]]        #the second component is positive iff the first component is a prime.\n",
    "    bgstPrime = primes[-1][0] #biggest prime in our list\n",
    "    while bgstPrime < n:\n",
    "        cands = [[i,1] for i in range(bgstPrime**2)] #generate a list of candidates\n",
    "        for pr in primes:\n",
    "            p = pr[0]\n",
    "            for k in range(ceil(bgstPrime**2/p)):\n",
    "                cands[k*p][1] -= 1 #this is crossing off the multiples of our previous primes\n",
    "        cands[1][1] -= 1    #eliminate 1 from consideration as a prime\n",
    "        newPrimes = [m for m in cands if m[1] > 0]\n",
    "        primes.extend(newPrimes)\n",
    "        bgstPrime = primes[-1][0]\n",
    "    return [m[0] for m in primes if m[0] <= n]"
   ]
  },
  {
   "cell_type": "code",
   "execution_count": null,
   "metadata": {},
   "outputs": [],
   "source": [
    "primes = primesLessThan(1000000)\n",
    "doubleDigPrimes = primes[4:]\n",
    "truncs = []          # will be our list of truncatable primes\n",
    "lookup = set(primes)  # hash map for faster lookup\n",
    "i = 0\n",
    "while len(truncs) < 11 and i < len(doubleDigPrimes):\n",
    "    cand = doubleDigPrimes[i]      # the candidate we'll be testing\n",
    "    s = str(cand)                  # convert to a string\n",
    "    stillPrime = True\n",
    "    for j in range(len(s)-1):\n",
    "        if int(s[j+1:]) not in lookup or int(s[:-j-1]) not in lookup:    # check if its truncation is prime\n",
    "            stillPrime = False\n",
    "    if stillPrime:\n",
    "        truncs.append(cand)\n",
    "    i += 1"
   ]
  },
  {
   "cell_type": "code",
   "execution_count": null,
   "metadata": {},
   "outputs": [],
   "source": [
    "sum(truncs)"
   ]
  }
 ],
 "metadata": {
  "kernelspec": {
   "display_name": "Python 3",
   "language": "python",
   "name": "python3"
  },
  "language_info": {
   "codemirror_mode": {
    "name": "ipython",
    "version": 3
   },
   "file_extension": ".py",
   "mimetype": "text/x-python",
   "name": "python",
   "nbconvert_exporter": "python",
   "pygments_lexer": "ipython3",
   "version": "3.8.5"
  }
 },
 "nbformat": 4,
 "nbformat_minor": 4
}
