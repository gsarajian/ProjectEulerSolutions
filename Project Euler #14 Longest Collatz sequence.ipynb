{
 "cells": [
  {
   "cell_type": "markdown",
   "metadata": {},
   "source": [
    "## The following iterative sequence is defined for the set of positive integers:\n",
    "\n",
    "## $n → n/2$ ($n$ is even)\n",
    "## $n → 3n + 1$ ($n$ is odd)\n",
    "\n",
    "## Using the rule above and starting with 13, we generate the following sequence:\n",
    "\n",
    "$$13 → 40 → 20 → 10 → 5 → 16 → 8 → 4 → 2 → 1$$\n",
    "## It can be seen that this sequence (starting at 13 and finishing at 1) contains 10 terms. Although it has not been proved yet (Collatz Problem), it is thought that all starting numbers finish at 1.\n",
    "\n",
    "## Which starting number, under one million, produces the longest chain?\n",
    "\n",
    "## NOTE: Once the chain starts the terms are allowed to go above one million."
   ]
  },
  {
   "cell_type": "markdown",
   "metadata": {},
   "source": [
    "**Solution(s):** \n",
    "\n",
    "We start by defining a function that sends a number to the next number in its chain. We could naively keep calling it on the first million numbers until they hit 1 and count the length of the chain, but it's wiser to use dynamic programming to avoid repeat calculations. So our loop will run over i in range(1, 10\\*\\*6) and store an array of length i and if the function outputs something in \\[1, i-1\\], we stop computing for that n and look up the value of the rest of the chain from our array.\n",
    "\n",
    "We could recursively define a function that calculates the whole chain length, but this is inefficient."
   ]
  },
  {
   "cell_type": "code",
   "execution_count": null,
   "metadata": {},
   "outputs": [],
   "source": [
    "def collatzChainLength(n):\n",
    "    # a function that recursively takes in some integer and spits out the length of its Collatz chain.\n",
    "    if n == 1:\n",
    "        return 1\n",
    "    elif n %2 == 1:\n",
    "        return 1 + collatzChainLength(3*n + 1)\n",
    "    else:\n",
    "        return 1 + collatzChainLength(n/2)"
   ]
  },
  {
   "cell_type": "code",
   "execution_count": null,
   "metadata": {},
   "outputs": [],
   "source": [
    "# Naive solution, finishes in ~ 1 minute, but ineffiecient\n",
    "mx = 1\n",
    "for i in range(1,1000000):\n",
    "    l = collatzChainLength(i)\n",
    "    if l >= mx:\n",
    "        mx = max(mx, l)\n",
    "        print(i)"
   ]
  },
  {
   "cell_type": "code",
   "execution_count": null,
   "metadata": {},
   "outputs": [],
   "source": [
    "def collatzNext(n):\n",
    "    # a function that takes in some integer and spits out next integer in its Collatz chain.\n",
    "    if n % 2 == 1:\n",
    "        return 3*n + 1\n",
    "    else:\n",
    "        return n//2"
   ]
  },
  {
   "cell_type": "code",
   "execution_count": null,
   "metadata": {},
   "outputs": [],
   "source": [
    "# More efficient solution, finishes in seconds. \n",
    "# We know that collatzLength(i) =/= i because otherwise we'd have a counterexample to the conjecture\n",
    "seen = {1:0}\n",
    "for i in range(2,10**6):\n",
    "    l = i\n",
    "    cnt = 1                 # counts how many steps we've taken\n",
    "    while l != 1:\n",
    "        l = collatzNext(l)\n",
    "        if l < i:           # check if we're in a part of the chain that dipped before i\n",
    "            seen[i] = seen[l] + cnt \n",
    "            l = 1\n",
    "        cnt += 1            # if we haven't seen it we need to continue"
   ]
  },
  {
   "cell_type": "code",
   "execution_count": null,
   "metadata": {},
   "outputs": [],
   "source": [
    "mx = max(list(seen.values()))\n",
    "list(seen.values()).index(mx) + 1       # add one because indexing starts at 0."
   ]
  },
  {
   "cell_type": "markdown",
   "metadata": {},
   "source": [
    "## This could be sped up in a few ways. One that I see are:\n",
    "## -When our chain goes above $i$, we could keep track of the length of the chain for all of those values and put them in our dp array"
   ]
  }
 ],
 "metadata": {
  "kernelspec": {
   "display_name": "Python 3",
   "language": "python",
   "name": "python3"
  },
  "language_info": {
   "codemirror_mode": {
    "name": "ipython",
    "version": 3
   },
   "file_extension": ".py",
   "mimetype": "text/x-python",
   "name": "python",
   "nbconvert_exporter": "python",
   "pygments_lexer": "ipython3",
   "version": "3.8.5"
  }
 },
 "nbformat": 4,
 "nbformat_minor": 4
}
