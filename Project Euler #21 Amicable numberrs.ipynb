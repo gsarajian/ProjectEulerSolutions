{
 "cells": [
  {
   "cell_type": "markdown",
   "metadata": {},
   "source": [
    "## Let $d(n)$ be defined as the sum of proper divisors of $n$ (numbers less than $n$ which divide evenly into $n$).\n",
    "## If $d(a) = b$ and $d(b) = a$, where $a \\neq b$, then $a$ and $b$ are an amicable pair and each of $a$ and $b$ are called amicable numbers.\n",
    "## For example, the proper divisors of 220 are 1, 2, 4, 5, 10, 11, 20, 22, 44, 55 and 110; therefore $d(220) = 284$. The proper divisors of 284 are 1, 2, 4, 71 and 142; so $d(284) = 220$.\n",
    "## Evaluate the sum of all the amicable numbers under 10000."
   ]
  },
  {
   "cell_type": "markdown",
   "metadata": {},
   "source": [
    "**Solution(s):** \n",
    "\n",
    "We use a function, divisorGenerator, to create a list of divisors of $n$. Then we compute $d(n)$ for $n \\in [1, 10^5]$. Finally, we do a nested for loop checking when $d(i) = j$ and $d(j) = i$ for $1 \\leq j < i \\leq 10000$."
   ]
  },
  {
   "cell_type": "code",
   "execution_count": null,
   "metadata": {},
   "outputs": [],
   "source": [
    "from math import sqrt\n",
    "def divisorGenerator(n):\n",
    "    # A function that generates a list of divisors of $n$. \n",
    "    small_divisors = []\n",
    "    large_divisors = []\n",
    "    for i in range(1, int(sqrt(n) + 1)):\n",
    "        if n % i == 0:\n",
    "            small_divisors.append(i)\n",
    "            if i*i != n:\n",
    "                large_divisors.append(int(n / i))\n",
    "    for divisor in reversed(large_divisors):\n",
    "        small_divisors.append(divisor)\n",
    "    return small_divisors"
   ]
  },
  {
   "cell_type": "code",
   "execution_count": null,
   "metadata": {},
   "outputs": [],
   "source": [
    "# create the list of $d(n), paired with n$\n",
    "sms = [[i, sum(divisorGenerator(i))-i] for i in range(1,10001)]"
   ]
  },
  {
   "cell_type": "code",
   "execution_count": null,
   "metadata": {},
   "outputs": [],
   "source": [
    "# run through all pairs to find amicable ones\n",
    "amis = []\n",
    "for i in range(1,10000):\n",
    "    for j in range(1,i):\n",
    "        if sms[i-1][1] == sms[j-1][0] and sms[i-1][0] == sms[j-1][1]:\n",
    "            amis.append([sms[i-1], sms[j-1]])\n",
    "amis"
   ]
  },
  {
   "cell_type": "code",
   "execution_count": null,
   "metadata": {},
   "outputs": [],
   "source": [
    "# take the sum of the pairs\n",
    "sm = 0\n",
    "for pair in amis:\n",
    "    sm += pair[0][0] + pair[0][1]\n",
    "print(sm)"
   ]
  }
 ],
 "metadata": {
  "kernelspec": {
   "display_name": "Python 3",
   "language": "python",
   "name": "python3"
  },
  "language_info": {
   "codemirror_mode": {
    "name": "ipython",
    "version": 3
   },
   "file_extension": ".py",
   "mimetype": "text/x-python",
   "name": "python",
   "nbconvert_exporter": "python",
   "pygments_lexer": "ipython3",
   "version": "3.8.5"
  }
 },
 "nbformat": 4,
 "nbformat_minor": 4
}
