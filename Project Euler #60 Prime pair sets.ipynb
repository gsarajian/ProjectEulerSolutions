{
 "cells": [
  {
   "cell_type": "markdown",
   "id": "8b1c21b9",
   "metadata": {},
   "source": [
    "## By replacing the 1st digit of the 2-digit number *3, it turns out that six of the nine possible values: 13, 23, 43, 53, 73, and 83, are all prime.\n",
    "\n",
    "## By replacing the 3rd and 4th digits of 56**3 with the same digit, this 5-digit number is the first example having seven primes among the ten generated numbers, yielding the family: 56003, 56113, 56333, 56443, 56663, 56773, and 56993. Consequently 56003, being the first member of this family, is the smallest prime with this property.\n",
    "\n",
    "## Find the smallest prime which, by replacing part of the number (not necessarily adjacent digits) with the same digit, is part of an eight prime value family."
   ]
  },
  {
   "cell_type": "markdown",
   "id": "12e38f12",
   "metadata": {},
   "source": [
    "**Solution(s):**\n",
    "We start by generating an array of all primes less than a billion. We then create a graph where the vertices are the primes and two primes $p$ and $q$ have an edge between them if their concatenations $pq$ and $qp$ are primes. Once this graph is set up, we search for a clique (complete subgraph) of size 5 or larger."
   ]
  },
  {
   "cell_type": "code",
   "execution_count": null,
   "id": "feda79c5",
   "metadata": {},
   "outputs": [],
   "source": [
    "from math import ceil, sqrt, floor\n",
    "import numpy as np\n",
    "import networkx as nx"
   ]
  },
  {
   "cell_type": "code",
   "execution_count": null,
   "id": "82c72aa8",
   "metadata": {},
   "outputs": [],
   "source": [
    "def primesLessThan(n):\n",
    "    # A function that returns an array of all the primes less than or equal to n\n",
    "    primes = [2]        # the second component is positive iff the first component is a prime.\n",
    "    cands = [1 for i in range(n+1)]\n",
    "    bgstPrime = primes[-1] # biggest prime in our list\n",
    "    i = 2\n",
    "    while bgstPrime <= sqrt(n):\n",
    "        pr = i\n",
    "        for k in range(ceil((n+1)/pr)):\n",
    "            cands[k*pr] -= 1 # this is crossing off the multiples of our previous primes\n",
    "        i += 1\n",
    "        while cands[i] <= 0:\n",
    "            i += 1\n",
    "        primes.append(i)\n",
    "        bgstPrime = i\n",
    "    primes.extend([a for a in range(i+1,n+1) if cands[a]>0])\n",
    "    return [m for m in primes if m <= n]"
   ]
  },
  {
   "cell_type": "code",
   "execution_count": null,
   "id": "dcd332ae",
   "metadata": {
    "scrolled": true
   },
   "outputs": [],
   "source": [
    "primes = primesLessThan(10**9)                   # generate a list of primes up to 10^6\n",
    "hsh = set(primes)                                # use a hash map for quicker primality checking"
   ]
  },
  {
   "cell_type": "code",
   "execution_count": null,
   "id": "5e0b7c8e",
   "metadata": {},
   "outputs": [],
   "source": [
    "smallPrimes = primesLessThan(10**4)              # generate a list of primes up to 10^4 instead of dealing with a huge graph"
   ]
  },
  {
   "cell_type": "code",
   "execution_count": null,
   "id": "5c6abc02",
   "metadata": {},
   "outputs": [],
   "source": [
    "edges = [[a,b] for a in smallPrimes for b in smallPrimes if (int(str(a)+str(b)) in hsh and int(str(b)+str(a)) in hsh)]"
   ]
  },
  {
   "cell_type": "code",
   "execution_count": null,
   "id": "aa7900b1",
   "metadata": {},
   "outputs": [],
   "source": [
    "G=nx.Graph()\n",
    "G.add_nodes_from(smallPrimes)\n",
    "G.add_edges_from(edges)"
   ]
  },
  {
   "cell_type": "code",
   "execution_count": null,
   "id": "6e34d6e7",
   "metadata": {},
   "outputs": [],
   "source": [
    "print([a for a in list(nx.find_cliques(G)) if len(a) > 4])"
   ]
  }
 ],
 "metadata": {
  "kernelspec": {
   "display_name": "Python 3 (ipykernel)",
   "language": "python",
   "name": "python3"
  },
  "language_info": {
   "codemirror_mode": {
    "name": "ipython",
    "version": 3
   },
   "file_extension": ".py",
   "mimetype": "text/x-python",
   "name": "python",
   "nbconvert_exporter": "python",
   "pygments_lexer": "ipython3",
   "version": "3.9.13"
  }
 },
 "nbformat": 4,
 "nbformat_minor": 5
}
