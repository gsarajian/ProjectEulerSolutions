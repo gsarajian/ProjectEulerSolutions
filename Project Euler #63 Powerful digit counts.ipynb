{
 "cells": [
  {
   "cell_type": "markdown",
   "id": "8b1c21b9",
   "metadata": {},
   "source": [
    "## The 5-digit number, $16807=7^5$, is also a fifth power. Similarly, the 9-digit number, $134217728=8^9$, is a ninth power.\n",
    "\n",
    "## How many $n$-digit positive integers exist which are also an $n$th power?"
   ]
  },
  {
   "cell_type": "markdown",
   "id": "12e38f12",
   "metadata": {},
   "source": [
    "**Solution(s):**\n",
    "We loop through the powers, counting the length of the strings. If the power is greater than the number of digits, we increase the number of digits."
   ]
  },
  {
   "cell_type": "code",
   "execution_count": null,
   "id": "96da4222",
   "metadata": {},
   "outputs": [],
   "source": [
    "power = 1                               # The power that we're looking at\n",
    "cur = 1                                 # The number that we're raising to the power\n",
    "num = 1                                 # num**power\n",
    "count = 0                               # keeps track of how many such integers there are\n",
    "while power <= 30:\n",
    "    print(cur, power, num, count)\n",
    "    digs = len(str(num))                # Find the number of digits of the power\n",
    "    if digs == power:                   \n",
    "        print(\"We got a winner!\")\n",
    "        count += 1\n",
    "        cur += 1\n",
    "    elif digs > power:\n",
    "        power += 1\n",
    "        cur = 1\n",
    "    else:\n",
    "        cur += 1\n",
    "    num = cur**power    "
   ]
  }
 ],
 "metadata": {
  "kernelspec": {
   "display_name": "Python 3 (ipykernel)",
   "language": "python",
   "name": "python3"
  },
  "language_info": {
   "codemirror_mode": {
    "name": "ipython",
    "version": 3
   },
   "file_extension": ".py",
   "mimetype": "text/x-python",
   "name": "python",
   "nbconvert_exporter": "python",
   "pygments_lexer": "ipython3",
   "version": "3.9.13"
  }
 },
 "nbformat": 4,
 "nbformat_minor": 5
}
