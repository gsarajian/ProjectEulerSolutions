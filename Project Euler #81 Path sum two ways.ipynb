{
 "cells": [
  {
   "cell_type": "markdown",
   "id": "dcd317c0",
   "metadata": {},
   "source": [
    "<p>In the 5 by 5 matrix below, the minimal path sum from the top left to the bottom right, by <b>only moving to the right and down</b>, is indicated in bold red and is equal to 2427.</p>\n",
    "<div class=\"center\">\n",
    "$$\n",
    "\\begin{pmatrix}\n",
    "\\color{red}{131} & 673 & 234 & 103 & 18\\\\\n",
    "\\color{red}{201} & \\color{red}{96} & \\color{red}{342} & 965 & 150\\\\\n",
    "630 & 803 & \\color{red}{746} & \\color{red}{422} & 111\\\\\n",
    "537 & 699 & 497 & \\color{red}{121} & 956\\\\\n",
    "805 & 732 & 524 & \\color{red}{37} & \\color{red}{331}\n",
    "\\end{pmatrix}\n",
    "$$\n",
    "</div>\n",
    "<p>Find the minimal path sum from the top left to the bottom right by only moving right and down in <a href=\"project/resources/p081_matrix.txt\">matrix.txt</a> (right click and \"Save Link/Target As...\"), a 31K text file containing an 80 by 80 matrix.</p>"
   ]
  },
  {
   "cell_type": "markdown",
   "id": "2d3dcb47",
   "metadata": {},
   "source": [
    "We solve using the [Viterbi algorithm](https://en.wikipedia.org/wiki/Viterbi_algorithm). We convert the txt document into a matrix whose entries are the numbers in the file and the maximum of a path going from the top to that node. When finished, we take the maximum of the last row."
   ]
  },
  {
   "cell_type": "code",
   "execution_count": null,
   "id": "ad2b2010",
   "metadata": {},
   "outputs": [],
   "source": [
    "matrix = open(\"p081_matrix.txt\", \"r\")\n",
    "dp = [[[0,0] for i in range(80)] for j in range(80)]             # matrix that we'll populate\n",
    "\n",
    "# go through the file line by line and put the numbers into dp\n",
    "for i in range(80):\n",
    "    line = matrix.readline()\n",
    "    \n",
    "    # The for loop enters the first 79 entries of the row, then we'll handle the 80th\n",
    "    for j in range(79):\n",
    "        cut = line.index(',')\n",
    "        num = int(line[:cut])\n",
    "        dp[i][j][0] = num\n",
    "        line = line[cut+1:]\n",
    "        \n",
    "    # Deal with the 80th entry\n",
    "    dp[i][-1][0] = int(line)"
   ]
  },
  {
   "cell_type": "code",
   "execution_count": null,
   "id": "27d3dda4",
   "metadata": {},
   "outputs": [],
   "source": [
    "dp[0][0][1] = dp[0][0][0]        # Initialize the first entry\n",
    "\n",
    "# The following loop handles the entries for the first column and first row, where there's only one path through the entries\n",
    "for i in range(1,80):\n",
    "    dp[0][i][1] = dp[0][i-1][1] + dp[0][i][0]\n",
    "    dp[i][0][1] = dp[i-1][0][1] + dp[i][0][0]\n",
    "\n",
    "# Now fill in the rest of the values according to the minimum path\n",
    "for i in range(1,80):\n",
    "    for j in range(1,80):\n",
    "        dp[i][j][1] = min(dp[i-1][j][1], dp[i][j-1][1]) + dp[i][j][0]"
   ]
  },
  {
   "cell_type": "code",
   "execution_count": null,
   "id": "4987dcc0",
   "metadata": {},
   "outputs": [],
   "source": [
    "dp[-1][-1][1]"
   ]
  }
 ],
 "metadata": {
  "kernelspec": {
   "display_name": "Python 3 (ipykernel)",
   "language": "python",
   "name": "python3"
  },
  "language_info": {
   "codemirror_mode": {
    "name": "ipython",
    "version": 3
   },
   "file_extension": ".py",
   "mimetype": "text/x-python",
   "name": "python",
   "nbconvert_exporter": "python",
   "pygments_lexer": "ipython3",
   "version": "3.9.13"
  }
 },
 "nbformat": 4,
 "nbformat_minor": 5
}
