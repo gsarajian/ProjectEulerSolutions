{
 "cells": [
  {
   "cell_type": "markdown",
   "id": "8b1c21b9",
   "metadata": {},
   "source": [
    "<p>For a number written in Roman numerals to be considered valid there are basic rules which must be followed. Even though the rules allow some numbers to be expressed in more than one way there is always a \"best\" way of writing a particular number.</p>\n",
    "<p>For example, it would appear that there are at least six ways of writing the number sixteen:</p>\n",
    "<p class=\"margin_left monospace\">IIIIIIIIIIIIIIII<br />\n",
    "VIIIIIIIIIII<br />\n",
    "VVIIIIII<br />\n",
    "XIIIIII<br />\n",
    "VVVI<br />\n",
    "XVI</p>\n",
    "<p>However, according to the rules only <span class=\"monospace\">XIIIIII</span> and <span class=\"monospace\">XVI</span> are valid, and the last example is considered to be the most efficient, as it uses the least number of numerals.</p>\n",
    "<p>The 11K text file, <a href=\"https://projecteuler.net/project/resources/p089_roman.txt\">roman.txt</a> (right click and 'Save Link/Target As...'), contains one thousand numbers written in valid, but not necessarily minimal, Roman numerals; see <a href=\"https://projecteuler.net/about=roman_numerals\">About... Roman Numerals</a> for the definitive rules for this problem.</p>\n",
    "<p>Find the number of characters saved by writing each of these in their minimal form.</p>\n",
    "<p class=\"smaller\">Note: You can assume that all the Roman numerals in the file contain no more than four consecutive identical units.</p>\n"
   ]
  },
  {
   "cell_type": "markdown",
   "id": "12e38f12",
   "metadata": {},
   "source": [
    "**Solution(s):**\n",
    "We parse through the text document, converting each line into a string that contains the Roman numeral. We then use two functions to help us convert the numeral into a decimal, then back to an efficient numeral. These functions are defined using a hierarchy of if-else statements. Once we have the list of efficient Roman numerals, we compare the sizes of the strings in the two lists and sum of the differences of the sizes."
   ]
  },
  {
   "cell_type": "code",
   "execution_count": null,
   "id": "6ea422a0",
   "metadata": {},
   "outputs": [],
   "source": [
    "def convertToDecimal(s):\n",
    "    \"\"\"\n",
    "    Takes in a string of a Roman numeral \n",
    "    and returns the integer represented by the numeral\n",
    "    \"\"\"\n",
    "    tot = 0\n",
    "    ind = 0\n",
    "    l = len(s)\n",
    "    while ind < l:\n",
    "        let = s[ind]\n",
    "        if let == \"M\":\n",
    "            tot += 1000\n",
    "        elif let == \"D\":\n",
    "            tot += 500\n",
    "        elif let == \"C\":\n",
    "            if ind < l-1 and (s[ind+1] == \"M\" or s[ind+1] == \"D\"):\n",
    "                tot -= 100\n",
    "                #ind += 1\n",
    "            else:\n",
    "                tot += 100\n",
    "        elif let == \"L\":\n",
    "            tot += 50\n",
    "        elif let == \"X\":\n",
    "            if ind < l-1 and (s[ind+1] == \"L\" or s[ind+1] == \"C\"):\n",
    "                tot -= 10\n",
    "                #ind += 1\n",
    "            else:\n",
    "                tot += 10\n",
    "        elif let == \"V\":\n",
    "            tot += 5\n",
    "        elif let == \"I\":\n",
    "            if ind < l-1 and (s[ind+1] == \"V\" or s[ind+1] == \"X\"):\n",
    "                tot -= 1\n",
    "                #ind += 1\n",
    "            else:\n",
    "                tot += 1\n",
    "        else:\n",
    "            print(\"BAD LETTER!\", let)\n",
    "        ind += 1\n",
    "    return tot"
   ]
  },
  {
   "cell_type": "code",
   "execution_count": null,
   "id": "2aedfa59",
   "metadata": {},
   "outputs": [],
   "source": [
    "# Here we go through the list of numerals and save them as a list of strings.\n",
    "\n",
    "romans = open(\"p089_roman.txt\", \"r\")               # read the file\n",
    "numbers = []                                     # initialize a list to store the strings\n",
    "\n",
    "\n",
    "while True:\n",
    "     # Get next line from file\n",
    "    number = romans.readline()\n",
    "  \n",
    "    # if line is empty\n",
    "    # end of file is reached\n",
    "    if not number:\n",
    "        break\n",
    "    numbers.append(number[:-1])                 # We need to cut off the pagebreak characters\n",
    "romans.close()\n"
   ]
  },
  {
   "cell_type": "code",
   "execution_count": null,
   "id": "0d8f3827",
   "metadata": {},
   "outputs": [],
   "source": [
    "# The loop above cuts off the last character in the last line, so correct it\n",
    "numbers[-1]=\"XXXXVIIII\""
   ]
  },
  {
   "cell_type": "code",
   "execution_count": null,
   "id": "d37e3ce4",
   "metadata": {},
   "outputs": [],
   "source": [
    "decimals = [convertToDecimal(number) for number in numbers]"
   ]
  },
  {
   "cell_type": "code",
   "execution_count": null,
   "id": "66458123",
   "metadata": {},
   "outputs": [],
   "source": [
    "def convertToRomans(tot):\n",
    "    \"\"\"\n",
    "    Takes in a decimal and returns the most efficient way of writing\n",
    "    that decimal as a Roman numeral.\n",
    "    \"\"\"\n",
    "    rom = \"\"\n",
    "    while tot > 0:\n",
    "        if tot >= 1000:\n",
    "            rom += \"M\"\n",
    "            tot -= 1000\n",
    "        elif tot >= 900:\n",
    "            rom += \"CM\"\n",
    "            tot -= 900\n",
    "        elif tot >= 500:\n",
    "            rom += \"D\"\n",
    "            tot -= 500\n",
    "        elif tot >= 400:\n",
    "            rom += \"CD\"\n",
    "            tot -= 400\n",
    "        elif tot >= 100:\n",
    "            rom += \"C\"\n",
    "            tot -= 100\n",
    "        elif tot >= 90:\n",
    "            rom += \"XC\"\n",
    "            tot -= 90\n",
    "        elif tot >= 50:\n",
    "            tot -= 50\n",
    "            rom += \"L\"\n",
    "        elif tot >= 40:\n",
    "            tot -= 40\n",
    "            rom += \"XL\"\n",
    "        elif tot >= 10:\n",
    "            tot -= 10\n",
    "            rom += \"X\"\n",
    "        elif tot >= 9:\n",
    "            tot -= 9\n",
    "            rom += \"IX\"\n",
    "        elif tot >= 5:\n",
    "            tot -= 5\n",
    "            rom += \"V\"\n",
    "        elif tot >= 4:\n",
    "            tot -= 4\n",
    "            rom += \"IV\"\n",
    "        else:\n",
    "            tot -= 1\n",
    "            rom += \"I\"\n",
    "    return rom"
   ]
  },
  {
   "cell_type": "code",
   "execution_count": null,
   "id": "c557d25c",
   "metadata": {},
   "outputs": [],
   "source": [
    "# Create a list of efficient Roman numerals\n",
    "reconverts = [convertToRomans(n) for n in decimals]\n",
    "\n",
    "# This loop checks that the conversion doesn't change the value of the decimal.\n",
    "for i in range(len(numbers)):\n",
    "    # print(reconverts[i], numbers[i])\n",
    "    if convertToDecimal(reconverts[i]) != decimals[i]:\n",
    "        print(i, numbers[i], decimals[i], reconverts[i])"
   ]
  },
  {
   "cell_type": "code",
   "execution_count": null,
   "id": "a17d2783",
   "metadata": {},
   "outputs": [],
   "source": [
    "diff = 0                                                           # A count of the difference in string lengths.\n",
    "for i in range(len(numbers)):\n",
    "    diff += len(numbers[i])-len(reconverts[i])\n",
    "\n",
    "    # The next two lines show which numerals were converted.\n",
    "    # if reconverts[i] != numbers[i]:\n",
    "    #    print(i, reconverts[i], numbers[i], decimals[i], diff)\n",
    "diff"
   ]
  }
 ],
 "metadata": {
  "kernelspec": {
   "display_name": "Python 3 (ipykernel)",
   "language": "python",
   "name": "python3"
  },
  "language_info": {
   "codemirror_mode": {
    "name": "ipython",
    "version": 3
   },
   "file_extension": ".py",
   "mimetype": "text/x-python",
   "name": "python",
   "nbconvert_exporter": "python",
   "pygments_lexer": "ipython3",
   "version": "3.9.13"
  }
 },
 "nbformat": 4,
 "nbformat_minor": 5
}
