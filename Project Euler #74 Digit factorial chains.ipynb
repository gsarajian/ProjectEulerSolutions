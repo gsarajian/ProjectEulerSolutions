{
 "cells": [
  {
   "cell_type": "markdown",
   "id": "8b1c21b9",
   "metadata": {},
   "source": [
    "<p>The number 145 is well known for the property that the sum of the factorial of its digits is equal to 145:</p>\n",
    "<p class=\"margin_left\">1! + 4! + 5! = 1 + 24 + 120 = 145</p>\n",
    "<p>Perhaps less well known is 169, in that it produces the longest chain of numbers that link back to 169; it turns out that there are only three such loops that exist:</p>\n",
    "<p class=\"margin_left\">169 → 363601 → 1454 → 169<br />\n",
    "871 → 45361 → 871<br />\n",
    "872 → 45362 → 872</p>\n",
    "<p>It is not difficult to prove that EVERY starting number will eventually get stuck in a loop. For example,</p>\n",
    "<p class=\"margin_left\">69 → 363600 → 1454 → 169 → 363601 (→ 1454)<br />\n",
    "78 → 45360 → 871 → 45361 (→ 871)<br />\n",
    "540 → 145 (→ 145)</p>\n",
    "<p>Starting with 69 produces a chain of five non-repeating terms, but the longest non-repeating chain with a starting number below one million is sixty terms.</p>\n",
    "<p>How many chains, with a starting number below one million, contain exactly sixty non-repeating terms?</p>"
   ]
  },
  {
   "cell_type": "markdown",
   "id": "12e38f12",
   "metadata": {},
   "source": [
    "**Solution(s):**\n",
    "We take a brute force approach by looping through the first million integers $i$ and convert $i$ into a string, then a list of characters, then a list of factorials of integers, then take their sum. We repeat this process, keeping track of what numbers we've seen in the chain, then break once we've seen a repeated number. We then compare the length of the seen numbers to 60."
   ]
  },
  {
   "cell_type": "code",
   "execution_count": null,
   "id": "feda79c5",
   "metadata": {},
   "outputs": [],
   "source": [
    "import math"
   ]
  },
  {
   "cell_type": "code",
   "execution_count": null,
   "id": "04739e4c",
   "metadata": {},
   "outputs": [],
   "source": [
    "cnt = 0\n",
    "for i in range(1,10**6+1):\n",
    "    seen = []                                                     # A list to keep track of what numbers we've seen\n",
    "    cur = i\n",
    "    while cur not in seen:\n",
    "        seen.append(cur)\n",
    "        cur = sum([math.factorial(int(a)) for a in list(str(cur))])\n",
    "    cnt += (len(seen) == 60)\n",
    "cnt"
   ]
  }
 ],
 "metadata": {
  "kernelspec": {
   "display_name": "Python 3 (ipykernel)",
   "language": "python",
   "name": "python3"
  },
  "language_info": {
   "codemirror_mode": {
    "name": "ipython",
    "version": 3
   },
   "file_extension": ".py",
   "mimetype": "text/x-python",
   "name": "python",
   "nbconvert_exporter": "python",
   "pygments_lexer": "ipython3",
   "version": "3.9.13"
  }
 },
 "nbformat": 4,
 "nbformat_minor": 5
}
