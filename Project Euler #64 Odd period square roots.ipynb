{
 "cells": [
  {
   "cell_type": "markdown",
   "id": "3c8cd628",
   "metadata": {},
   "source": [
    "<p>All square roots are periodic when written as continued fractions and can be written in the form:</p>\n",
    "\n",
    "$\\displaystyle \\quad \\quad \\sqrt{N}=a_0+\\frac 1 {a_1+\\frac 1 {a_2+ \\frac 1 {a3+ \\dots}}}$\n",
    "\n",
    "<p>For example, let us consider $\\sqrt{23}:$</p>\n",
    "$\\quad \\quad \\sqrt{23}=4+\\sqrt{23}-4=4+\\frac 1 {\\frac 1 {\\sqrt{23}-4}}=4+\\frac 1  {1+\\frac{\\sqrt{23}-3}7}$\n",
    "\n",
    "<p>If we continue we would get the following expansion:</p>\n",
    "\n",
    "$\\displaystyle \\quad \\quad \\sqrt{23}=4+\\frac 1 {1+\\frac 1 {3+ \\frac 1 {1+\\frac 1 {8+ \\dots}}}}$\n",
    "\n",
    "<p>The process can be summarised as follows:</p>\n",
    "<p>\n",
    "$\\quad \\quad a_0=4, \\frac 1 {\\sqrt{23}-4}=\\frac {\\sqrt{23}+4} 7=1+\\frac {\\sqrt{23}-3} 7$<br />\n",
    "$\\quad \\quad a_1=1, \\frac 7 {\\sqrt{23}-3}=\\frac {7(\\sqrt{23}+3)} {14}=3+\\frac {\\sqrt{23}-3} 2$<br />\n",
    "$\\quad \\quad a_2=3, \\frac 2 {\\sqrt{23}-3}=\\frac {2(\\sqrt{23}+3)} {14}=1+\\frac {\\sqrt{23}-4} 7$<br />\n",
    "$\\quad \\quad a_3=1, \\frac 7 {\\sqrt{23}-4}=\\frac {7(\\sqrt{23}+4)} 7=8+\\sqrt{23}-4$<br />\n",
    "$\\quad \\quad a_4=8, \\frac 1 {\\sqrt{23}-4}=\\frac {\\sqrt{23}+4} 7=1+\\frac {\\sqrt{23}-3} 7$<br />\n",
    "$\\quad \\quad a_5=1, \\frac 7 {\\sqrt{23}-3}=\\frac {7 (\\sqrt{23}+3)} {14}=3+\\frac {\\sqrt{23}-3} 2$<br />\n",
    "\n",
    "$\\quad \\quad a_6=3, \\frac 2 {\\sqrt{23}-3}=\\frac {2(\\sqrt{23}+3)} {14}=1+\\frac {\\sqrt{23}-4} 7$<br />\n",
    "$\\quad \\quad a_7=1, \\frac 7 {\\sqrt{23}-4}=\\frac {7(\\sqrt{23}+4)} {7}=8+\\sqrt{23}-4$<br /></p>\n",
    "\n",
    "<p>It can be seen that the sequence is repeating. For conciseness, we use the notation $\\sqrt{23}=[4;(1,3,1,8)]$, to indicate that the block (1,3,1,8) repeats indefinitely.</p>\n",
    "\n",
    "<p>The first ten continued fraction representations of (irrational) square roots are:</p>\n",
    "<p>\n",
    "$\\quad \\quad \\sqrt{2}=[1;(2)]$, period=$1$<br />\n",
    "$\\quad \\quad \\sqrt{3}=[1;(1,2)]$, period=$2$<br />\n",
    "$\\quad \\quad \\sqrt{5}=[2;(4)]$, period=$1$<br />\n",
    "$\\quad \\quad \\sqrt{6}=[2;(2,4)]$, period=$2$<br />\n",
    "$\\quad \\quad \\sqrt{7}=[2;(1,1,1,4)]$, period=$4$<br />\n",
    "$\\quad \\quad \\sqrt{8}=[2;(1,4)]$, period=$2$<br />\n",
    "$\\quad \\quad \\sqrt{10}=[3;(6)]$, period=$1$<br />\n",
    "$\\quad \\quad \\sqrt{11}=[3;(3,6)]$, period=$2$<br />\n",
    "$\\quad \\quad \\sqrt{12}=[3;(2,6)]$, period=$2$<br />\n",
    "$\\quad \\quad \\sqrt{13}=[3;(1,1,1,1,6)]$, period=$5$\n",
    "</p>\n",
    "<p>Exactly four continued fractions, for $N \\le 13$, have an odd period.</p>\n",
    "<p>How many continued fractions for $N \\le 10\\,000$ have an odd period?</p>\n"
   ]
  },
  {
   "cell_type": "markdown",
   "id": "12e38f12",
   "metadata": {},
   "source": [
    "**Solution(s):**\n",
    "We consider the pairs of numbers $[a,b]$ after the manipulations that get us the expression $a/(\\sqrt{n}-b)$ for a value less than $1$. The cycle starts over again if and only if we have the same pair of numbers as the first pair. The first pair is straightforward to compute, and we explain the process for later steps in 3 steps.\n",
    "\n",
    "To compute the initial pair, notice that we always take $\\sqrt{n} = m + \\sqrt{n} - m = m + \\frac{1}{1/(\\sqrt{n} -m)}$ with $m = \\lfloor n^{1/2} \\rfloor^2$. This gives us that our first pair $[a,b] = [1,m]$. Given some pair $[a,b]$, the next steps are:\n",
    "\n",
    "**Step 1**\n",
    "Rationalize the denominator. This is simple enough and gives us a numerator and denominator. We cancel out common factors to help with the arithmetic. If our new denominator is 1, then we're done. \n",
    "\n",
    "**Step 2**\n",
    "Subtract off copies of the denominator until the resulting fraction is less than 1. \n",
    "\n",
    "**Step 3**\n",
    "Set the new pair accordingly."
   ]
  },
  {
   "cell_type": "code",
   "execution_count": null,
   "id": "b4645283",
   "metadata": {},
   "outputs": [],
   "source": [
    "import math"
   ]
  },
  {
   "cell_type": "code",
   "execution_count": null,
   "id": "ee4f294d",
   "metadata": {},
   "outputs": [],
   "source": [
    "odds = 0                                                                            # count of how many have odd periods\n",
    "a = [i for i in range(10001) if abs(i**(1/2) -math.floor(i**(1/2))) > .0001]        # list of non-squares\n",
    "for i in a:\n",
    "    count = 0                                                                       # count how many iterations we do\n",
    "    pair = [1,int(math.floor(i**(1/2)))]                                            # first pair of numbers\n",
    "    newPair = pair                                                                  # The current pair of numbers\n",
    "\n",
    "    while pair != newPair or not count:\n",
    "        temp = newPair\n",
    "        \n",
    "        # Step 1\n",
    "        # Find the auxiliary denominator and numerator.\n",
    "        denom = (i - temp[1]**2)//temp[0]\n",
    "        if denom == 1:\n",
    "            count += 1\n",
    "            break\n",
    "        g = math.gcd(temp[0], denom)\n",
    "        temp[0] /= g\n",
    "        num = (i**(1/2) + temp[1])\n",
    "        \n",
    "        # Step 2\n",
    "        # Next we'll subtract off the term in the square root to give us a number that's less than 1\n",
    "        while num / denom >= 1:\n",
    "            num -= denom\n",
    "        \n",
    "        # Step 3\n",
    "        # Set our current pair by flipping the fraction\n",
    "        newPair = [int(denom), round(i**(1/2) - num)]\n",
    "        count += 1  \n",
    "    odds += (count % 2)                                                              # add to our count of odd cycles if odd\n",
    "odds"
   ]
  }
 ],
 "metadata": {
  "kernelspec": {
   "display_name": "Python 3 (ipykernel)",
   "language": "python",
   "name": "python3"
  },
  "language_info": {
   "codemirror_mode": {
    "name": "ipython",
    "version": 3
   },
   "file_extension": ".py",
   "mimetype": "text/x-python",
   "name": "python",
   "nbconvert_exporter": "python",
   "pygments_lexer": "ipython3",
   "version": "3.9.13"
  }
 },
 "nbformat": 4,
 "nbformat_minor": 5
}
