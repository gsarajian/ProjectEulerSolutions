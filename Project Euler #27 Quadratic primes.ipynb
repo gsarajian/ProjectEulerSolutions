{
 "cells": [
  {
   "cell_type": "markdown",
   "id": "17f372f0",
   "metadata": {},
   "source": [
    "## Euler discovered the remarkable quadratic formula:\n",
    "\n",
    "$$n^2 + n + 41$$\n",
    "\n",
    "## It turns out that the formula will produce 40 primes for the consecutive integer values $0 \\leq n \\leq 39$. However, when $n = 40$, $40^2 + 40 + 41 = 40(40 + 1) + 41$ is divisible by 41, and certainly when $n = 41$, $41^2 + 41 + 41$ is clearly divisible by 41.\n",
    "\n",
    "## The incredible formula $n^2 - 79 n + 1601$ was discovered, which produces 80 primes for the consecutive values $0 \\leq n \\leq 79$. The product of the coefficients, −79 and 1601, is −126479.\n",
    "\n",
    "## Considering quadratics of the form $n^2 + an + b$, where $|a| < 1000$ and $b \\leq 1000$ \n",
    "\n",
    "## where $|n|$ is the modulus/absolute value of $n$, e.g. $|11| = 11$ and $|-4| = 4$\n",
    "## Find the product of the coefficients, $a$ and $b$, for the quadratic expression that produces the maximum number of primes for consecutive values of $n$, starting with $n = 0$.\n"
   ]
  },
  {
   "cell_type": "markdown",
   "id": "00f29661",
   "metadata": {},
   "source": [
    "**Solution(s):**\n",
    "\n",
    "We loop over all of the relevant $a$ and $b$ checking how many consecutive primes values there are. Instead of individually checking if a number is prime, it'll be quicker to have a set of prime values and check that set to determine if some value is prime. If $n = b$, then the value $b^2 + ab + b$ is divisible by $b$, so it's not prime. Therefore, we only need primes up to the largest possible value of $b$, which is $1000$."
   ]
  },
  {
   "cell_type": "code",
   "execution_count": null,
   "id": "e5c82206",
   "metadata": {},
   "outputs": [],
   "source": [
    "from math import ceil"
   ]
  },
  {
   "cell_type": "code",
   "execution_count": null,
   "id": "b7c3326d",
   "metadata": {},
   "outputs": [],
   "source": [
    "def primesLessThan(n):\n",
    "    # This function was originally used in our solution to problem 10\n",
    "    primes = [[2,1]]        #the second component is positive iff the first component is a prime.\n",
    "    bgstPrime = primes[-1][0] #biggest prime in our list\n",
    "    while bgstPrime < n:\n",
    "        cands = [[i,1] for i in range(bgstPrime**2)] #generate a list of candidates\n",
    "        for pr in primes:\n",
    "            p = pr[0]\n",
    "            for k in range(ceil(bgstPrime**2/p)):\n",
    "                cands[k*p][1] -= 1 #this is crossing off the multiples of our previous primes\n",
    "        cands[1][1] -= 1    #eliminate 1 from consideration as a prime\n",
    "        newPrimes = [m for m in cands if m[1] > 0]\n",
    "        primes.extend(newPrimes)\n",
    "        bgstPrime = primes[-1][0]\n",
    "    return [m[0] for m in primes if m[0] <= n]"
   ]
  },
  {
   "cell_type": "code",
   "execution_count": null,
   "id": "90d0b413",
   "metadata": {},
   "outputs": [],
   "source": [
    "mxConsec = 1 # keeps track of the longest chain of consecutive prime values \n",
    "for a in range(-999, 1000):\n",
    "    for b in range(1001):\n",
    "        pmVal = b in primeSet         # checking if n = 0 gives a prime\n",
    "        i = 1\n",
    "        while pmVal:\n",
    "            pmVal = i**2 + a*i + b in primeSet\n",
    "            i += 1\n",
    "        if i > mxConsec: \n",
    "            mxConsec = i\n",
    "            prod = a*b\n",
    "            vals = [a,b]\n",
    "print(prod, vals)"
   ]
  }
 ],
 "metadata": {
  "kernelspec": {
   "display_name": "Python 3 (ipykernel)",
   "language": "python",
   "name": "python3"
  },
  "language_info": {
   "codemirror_mode": {
    "name": "ipython",
    "version": 3
   },
   "file_extension": ".py",
   "mimetype": "text/x-python",
   "name": "python",
   "nbconvert_exporter": "python",
   "pygments_lexer": "ipython3",
   "version": "3.10.6"
  }
 },
 "nbformat": 4,
 "nbformat_minor": 5
}
