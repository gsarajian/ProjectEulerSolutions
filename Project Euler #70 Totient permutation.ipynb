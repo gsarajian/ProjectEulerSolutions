{
 "cells": [
  {
   "cell_type": "markdown",
   "id": "8b1c21b9",
   "metadata": {},
   "source": [
    "<p>Euler's Totient function, φ(<var>n</var>) [sometimes called the phi function], is used to determine the number of positive numbers less than or equal to <var>n</var> which are relatively prime to <var>n</var>. For example, as 1, 2, 4, 5, 7, and 8, are all less than nine and relatively prime to nine, φ(9)=6.<br />The number 1 is considered to be relatively prime to every positive number, so φ(1)=1. </p>\n",
    "<p>Interestingly, φ(87109)=79180, and it can be seen that 87109 is a permutation of 79180.</p>\n",
    "<p>Find the value of <var>n</var>, 1 &lt; <var>n</var> &lt; 10<sup>7</sup>, for which φ(<var>n</var>) is a permutation of <var>n</var> and the ratio <var>n</var>/φ(<var>n</var>) produces a minimum.</p>\n"
   ]
  },
  {
   "cell_type": "markdown",
   "id": "12e38f12",
   "metadata": {},
   "source": [
    "**Solution(s):**\n",
    "Note that $\\phi(n) = n \\prod_{p|n} (1-1/p)$, so for the ratio of $n/\\phi(n)$ to be minimized, we want the product over the primes to be as big as possible. Each factor in the the product of primes is less than one, so the fewer primes involved the better. No prime will be a permutation of $\\phi(p)$ since $\\phi(p) = p-1$, so we check products of two primes. It likely isn't too hard to compute the exact reason why a product of three primes won't suffice, but we'll skip that for now."
   ]
  },
  {
   "cell_type": "code",
   "execution_count": null,
   "id": "feda79c5",
   "metadata": {},
   "outputs": [],
   "source": [
    "from math import ceil, sqrt, floor, gcd"
   ]
  },
  {
   "cell_type": "code",
   "execution_count": null,
   "id": "82c72aa8",
   "metadata": {},
   "outputs": [],
   "source": [
    "def primesLessThan(n):\n",
    "    # A function that returns an array of all the primes less than or equal to n\n",
    "    primes = [2]        # the second component is positive iff the first component is a prime.\n",
    "    cands = [1 for i in range(n+1)]\n",
    "    bgstPrime = primes[-1] # biggest prime in our list\n",
    "    i = 2\n",
    "    while bgstPrime <= sqrt(n):\n",
    "        pr = i\n",
    "        for k in range(ceil((n+1)/pr)):\n",
    "            cands[k*pr] -= 1 # this is crossing off the multiples of our previous primes\n",
    "        i += 1\n",
    "        while cands[i] <= 0:\n",
    "            i += 1\n",
    "        primes.append(i)\n",
    "        bgstPrime = i\n",
    "    primes.extend([a for a in range(i+1,n+1) if cands[a]>0])\n",
    "    return [m for m in primes if m <= n]"
   ]
  },
  {
   "cell_type": "code",
   "execution_count": null,
   "id": "dcd332ae",
   "metadata": {
    "scrolled": true
   },
   "outputs": [],
   "source": [
    "primes = primesLessThan(floor(10**(4)))                   # generate a list of primes up to 10^6"
   ]
  },
  {
   "cell_type": "code",
   "execution_count": null,
   "id": "5c6abc02",
   "metadata": {},
   "outputs": [],
   "source": [
    "mn = 1.001\n",
    "curmn = 0\n",
    "for p1 in primes:\n",
    "    for p2 in primes:\n",
    "        n = p1*p2\n",
    "        cnt = (p1-1)*(p2-1)\n",
    "        rat = n / cnt\n",
    "        if rat < mn and n < 10**7:\n",
    "            s1 = list(str(n))\n",
    "            s2 = list(str(cnt))\n",
    "            s1.sort()\n",
    "            s2.sort()\n",
    "            # print(n, s1, s2)\n",
    "            if s1 == s2:\n",
    "                mn = rat\n",
    "                curmn = n\n",
    "                print(\"New min!\", p1, p2, n, rat)"
   ]
  }
 ],
 "metadata": {
  "kernelspec": {
   "display_name": "Python 3 (ipykernel)",
   "language": "python",
   "name": "python3"
  },
  "language_info": {
   "codemirror_mode": {
    "name": "ipython",
    "version": 3
   },
   "file_extension": ".py",
   "mimetype": "text/x-python",
   "name": "python",
   "nbconvert_exporter": "python",
   "pygments_lexer": "ipython3",
   "version": "3.9.13"
  }
 },
 "nbformat": 4,
 "nbformat_minor": 5
}
