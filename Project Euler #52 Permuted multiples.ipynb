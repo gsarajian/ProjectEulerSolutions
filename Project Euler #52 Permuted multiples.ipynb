{
 "cells": [
  {
   "cell_type": "markdown",
   "id": "8b1c21b9",
   "metadata": {},
   "source": [
    "## It can be seen that the number, 125874, and its double, 251748, contain exactly the same digits, but in a different order.\n",
    "\n",
    "## Find the smallest positive integer, $x$, such that $2x, 3x, 4x, 5x$, and $6x$, contain the same digits."
   ]
  },
  {
   "cell_type": "markdown",
   "id": "12e38f12",
   "metadata": {},
   "source": [
    "**Solution(s):**\n",
    "We loop through the integers, computing the six multiples and checking to see if the multiples have the same digits. We don't need to loop through all integers, since for \"most\" $x$, $6x$ will have more digits than $x$, so we restrict the values of $x$ that we'll check. To compare the digits of the multiples, we convert the multiples into lists of strings and then sort the lists and check if the lists are the same.  "
   ]
  },
  {
   "cell_type": "code",
   "execution_count": null,
   "id": "feda79c5",
   "metadata": {},
   "outputs": [],
   "source": [
    "from math import ceil, sqrt, floor"
   ]
  },
  {
   "cell_type": "code",
   "execution_count": null,
   "id": "ee4f294d",
   "metadata": {},
   "outputs": [],
   "source": [
    "digits = 1           # To help us go through different amounts of digits\n",
    "\n",
    "found = False\n",
    "while not found:\n",
    "    i = 10**digits     # starting value for numbers of a certain number of digits.\n",
    "    \n",
    "    while i <floor(10**(digits +1)/6) and not found:    # cuts off when we found the number, or when 6*i has more digits than i\n",
    "        family = [i*j for j in range(2,7)]            # multiples that we'll check\n",
    "        sameDigs = True\n",
    "        s = list(str(i))                              # convert i into a list of strings\n",
    "        s.sort()                                      # sort that list\n",
    "        for multiple in family:\n",
    "            multString = list(str(multiple))          # convert the multiple into a list of strings\n",
    "            multString.sort()                         # sort the list\n",
    "            sameDigs = sameDigs and s == multString   # check if the digits of i are the same as the multiple.\n",
    "        found = sameDigs\n",
    "        if found:\n",
    "            print(\"We found it!\", i, family)\n",
    "        i+=1\n",
    "    digits += 1"
   ]
  }
 ],
 "metadata": {
  "kernelspec": {
   "display_name": "Python 3 (ipykernel)",
   "language": "python",
   "name": "python3"
  },
  "language_info": {
   "codemirror_mode": {
    "name": "ipython",
    "version": 3
   },
   "file_extension": ".py",
   "mimetype": "text/x-python",
   "name": "python",
   "nbconvert_exporter": "python",
   "pygments_lexer": "ipython3",
   "version": "3.9.13"
  }
 },
 "nbformat": 4,
 "nbformat_minor": 5
}
